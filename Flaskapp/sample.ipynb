{
 "metadata": {
  "language_info": {
   "codemirror_mode": {
    "name": "ipython",
    "version": 3
   },
   "file_extension": ".py",
   "mimetype": "text/x-python",
   "name": "python",
   "nbconvert_exporter": "python",
   "pygments_lexer": "ipython3",
   "version": "3.8.5-final"
  },
  "orig_nbformat": 2,
  "kernelspec": {
   "name": "python3",
   "display_name": "Python 3",
   "language": "python"
  }
 },
 "nbformat": 4,
 "nbformat_minor": 2,
 "cells": [
  {
   "cell_type": "code",
   "execution_count": 1,
   "metadata": {},
   "outputs": [],
   "source": [
    "from sklearn.model_selection import train_test_split\n",
    "from sklearn.ensemble import AdaBoostRegressor\n",
    "\n",
    "import pandas as pd\n",
    "import numpy as np\n",
    "\n",
    "import pickle"
   ]
  },
  {
   "cell_type": "code",
   "execution_count": 2,
   "metadata": {},
   "outputs": [
    {
     "output_type": "execute_result",
     "data": {
      "text/plain": [
       "       Unnamed: 0        date     month  hour holiday  weekday Member type  \\\n",
       "0               0  2018-01-01   January     0      No   Monday      Casual   \n",
       "1               1  2018-01-01   January     0      No   Monday      Member   \n",
       "2               2  2018-01-01   January     1      No   Monday      Casual   \n",
       "3               3  2018-01-01   January     1      No   Monday      Member   \n",
       "4               4  2018-01-01   January     2      No   Monday      Casual   \n",
       "...           ...         ...       ...   ...     ...      ...         ...   \n",
       "33905       33905  2019-12-31  December    21      No  Tuesday      Member   \n",
       "33906       33906  2019-12-31  December    22      No  Tuesday      Casual   \n",
       "33907       33907  2019-12-31  December    22      No  Tuesday      Member   \n",
       "33908       33908  2019-12-31  December    23      No  Tuesday      Casual   \n",
       "33909       33909  2019-12-31  December    23      No  Tuesday      Member   \n",
       "\n",
       "       count  \n",
       "0          6  \n",
       "1         28  \n",
       "2         11  \n",
       "3         38  \n",
       "4          7  \n",
       "...      ...  \n",
       "33905    101  \n",
       "33906      9  \n",
       "33907     71  \n",
       "33908     24  \n",
       "33909     83  \n",
       "\n",
       "[33910 rows x 8 columns]"
      ],
      "text/html": "<div>\n<style scoped>\n    .dataframe tbody tr th:only-of-type {\n        vertical-align: middle;\n    }\n\n    .dataframe tbody tr th {\n        vertical-align: top;\n    }\n\n    .dataframe thead th {\n        text-align: right;\n    }\n</style>\n<table border=\"1\" class=\"dataframe\">\n  <thead>\n    <tr style=\"text-align: right;\">\n      <th></th>\n      <th>Unnamed: 0</th>\n      <th>date</th>\n      <th>month</th>\n      <th>hour</th>\n      <th>holiday</th>\n      <th>weekday</th>\n      <th>Member type</th>\n      <th>count</th>\n    </tr>\n  </thead>\n  <tbody>\n    <tr>\n      <th>0</th>\n      <td>0</td>\n      <td>2018-01-01</td>\n      <td>January</td>\n      <td>0</td>\n      <td>No</td>\n      <td>Monday</td>\n      <td>Casual</td>\n      <td>6</td>\n    </tr>\n    <tr>\n      <th>1</th>\n      <td>1</td>\n      <td>2018-01-01</td>\n      <td>January</td>\n      <td>0</td>\n      <td>No</td>\n      <td>Monday</td>\n      <td>Member</td>\n      <td>28</td>\n    </tr>\n    <tr>\n      <th>2</th>\n      <td>2</td>\n      <td>2018-01-01</td>\n      <td>January</td>\n      <td>1</td>\n      <td>No</td>\n      <td>Monday</td>\n      <td>Casual</td>\n      <td>11</td>\n    </tr>\n    <tr>\n      <th>3</th>\n      <td>3</td>\n      <td>2018-01-01</td>\n      <td>January</td>\n      <td>1</td>\n      <td>No</td>\n      <td>Monday</td>\n      <td>Member</td>\n      <td>38</td>\n    </tr>\n    <tr>\n      <th>4</th>\n      <td>4</td>\n      <td>2018-01-01</td>\n      <td>January</td>\n      <td>2</td>\n      <td>No</td>\n      <td>Monday</td>\n      <td>Casual</td>\n      <td>7</td>\n    </tr>\n    <tr>\n      <th>...</th>\n      <td>...</td>\n      <td>...</td>\n      <td>...</td>\n      <td>...</td>\n      <td>...</td>\n      <td>...</td>\n      <td>...</td>\n      <td>...</td>\n    </tr>\n    <tr>\n      <th>33905</th>\n      <td>33905</td>\n      <td>2019-12-31</td>\n      <td>December</td>\n      <td>21</td>\n      <td>No</td>\n      <td>Tuesday</td>\n      <td>Member</td>\n      <td>101</td>\n    </tr>\n    <tr>\n      <th>33906</th>\n      <td>33906</td>\n      <td>2019-12-31</td>\n      <td>December</td>\n      <td>22</td>\n      <td>No</td>\n      <td>Tuesday</td>\n      <td>Casual</td>\n      <td>9</td>\n    </tr>\n    <tr>\n      <th>33907</th>\n      <td>33907</td>\n      <td>2019-12-31</td>\n      <td>December</td>\n      <td>22</td>\n      <td>No</td>\n      <td>Tuesday</td>\n      <td>Member</td>\n      <td>71</td>\n    </tr>\n    <tr>\n      <th>33908</th>\n      <td>33908</td>\n      <td>2019-12-31</td>\n      <td>December</td>\n      <td>23</td>\n      <td>No</td>\n      <td>Tuesday</td>\n      <td>Casual</td>\n      <td>24</td>\n    </tr>\n    <tr>\n      <th>33909</th>\n      <td>33909</td>\n      <td>2019-12-31</td>\n      <td>December</td>\n      <td>23</td>\n      <td>No</td>\n      <td>Tuesday</td>\n      <td>Member</td>\n      <td>83</td>\n    </tr>\n  </tbody>\n</table>\n<p>33910 rows × 8 columns</p>\n</div>"
     },
     "metadata": {},
     "execution_count": 2
    }
   ],
   "source": [
    "## read the file\n",
    "\n",
    "df=pd.read_csv('newdata1.csv')\n",
    "df"
   ]
  },
  {
   "cell_type": "code",
   "execution_count": 3,
   "metadata": {},
   "outputs": [
    {
     "output_type": "execute_result",
     "data": {
      "text/plain": [
       "       hour     month holiday  weekday Member type  count\n",
       "0         0   January      No   Monday      Casual      6\n",
       "1         0   January      No   Monday      Member     28\n",
       "2         1   January      No   Monday      Casual     11\n",
       "3         1   January      No   Monday      Member     38\n",
       "4         2   January      No   Monday      Casual      7\n",
       "...     ...       ...     ...      ...         ...    ...\n",
       "33905    21  December      No  Tuesday      Member    101\n",
       "33906    22  December      No  Tuesday      Casual      9\n",
       "33907    22  December      No  Tuesday      Member     71\n",
       "33908    23  December      No  Tuesday      Casual     24\n",
       "33909    23  December      No  Tuesday      Member     83\n",
       "\n",
       "[33910 rows x 6 columns]"
      ],
      "text/html": "<div>\n<style scoped>\n    .dataframe tbody tr th:only-of-type {\n        vertical-align: middle;\n    }\n\n    .dataframe tbody tr th {\n        vertical-align: top;\n    }\n\n    .dataframe thead th {\n        text-align: right;\n    }\n</style>\n<table border=\"1\" class=\"dataframe\">\n  <thead>\n    <tr style=\"text-align: right;\">\n      <th></th>\n      <th>hour</th>\n      <th>month</th>\n      <th>holiday</th>\n      <th>weekday</th>\n      <th>Member type</th>\n      <th>count</th>\n    </tr>\n  </thead>\n  <tbody>\n    <tr>\n      <th>0</th>\n      <td>0</td>\n      <td>January</td>\n      <td>No</td>\n      <td>Monday</td>\n      <td>Casual</td>\n      <td>6</td>\n    </tr>\n    <tr>\n      <th>1</th>\n      <td>0</td>\n      <td>January</td>\n      <td>No</td>\n      <td>Monday</td>\n      <td>Member</td>\n      <td>28</td>\n    </tr>\n    <tr>\n      <th>2</th>\n      <td>1</td>\n      <td>January</td>\n      <td>No</td>\n      <td>Monday</td>\n      <td>Casual</td>\n      <td>11</td>\n    </tr>\n    <tr>\n      <th>3</th>\n      <td>1</td>\n      <td>January</td>\n      <td>No</td>\n      <td>Monday</td>\n      <td>Member</td>\n      <td>38</td>\n    </tr>\n    <tr>\n      <th>4</th>\n      <td>2</td>\n      <td>January</td>\n      <td>No</td>\n      <td>Monday</td>\n      <td>Casual</td>\n      <td>7</td>\n    </tr>\n    <tr>\n      <th>...</th>\n      <td>...</td>\n      <td>...</td>\n      <td>...</td>\n      <td>...</td>\n      <td>...</td>\n      <td>...</td>\n    </tr>\n    <tr>\n      <th>33905</th>\n      <td>21</td>\n      <td>December</td>\n      <td>No</td>\n      <td>Tuesday</td>\n      <td>Member</td>\n      <td>101</td>\n    </tr>\n    <tr>\n      <th>33906</th>\n      <td>22</td>\n      <td>December</td>\n      <td>No</td>\n      <td>Tuesday</td>\n      <td>Casual</td>\n      <td>9</td>\n    </tr>\n    <tr>\n      <th>33907</th>\n      <td>22</td>\n      <td>December</td>\n      <td>No</td>\n      <td>Tuesday</td>\n      <td>Member</td>\n      <td>71</td>\n    </tr>\n    <tr>\n      <th>33908</th>\n      <td>23</td>\n      <td>December</td>\n      <td>No</td>\n      <td>Tuesday</td>\n      <td>Casual</td>\n      <td>24</td>\n    </tr>\n    <tr>\n      <th>33909</th>\n      <td>23</td>\n      <td>December</td>\n      <td>No</td>\n      <td>Tuesday</td>\n      <td>Member</td>\n      <td>83</td>\n    </tr>\n  </tbody>\n</table>\n<p>33910 rows × 6 columns</p>\n</div>"
     },
     "metadata": {},
     "execution_count": 3
    }
   ],
   "source": [
    "df = df[['hour','month','holiday', 'weekday','Member type','count']]\n",
    "df"
   ]
  },
  {
   "cell_type": "code",
   "execution_count": 4,
   "metadata": {},
   "outputs": [
    {
     "output_type": "execute_result",
     "data": {
      "text/plain": [
       "       hour     month holiday  weekday Member_type  count\n",
       "0         0   January      No   Monday      Casual      6\n",
       "1         0   January      No   Monday      Member     28\n",
       "2         1   January      No   Monday      Casual     11\n",
       "3         1   January      No   Monday      Member     38\n",
       "4         2   January      No   Monday      Casual      7\n",
       "...     ...       ...     ...      ...         ...    ...\n",
       "33905    21  December      No  Tuesday      Member    101\n",
       "33906    22  December      No  Tuesday      Casual      9\n",
       "33907    22  December      No  Tuesday      Member     71\n",
       "33908    23  December      No  Tuesday      Casual     24\n",
       "33909    23  December      No  Tuesday      Member     83\n",
       "\n",
       "[33910 rows x 6 columns]"
      ],
      "text/html": "<div>\n<style scoped>\n    .dataframe tbody tr th:only-of-type {\n        vertical-align: middle;\n    }\n\n    .dataframe tbody tr th {\n        vertical-align: top;\n    }\n\n    .dataframe thead th {\n        text-align: right;\n    }\n</style>\n<table border=\"1\" class=\"dataframe\">\n  <thead>\n    <tr style=\"text-align: right;\">\n      <th></th>\n      <th>hour</th>\n      <th>month</th>\n      <th>holiday</th>\n      <th>weekday</th>\n      <th>Member_type</th>\n      <th>count</th>\n    </tr>\n  </thead>\n  <tbody>\n    <tr>\n      <th>0</th>\n      <td>0</td>\n      <td>January</td>\n      <td>No</td>\n      <td>Monday</td>\n      <td>Casual</td>\n      <td>6</td>\n    </tr>\n    <tr>\n      <th>1</th>\n      <td>0</td>\n      <td>January</td>\n      <td>No</td>\n      <td>Monday</td>\n      <td>Member</td>\n      <td>28</td>\n    </tr>\n    <tr>\n      <th>2</th>\n      <td>1</td>\n      <td>January</td>\n      <td>No</td>\n      <td>Monday</td>\n      <td>Casual</td>\n      <td>11</td>\n    </tr>\n    <tr>\n      <th>3</th>\n      <td>1</td>\n      <td>January</td>\n      <td>No</td>\n      <td>Monday</td>\n      <td>Member</td>\n      <td>38</td>\n    </tr>\n    <tr>\n      <th>4</th>\n      <td>2</td>\n      <td>January</td>\n      <td>No</td>\n      <td>Monday</td>\n      <td>Casual</td>\n      <td>7</td>\n    </tr>\n    <tr>\n      <th>...</th>\n      <td>...</td>\n      <td>...</td>\n      <td>...</td>\n      <td>...</td>\n      <td>...</td>\n      <td>...</td>\n    </tr>\n    <tr>\n      <th>33905</th>\n      <td>21</td>\n      <td>December</td>\n      <td>No</td>\n      <td>Tuesday</td>\n      <td>Member</td>\n      <td>101</td>\n    </tr>\n    <tr>\n      <th>33906</th>\n      <td>22</td>\n      <td>December</td>\n      <td>No</td>\n      <td>Tuesday</td>\n      <td>Casual</td>\n      <td>9</td>\n    </tr>\n    <tr>\n      <th>33907</th>\n      <td>22</td>\n      <td>December</td>\n      <td>No</td>\n      <td>Tuesday</td>\n      <td>Member</td>\n      <td>71</td>\n    </tr>\n    <tr>\n      <th>33908</th>\n      <td>23</td>\n      <td>December</td>\n      <td>No</td>\n      <td>Tuesday</td>\n      <td>Casual</td>\n      <td>24</td>\n    </tr>\n    <tr>\n      <th>33909</th>\n      <td>23</td>\n      <td>December</td>\n      <td>No</td>\n      <td>Tuesday</td>\n      <td>Member</td>\n      <td>83</td>\n    </tr>\n  </tbody>\n</table>\n<p>33910 rows × 6 columns</p>\n</div>"
     },
     "metadata": {},
     "execution_count": 4
    }
   ],
   "source": [
    "df.columns = [ 'hour','month','holiday','weekday','Member_type','count']\n",
    "df"
   ]
  },
  {
   "cell_type": "code",
   "execution_count": 5,
   "metadata": {},
   "outputs": [],
   "source": [
    "df.holiday = df.holiday.astype('category')\n",
    "df.weekday = df.weekday.astype('category')\n",
    "df.month = df.month.astype('category')\n",
    "df.Member_type = df.Member_type.astype('category')\n"
   ]
  },
  {
   "cell_type": "code",
   "execution_count": 6,
   "metadata": {},
   "outputs": [
    {
     "output_type": "execute_result",
     "data": {
      "text/plain": [
       "hour              int64\n",
       "month          category\n",
       "holiday        category\n",
       "weekday        category\n",
       "Member_type    category\n",
       "count             int64\n",
       "dtype: object"
      ]
     },
     "metadata": {},
     "execution_count": 6
    }
   ],
   "source": [
    "df.dtypes"
   ]
  },
  {
   "cell_type": "code",
   "execution_count": 7,
   "metadata": {},
   "outputs": [
    {
     "output_type": "execute_result",
     "data": {
      "text/plain": [
       "       hour  count  month_April  month_August  month_December  month_February  \\\n",
       "0         0      6            0             0               0               0   \n",
       "1         0     28            0             0               0               0   \n",
       "2         1     11            0             0               0               0   \n",
       "3         1     38            0             0               0               0   \n",
       "4         2      7            0             0               0               0   \n",
       "...     ...    ...          ...           ...             ...             ...   \n",
       "33905    21    101            0             0               1               0   \n",
       "33906    22      9            0             0               1               0   \n",
       "33907    22     71            0             0               1               0   \n",
       "33908    23     24            0             0               1               0   \n",
       "33909    23     83            0             0               1               0   \n",
       "\n",
       "       month_January  month_July  month_June  month_March  ...  holiday_Yes  \\\n",
       "0                  1           0           0            0  ...            0   \n",
       "1                  1           0           0            0  ...            0   \n",
       "2                  1           0           0            0  ...            0   \n",
       "3                  1           0           0            0  ...            0   \n",
       "4                  1           0           0            0  ...            0   \n",
       "...              ...         ...         ...          ...  ...          ...   \n",
       "33905              0           0           0            0  ...            0   \n",
       "33906              0           0           0            0  ...            0   \n",
       "33907              0           0           0            0  ...            0   \n",
       "33908              0           0           0            0  ...            0   \n",
       "33909              0           0           0            0  ...            0   \n",
       "\n",
       "       weekday_Friday  weekday_Monday  weekday_Saturday  weekday_Sunday  \\\n",
       "0                   0               1                 0               0   \n",
       "1                   0               1                 0               0   \n",
       "2                   0               1                 0               0   \n",
       "3                   0               1                 0               0   \n",
       "4                   0               1                 0               0   \n",
       "...               ...             ...               ...             ...   \n",
       "33905               0               0                 0               0   \n",
       "33906               0               0                 0               0   \n",
       "33907               0               0                 0               0   \n",
       "33908               0               0                 0               0   \n",
       "33909               0               0                 0               0   \n",
       "\n",
       "       weekday_Thursday  weekday_Tuesday  weekday_Wednesday  \\\n",
       "0                     0                0                  0   \n",
       "1                     0                0                  0   \n",
       "2                     0                0                  0   \n",
       "3                     0                0                  0   \n",
       "4                     0                0                  0   \n",
       "...                 ...              ...                ...   \n",
       "33905                 0                1                  0   \n",
       "33906                 0                1                  0   \n",
       "33907                 0                1                  0   \n",
       "33908                 0                1                  0   \n",
       "33909                 0                1                  0   \n",
       "\n",
       "       Member_type_Casual  Member_type_Member  \n",
       "0                       1                   0  \n",
       "1                       0                   1  \n",
       "2                       1                   0  \n",
       "3                       0                   1  \n",
       "4                       1                   0  \n",
       "...                   ...                 ...  \n",
       "33905                   0                   1  \n",
       "33906                   1                   0  \n",
       "33907                   0                   1  \n",
       "33908                   1                   0  \n",
       "33909                   0                   1  \n",
       "\n",
       "[33910 rows x 25 columns]"
      ],
      "text/html": "<div>\n<style scoped>\n    .dataframe tbody tr th:only-of-type {\n        vertical-align: middle;\n    }\n\n    .dataframe tbody tr th {\n        vertical-align: top;\n    }\n\n    .dataframe thead th {\n        text-align: right;\n    }\n</style>\n<table border=\"1\" class=\"dataframe\">\n  <thead>\n    <tr style=\"text-align: right;\">\n      <th></th>\n      <th>hour</th>\n      <th>count</th>\n      <th>month_April</th>\n      <th>month_August</th>\n      <th>month_December</th>\n      <th>month_February</th>\n      <th>month_January</th>\n      <th>month_July</th>\n      <th>month_June</th>\n      <th>month_March</th>\n      <th>...</th>\n      <th>holiday_Yes</th>\n      <th>weekday_Friday</th>\n      <th>weekday_Monday</th>\n      <th>weekday_Saturday</th>\n      <th>weekday_Sunday</th>\n      <th>weekday_Thursday</th>\n      <th>weekday_Tuesday</th>\n      <th>weekday_Wednesday</th>\n      <th>Member_type_Casual</th>\n      <th>Member_type_Member</th>\n    </tr>\n  </thead>\n  <tbody>\n    <tr>\n      <th>0</th>\n      <td>0</td>\n      <td>6</td>\n      <td>0</td>\n      <td>0</td>\n      <td>0</td>\n      <td>0</td>\n      <td>1</td>\n      <td>0</td>\n      <td>0</td>\n      <td>0</td>\n      <td>...</td>\n      <td>0</td>\n      <td>0</td>\n      <td>1</td>\n      <td>0</td>\n      <td>0</td>\n      <td>0</td>\n      <td>0</td>\n      <td>0</td>\n      <td>1</td>\n      <td>0</td>\n    </tr>\n    <tr>\n      <th>1</th>\n      <td>0</td>\n      <td>28</td>\n      <td>0</td>\n      <td>0</td>\n      <td>0</td>\n      <td>0</td>\n      <td>1</td>\n      <td>0</td>\n      <td>0</td>\n      <td>0</td>\n      <td>...</td>\n      <td>0</td>\n      <td>0</td>\n      <td>1</td>\n      <td>0</td>\n      <td>0</td>\n      <td>0</td>\n      <td>0</td>\n      <td>0</td>\n      <td>0</td>\n      <td>1</td>\n    </tr>\n    <tr>\n      <th>2</th>\n      <td>1</td>\n      <td>11</td>\n      <td>0</td>\n      <td>0</td>\n      <td>0</td>\n      <td>0</td>\n      <td>1</td>\n      <td>0</td>\n      <td>0</td>\n      <td>0</td>\n      <td>...</td>\n      <td>0</td>\n      <td>0</td>\n      <td>1</td>\n      <td>0</td>\n      <td>0</td>\n      <td>0</td>\n      <td>0</td>\n      <td>0</td>\n      <td>1</td>\n      <td>0</td>\n    </tr>\n    <tr>\n      <th>3</th>\n      <td>1</td>\n      <td>38</td>\n      <td>0</td>\n      <td>0</td>\n      <td>0</td>\n      <td>0</td>\n      <td>1</td>\n      <td>0</td>\n      <td>0</td>\n      <td>0</td>\n      <td>...</td>\n      <td>0</td>\n      <td>0</td>\n      <td>1</td>\n      <td>0</td>\n      <td>0</td>\n      <td>0</td>\n      <td>0</td>\n      <td>0</td>\n      <td>0</td>\n      <td>1</td>\n    </tr>\n    <tr>\n      <th>4</th>\n      <td>2</td>\n      <td>7</td>\n      <td>0</td>\n      <td>0</td>\n      <td>0</td>\n      <td>0</td>\n      <td>1</td>\n      <td>0</td>\n      <td>0</td>\n      <td>0</td>\n      <td>...</td>\n      <td>0</td>\n      <td>0</td>\n      <td>1</td>\n      <td>0</td>\n      <td>0</td>\n      <td>0</td>\n      <td>0</td>\n      <td>0</td>\n      <td>1</td>\n      <td>0</td>\n    </tr>\n    <tr>\n      <th>...</th>\n      <td>...</td>\n      <td>...</td>\n      <td>...</td>\n      <td>...</td>\n      <td>...</td>\n      <td>...</td>\n      <td>...</td>\n      <td>...</td>\n      <td>...</td>\n      <td>...</td>\n      <td>...</td>\n      <td>...</td>\n      <td>...</td>\n      <td>...</td>\n      <td>...</td>\n      <td>...</td>\n      <td>...</td>\n      <td>...</td>\n      <td>...</td>\n      <td>...</td>\n      <td>...</td>\n    </tr>\n    <tr>\n      <th>33905</th>\n      <td>21</td>\n      <td>101</td>\n      <td>0</td>\n      <td>0</td>\n      <td>1</td>\n      <td>0</td>\n      <td>0</td>\n      <td>0</td>\n      <td>0</td>\n      <td>0</td>\n      <td>...</td>\n      <td>0</td>\n      <td>0</td>\n      <td>0</td>\n      <td>0</td>\n      <td>0</td>\n      <td>0</td>\n      <td>1</td>\n      <td>0</td>\n      <td>0</td>\n      <td>1</td>\n    </tr>\n    <tr>\n      <th>33906</th>\n      <td>22</td>\n      <td>9</td>\n      <td>0</td>\n      <td>0</td>\n      <td>1</td>\n      <td>0</td>\n      <td>0</td>\n      <td>0</td>\n      <td>0</td>\n      <td>0</td>\n      <td>...</td>\n      <td>0</td>\n      <td>0</td>\n      <td>0</td>\n      <td>0</td>\n      <td>0</td>\n      <td>0</td>\n      <td>1</td>\n      <td>0</td>\n      <td>1</td>\n      <td>0</td>\n    </tr>\n    <tr>\n      <th>33907</th>\n      <td>22</td>\n      <td>71</td>\n      <td>0</td>\n      <td>0</td>\n      <td>1</td>\n      <td>0</td>\n      <td>0</td>\n      <td>0</td>\n      <td>0</td>\n      <td>0</td>\n      <td>...</td>\n      <td>0</td>\n      <td>0</td>\n      <td>0</td>\n      <td>0</td>\n      <td>0</td>\n      <td>0</td>\n      <td>1</td>\n      <td>0</td>\n      <td>0</td>\n      <td>1</td>\n    </tr>\n    <tr>\n      <th>33908</th>\n      <td>23</td>\n      <td>24</td>\n      <td>0</td>\n      <td>0</td>\n      <td>1</td>\n      <td>0</td>\n      <td>0</td>\n      <td>0</td>\n      <td>0</td>\n      <td>0</td>\n      <td>...</td>\n      <td>0</td>\n      <td>0</td>\n      <td>0</td>\n      <td>0</td>\n      <td>0</td>\n      <td>0</td>\n      <td>1</td>\n      <td>0</td>\n      <td>1</td>\n      <td>0</td>\n    </tr>\n    <tr>\n      <th>33909</th>\n      <td>23</td>\n      <td>83</td>\n      <td>0</td>\n      <td>0</td>\n      <td>1</td>\n      <td>0</td>\n      <td>0</td>\n      <td>0</td>\n      <td>0</td>\n      <td>0</td>\n      <td>...</td>\n      <td>0</td>\n      <td>0</td>\n      <td>0</td>\n      <td>0</td>\n      <td>0</td>\n      <td>0</td>\n      <td>1</td>\n      <td>0</td>\n      <td>0</td>\n      <td>1</td>\n    </tr>\n  </tbody>\n</table>\n<p>33910 rows × 25 columns</p>\n</div>"
     },
     "metadata": {},
     "execution_count": 7
    }
   ],
   "source": [
    "## modelling\n",
    "\n",
    "df = pd.get_dummies(df)\n",
    "df"
   ]
  },
  {
   "cell_type": "code",
   "execution_count": 8,
   "metadata": {},
   "outputs": [
    {
     "output_type": "execute_result",
     "data": {
      "text/plain": [
       "hour                  int64\n",
       "count                 int64\n",
       "month_April           uint8\n",
       "month_August          uint8\n",
       "month_December        uint8\n",
       "month_February        uint8\n",
       "month_January         uint8\n",
       "month_July            uint8\n",
       "month_June            uint8\n",
       "month_March           uint8\n",
       "month_May             uint8\n",
       "month_November        uint8\n",
       "month_October         uint8\n",
       "month_September       uint8\n",
       "holiday_No            uint8\n",
       "holiday_Yes           uint8\n",
       "weekday_Friday        uint8\n",
       "weekday_Monday        uint8\n",
       "weekday_Saturday      uint8\n",
       "weekday_Sunday        uint8\n",
       "weekday_Thursday      uint8\n",
       "weekday_Tuesday       uint8\n",
       "weekday_Wednesday     uint8\n",
       "Member_type_Casual    uint8\n",
       "Member_type_Member    uint8\n",
       "dtype: object"
      ]
     },
     "metadata": {},
     "execution_count": 8
    }
   ],
   "source": [
    "df.dtypes"
   ]
  },
  {
   "cell_type": "code",
   "execution_count": 9,
   "metadata": {},
   "outputs": [],
   "source": [
    "## modelling\n",
    "\n",
    "x = df.drop(columns = ['count'])\n",
    "y = df['count']"
   ]
  },
  {
   "cell_type": "code",
   "execution_count": 10,
   "metadata": {},
   "outputs": [],
   "source": [
    "ada = AdaBoostRegressor()"
   ]
  },
  {
   "cell_type": "code",
   "execution_count": 11,
   "metadata": {},
   "outputs": [
    {
     "output_type": "execute_result",
     "data": {
      "text/plain": [
       "AdaBoostRegressor()"
      ]
     },
     "metadata": {},
     "execution_count": 11
    }
   ],
   "source": [
    "ada.fit(x,y)"
   ]
  },
  {
   "cell_type": "code",
   "execution_count": 12,
   "metadata": {},
   "outputs": [],
   "source": [
    "pickle.dump(ada, open('model.pkl','wb'))"
   ]
  },
  {
   "cell_type": "code",
   "execution_count": null,
   "metadata": {},
   "outputs": [],
   "source": []
  }
 ]
}