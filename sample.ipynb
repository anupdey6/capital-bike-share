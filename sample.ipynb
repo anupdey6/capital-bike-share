{
 "metadata": {
  "language_info": {
   "codemirror_mode": {
    "name": "ipython",
    "version": 3
   },
   "file_extension": ".py",
   "mimetype": "text/x-python",
   "name": "python",
   "nbconvert_exporter": "python",
   "pygments_lexer": "ipython3",
   "version": "3.8.5-final"
  },
  "orig_nbformat": 2,
  "kernelspec": {
   "name": "python3",
   "display_name": "Python 3",
   "language": "python"
  }
 },
 "nbformat": 4,
 "nbformat_minor": 2,
 "cells": [
  {
   "cell_type": "code",
   "execution_count": 28,
   "metadata": {},
   "outputs": [],
   "source": [
    "import pandas as pd\n",
    "import numpy as np\n",
    "import statistics as st\n",
    "import matplotlib.pyplot as plt\n",
    "import seaborn as sns\n",
    "from sklearn.model_selection import train_test_split\n",
    "from collections import Counter\n",
    "from sklearn.preprocessing import StandardScaler\n",
    "from sklearn.preprocessing import LabelEncoder\n",
    "from sklearn.linear_model import LogisticRegression\n",
    "from sklearn.model_selection import cross_val_predict\n",
    "from sklearn import metrics\n",
    "from sklearn.metrics import accuracy_score\n",
    "from sklearn.metrics import confusion_matrix\n",
    "from sklearn.metrics import classification_report\n",
    "from sklearn.model_selection import cross_val_score\n",
    "from sklearn import svm\n",
    "from sklearn.neighbors import KNeighborsClassifier\n",
    "from sklearn.model_selection import GridSearchCV\n",
    "from pylab import savefig\n",
    "%matplotlib inline\n",
    "from sklearn.tree import DecisionTreeClassifier\n",
    "from sklearn.tree import plot_tree\n",
    "import datetime\n",
    "from pandas.tseries.holiday import USFederalHolidayCalendar as calendar\n",
    "from sklearn.linear_model import LinearRegression\n",
    "import pickle\n",
    "\n",
    "from sklearn.model_selection import train_test_split\n",
    "from sklearn.ensemble import AdaBoostRegressor"
   ]
  },
  {
   "cell_type": "code",
   "execution_count": 29,
   "metadata": {},
   "outputs": [],
   "source": [
    "jan2020 = pd.read_csv(r\"C:\\Users\\anupd\\OneDrive\\Desktop\\Capital Bikeshare\\2020\\202001-capitalbikeshare-tripdata.csv\")\n",
    "feb2020 = pd.read_csv(r\"C:\\Users\\anupd\\OneDrive\\Desktop\\Capital Bikeshare\\2020\\202002-capitalbikeshare-tripdata.csv\")\n",
    "mar2020 = pd.read_csv(r\"C:\\Users\\anupd\\OneDrive\\Desktop\\Capital Bikeshare\\2020\\202003-capitalbikeshare-tripdata.csv\")\n",
    "apr2020 = pd.read_csv(r\"C:\\Users\\anupd\\OneDrive\\Desktop\\Capital Bikeshare\\2020\\202004-capitalbikeshare-tripdata.csv\")\n",
    "may2020 = pd.read_csv(r\"C:\\Users\\anupd\\OneDrive\\Desktop\\Capital Bikeshare\\2020\\202005-capitalbikeshare-tripdata.csv\")\n",
    "jun2020 = pd.read_csv(r\"C:\\Users\\anupd\\OneDrive\\Desktop\\Capital Bikeshare\\2020\\202006-capitalbikeshare-tripdata.csv\")\n",
    "jul2020 = pd.read_csv(r\"C:\\Users\\anupd\\OneDrive\\Desktop\\Capital Bikeshare\\2020\\202007-capitalbikeshare-tripdata.csv\")\n",
    "aug2020 = pd.read_csv(r\"C:\\Users\\anupd\\OneDrive\\Desktop\\Capital Bikeshare\\2020\\202008-capitalbikeshare-tripdata.csv\")\n",
    "sep2020 = pd.read_csv(r\"C:\\Users\\anupd\\OneDrive\\Desktop\\Capital Bikeshare\\2020\\202009-capitalbikeshare-tripdata.csv\")\n",
    "oct2020 = pd.read_csv(r\"C:\\Users\\anupd\\OneDrive\\Desktop\\Capital Bikeshare\\2020\\202010-capitalbikeshare-tripdata.csv\")\n",
    "nov2020 = pd.read_csv(r\"C:\\Users\\anupd\\OneDrive\\Desktop\\Capital Bikeshare\\2020\\202011-capitalbikeshare-tripdata.csv\")\n",
    "dec2020 = pd.read_csv(r\"C:\\Users\\anupd\\OneDrive\\Desktop\\Capital Bikeshare\\2020\\202012-capitalbikeshare-tripdata.csv\")\n",
    "jan2019 = pd.read_csv(r\"C:\\Users\\anupd\\OneDrive\\Desktop\\Capital Bikeshare\\capitalbikeshare\\201901-capitalbikeshare-tripdata\\201901-capitalbikeshare-tripdata.csv\")\n",
    "feb2019 = pd.read_csv(r'C:\\Users\\anupd\\OneDrive\\Desktop\\Capital Bikeshare\\capitalbikeshare\\201902-capitalbikeshare-tripdata\\201902-capitalbikeshare-tripdata.csv')\n",
    "mar2019 = pd.read_csv(r'C:\\Users\\anupd\\OneDrive\\Desktop\\Capital Bikeshare\\capitalbikeshare\\201903-capitalbikeshare-tripdata\\201903-capitalbikeshare-tripdata.csv')\n",
    "apr2019 = pd.read_csv(r'C:\\Users\\anupd\\OneDrive\\Desktop\\Capital Bikeshare\\capitalbikeshare\\201904-capitalbikeshare-tripdata\\201904-capitalbikeshare-tripdata.csv')\n",
    "may2019 = pd.read_csv(r'C:\\Users\\anupd\\OneDrive\\Desktop\\Capital Bikeshare\\capitalbikeshare\\201905-capitalbikeshare-tripdata\\201905-capitalbikeshare-tripdata.csv')\n",
    "jun2019 = pd.read_csv(r'C:\\Users\\anupd\\OneDrive\\Desktop\\Capital Bikeshare\\capitalbikeshare\\201906-capitalbikeshare-tripdata\\201906-capitalbikeshare-tripdata.csv')\n",
    "jul2019 = pd.read_csv(r'C:\\Users\\anupd\\OneDrive\\Desktop\\Capital Bikeshare\\capitalbikeshare\\201907-capitalbikeshare-tripdata\\201907-capitalbikeshare-tripdata')\n",
    "aug2019 = pd.read_csv(r'C:\\Users\\anupd\\OneDrive\\Desktop\\Capital Bikeshare\\capitalbikeshare\\201908-capitalbikeshare-tripdata\\201908-capitalbikeshare-tripdata.csv')\n",
    "sep2019 = pd.read_csv(r'C:\\Users\\anupd\\OneDrive\\Desktop\\Capital Bikeshare\\capitalbikeshare\\201909-capitalbikeshare-tripdata\\201909-capitalbikeshare-tripdata.csv')\n",
    "oct2019 = pd.read_csv(r'C:\\Users\\anupd\\OneDrive\\Desktop\\Capital Bikeshare\\capitalbikeshare\\201910-capitalbikeshare-tripdata\\201910-capitalbikeshare-tripdata.csv')\n",
    "nov2019 = pd.read_csv(r'C:\\Users\\anupd\\OneDrive\\Desktop\\Capital Bikeshare\\capitalbikeshare\\201911-capitalbikeshare-tripdata\\201911-capitalbikeshare-tripdata.csv')\n",
    "dec2019 = pd.read_csv(r'C:\\Users\\anupd\\OneDrive\\Desktop\\Capital Bikeshare\\capitalbikeshare\\201912-capitalbikeshare-tripdata\\201912-capitalbikeshare-tripdata.csv')\n",
    "jan2018 = pd.read_csv(r'C:\\Users\\anupd\\OneDrive\\Desktop\\Capital Bikeshare\\capitalbikeshare\\201801-capitalbikeshare-tripdata\\201801_capitalbikeshare_tripdata.csv')\n",
    "feb2018 = pd.read_csv(r'C:\\Users\\anupd\\OneDrive\\Desktop\\Capital Bikeshare\\capitalbikeshare\\201802-capitalbikeshare-tripdata\\201802-capitalbikeshare-tripdata.csv')\n",
    "mar2018 = pd.read_csv(r'C:\\Users\\anupd\\OneDrive\\Desktop\\Capital Bikeshare\\capitalbikeshare\\201803-capitalbikeshare-tripdata\\201803-capitalbikeshare-tripdata.csv')\n",
    "apr2018 = pd.read_csv(r'C:\\Users\\anupd\\OneDrive\\Desktop\\Capital Bikeshare\\capitalbikeshare\\201804-capitalbikeshare-tripdata\\201804-capitalbikeshare-tripdata.csv')\n",
    "may2018 = pd.read_csv(r'C:\\Users\\anupd\\OneDrive\\Desktop\\Capital Bikeshare\\capitalbikeshare\\201805-capitalbikeshare-tripdata\\201805-capitalbikeshare-tripdata.csv')\n",
    "jun2018 = pd.read_csv(r'C:\\Users\\anupd\\OneDrive\\Desktop\\Capital Bikeshare\\capitalbikeshare\\201806-capitalbikeshare-tripdata\\201806-capitalbikeshare-tripdata.csv')\n",
    "jul2018 = pd.read_csv(r'C:\\Users\\anupd\\OneDrive\\Desktop\\Capital Bikeshare\\capitalbikeshare\\201807-capitalbikeshare-tripdata\\201807-capitalbikeshare-tripdata.csv')\n",
    "aug2018 = pd.read_csv(r'C:\\Users\\anupd\\OneDrive\\Desktop\\Capital Bikeshare\\capitalbikeshare\\201808-capitalbikeshare-tripdata\\201808-capitalbikeshare-tripdata.csv')\n",
    "sep2018 = pd.read_csv(r'C:\\Users\\anupd\\OneDrive\\Desktop\\Capital Bikeshare\\capitalbikeshare\\201809-capitalbikeshare-tripdata\\201809-capitalbikeshare-tripdata.csv')\n",
    "oct2018 = pd.read_csv(r'C:\\Users\\anupd\\OneDrive\\Desktop\\Capital Bikeshare\\capitalbikeshare\\201810-capitalbikeshare-tripdata\\201810-capitalbikeshare-tripdata.csv')\n",
    "nov2018 = pd.read_csv(r'C:\\Users\\anupd\\OneDrive\\Desktop\\Capital Bikeshare\\capitalbikeshare\\201811-capitalbikeshare-tripdata\\201811-capitalbikeshare-tripdata.csv')\n",
    "dec2018 = pd.read_csv(r'C:\\Users\\anupd\\OneDrive\\Desktop\\Capital Bikeshare\\capitalbikeshare\\201812-capitalbikeshare-tripdata\\201812-capitalbikeshare-tripdata.csv')"
   ]
  },
  {
   "cell_type": "code",
   "execution_count": 30,
   "metadata": {},
   "outputs": [],
   "source": [
    "month_edit = pd.concat([apr2020,may2020,jun2020,jul2020,aug2020,sep2020,oct2020,nov2020,dec2020], axis=0)"
   ]
  },
  {
   "cell_type": "code",
   "execution_count": 31,
   "metadata": {},
   "outputs": [
    {
     "output_type": "execute_result",
     "data": {
      "text/plain": [
       "                 ride_id rideable_type           started_at  \\\n",
       "0       574D7036265F871A   docked_bike  2020-04-06 16:14:44   \n",
       "1       599129C4D2E63705   docked_bike  2020-04-07 13:23:05   \n",
       "2       51968E3A179DF45D   docked_bike  2020-04-07 14:26:56   \n",
       "3       650C7B5CB2C47427   docked_bike  2020-04-12 10:31:41   \n",
       "4       87F521FD335DDE6F   docked_bike  2020-04-05 11:35:20   \n",
       "...                  ...           ...                  ...   \n",
       "105824  A10ED3D50E5AB612   docked_bike  2020-12-12 13:49:55   \n",
       "105825  F146CC9669ABF5EC   docked_bike  2020-12-03 13:43:26   \n",
       "105826  614005BC98FE93F7   docked_bike  2020-12-06 07:27:47   \n",
       "105827  86783BF38F4567FA   docked_bike  2020-12-21 13:46:01   \n",
       "105828  A7F61D67643CB526  classic_bike  2020-12-18 09:09:48   \n",
       "\n",
       "                   ended_at              start_station_name  start_station_id  \\\n",
       "0       2020-04-06 16:21:11   25th St & Pennsylvania Ave NW           31237.0   \n",
       "1       2020-04-07 13:28:05   25th St & Pennsylvania Ave NW           31237.0   \n",
       "2       2020-04-07 14:33:25   25th St & Pennsylvania Ave NW           31237.0   \n",
       "3       2020-04-12 10:37:57   25th St & Pennsylvania Ave NW           31237.0   \n",
       "4       2020-04-05 11:42:09   25th St & Pennsylvania Ave NW           31237.0   \n",
       "...                     ...                             ...               ...   \n",
       "105824  2020-12-12 14:17:02       Jefferson Dr & 14th St SW           31247.0   \n",
       "105825  2020-12-03 14:06:11       Jefferson Dr & 14th St SW           31247.0   \n",
       "105826  2020-12-06 08:03:46       Jefferson Dr & 14th St SW           31247.0   \n",
       "105827  2020-12-21 14:26:59       Jefferson Dr & 14th St SW           31247.0   \n",
       "105828  2020-12-18 09:23:54  New Hampshire Ave & 24th St NW           31275.0   \n",
       "\n",
       "                            end_station_name  end_station_id  start_lat  \\\n",
       "0                             20th & E St NW         31204.0  38.903827   \n",
       "1              22nd & I St NW / Foggy Bottom         31257.0  38.903827   \n",
       "2                         34th & Water St NW         31314.0  38.903827   \n",
       "3       Massachusetts Ave & Dupont Circle NW         31200.0  38.903827   \n",
       "4       Massachusetts Ave & Dupont Circle NW         31200.0  38.903827   \n",
       "...                                      ...             ...        ...   \n",
       "105824         19th St & Constitution Ave NW         31235.0  38.888553   \n",
       "105825                4th St & Madison Dr NW         31288.0  38.888553   \n",
       "105826         19th St & Constitution Ave NW         31235.0  38.888552   \n",
       "105827                        17th & G St NW         31277.0  38.888553   \n",
       "105828                4th St & Madison Dr NW         31288.0  38.901755   \n",
       "\n",
       "        start_lng    end_lat    end_lng member_casual  \n",
       "0      -77.053485  38.896300 -77.045000        member  \n",
       "1      -77.053485  38.900880 -77.048911        member  \n",
       "2      -77.053485  38.903663 -77.067668        member  \n",
       "3      -77.053485  38.910100 -77.044400        member  \n",
       "4      -77.053485  38.910100 -77.044400        member  \n",
       "...           ...        ...        ...           ...  \n",
       "105824 -77.032427  38.892300 -77.043600        casual  \n",
       "105825 -77.032427  38.890496 -77.017247        casual  \n",
       "105826 -77.032427  38.892300 -77.043600        casual  \n",
       "105827 -77.032427  38.898283 -77.039732        casual  \n",
       "105828 -77.051084  38.890496 -77.017246        member  \n",
       "\n",
       "[1679302 rows x 13 columns]"
      ],
      "text/html": "<div>\n<style scoped>\n    .dataframe tbody tr th:only-of-type {\n        vertical-align: middle;\n    }\n\n    .dataframe tbody tr th {\n        vertical-align: top;\n    }\n\n    .dataframe thead th {\n        text-align: right;\n    }\n</style>\n<table border=\"1\" class=\"dataframe\">\n  <thead>\n    <tr style=\"text-align: right;\">\n      <th></th>\n      <th>ride_id</th>\n      <th>rideable_type</th>\n      <th>started_at</th>\n      <th>ended_at</th>\n      <th>start_station_name</th>\n      <th>start_station_id</th>\n      <th>end_station_name</th>\n      <th>end_station_id</th>\n      <th>start_lat</th>\n      <th>start_lng</th>\n      <th>end_lat</th>\n      <th>end_lng</th>\n      <th>member_casual</th>\n    </tr>\n  </thead>\n  <tbody>\n    <tr>\n      <th>0</th>\n      <td>574D7036265F871A</td>\n      <td>docked_bike</td>\n      <td>2020-04-06 16:14:44</td>\n      <td>2020-04-06 16:21:11</td>\n      <td>25th St &amp; Pennsylvania Ave NW</td>\n      <td>31237.0</td>\n      <td>20th &amp; E St NW</td>\n      <td>31204.0</td>\n      <td>38.903827</td>\n      <td>-77.053485</td>\n      <td>38.896300</td>\n      <td>-77.045000</td>\n      <td>member</td>\n    </tr>\n    <tr>\n      <th>1</th>\n      <td>599129C4D2E63705</td>\n      <td>docked_bike</td>\n      <td>2020-04-07 13:23:05</td>\n      <td>2020-04-07 13:28:05</td>\n      <td>25th St &amp; Pennsylvania Ave NW</td>\n      <td>31237.0</td>\n      <td>22nd &amp; I St NW / Foggy Bottom</td>\n      <td>31257.0</td>\n      <td>38.903827</td>\n      <td>-77.053485</td>\n      <td>38.900880</td>\n      <td>-77.048911</td>\n      <td>member</td>\n    </tr>\n    <tr>\n      <th>2</th>\n      <td>51968E3A179DF45D</td>\n      <td>docked_bike</td>\n      <td>2020-04-07 14:26:56</td>\n      <td>2020-04-07 14:33:25</td>\n      <td>25th St &amp; Pennsylvania Ave NW</td>\n      <td>31237.0</td>\n      <td>34th &amp; Water St NW</td>\n      <td>31314.0</td>\n      <td>38.903827</td>\n      <td>-77.053485</td>\n      <td>38.903663</td>\n      <td>-77.067668</td>\n      <td>member</td>\n    </tr>\n    <tr>\n      <th>3</th>\n      <td>650C7B5CB2C47427</td>\n      <td>docked_bike</td>\n      <td>2020-04-12 10:31:41</td>\n      <td>2020-04-12 10:37:57</td>\n      <td>25th St &amp; Pennsylvania Ave NW</td>\n      <td>31237.0</td>\n      <td>Massachusetts Ave &amp; Dupont Circle NW</td>\n      <td>31200.0</td>\n      <td>38.903827</td>\n      <td>-77.053485</td>\n      <td>38.910100</td>\n      <td>-77.044400</td>\n      <td>member</td>\n    </tr>\n    <tr>\n      <th>4</th>\n      <td>87F521FD335DDE6F</td>\n      <td>docked_bike</td>\n      <td>2020-04-05 11:35:20</td>\n      <td>2020-04-05 11:42:09</td>\n      <td>25th St &amp; Pennsylvania Ave NW</td>\n      <td>31237.0</td>\n      <td>Massachusetts Ave &amp; Dupont Circle NW</td>\n      <td>31200.0</td>\n      <td>38.903827</td>\n      <td>-77.053485</td>\n      <td>38.910100</td>\n      <td>-77.044400</td>\n      <td>member</td>\n    </tr>\n    <tr>\n      <th>...</th>\n      <td>...</td>\n      <td>...</td>\n      <td>...</td>\n      <td>...</td>\n      <td>...</td>\n      <td>...</td>\n      <td>...</td>\n      <td>...</td>\n      <td>...</td>\n      <td>...</td>\n      <td>...</td>\n      <td>...</td>\n      <td>...</td>\n    </tr>\n    <tr>\n      <th>105824</th>\n      <td>A10ED3D50E5AB612</td>\n      <td>docked_bike</td>\n      <td>2020-12-12 13:49:55</td>\n      <td>2020-12-12 14:17:02</td>\n      <td>Jefferson Dr &amp; 14th St SW</td>\n      <td>31247.0</td>\n      <td>19th St &amp; Constitution Ave NW</td>\n      <td>31235.0</td>\n      <td>38.888553</td>\n      <td>-77.032427</td>\n      <td>38.892300</td>\n      <td>-77.043600</td>\n      <td>casual</td>\n    </tr>\n    <tr>\n      <th>105825</th>\n      <td>F146CC9669ABF5EC</td>\n      <td>docked_bike</td>\n      <td>2020-12-03 13:43:26</td>\n      <td>2020-12-03 14:06:11</td>\n      <td>Jefferson Dr &amp; 14th St SW</td>\n      <td>31247.0</td>\n      <td>4th St &amp; Madison Dr NW</td>\n      <td>31288.0</td>\n      <td>38.888553</td>\n      <td>-77.032427</td>\n      <td>38.890496</td>\n      <td>-77.017247</td>\n      <td>casual</td>\n    </tr>\n    <tr>\n      <th>105826</th>\n      <td>614005BC98FE93F7</td>\n      <td>docked_bike</td>\n      <td>2020-12-06 07:27:47</td>\n      <td>2020-12-06 08:03:46</td>\n      <td>Jefferson Dr &amp; 14th St SW</td>\n      <td>31247.0</td>\n      <td>19th St &amp; Constitution Ave NW</td>\n      <td>31235.0</td>\n      <td>38.888552</td>\n      <td>-77.032427</td>\n      <td>38.892300</td>\n      <td>-77.043600</td>\n      <td>casual</td>\n    </tr>\n    <tr>\n      <th>105827</th>\n      <td>86783BF38F4567FA</td>\n      <td>docked_bike</td>\n      <td>2020-12-21 13:46:01</td>\n      <td>2020-12-21 14:26:59</td>\n      <td>Jefferson Dr &amp; 14th St SW</td>\n      <td>31247.0</td>\n      <td>17th &amp; G St NW</td>\n      <td>31277.0</td>\n      <td>38.888553</td>\n      <td>-77.032427</td>\n      <td>38.898283</td>\n      <td>-77.039732</td>\n      <td>casual</td>\n    </tr>\n    <tr>\n      <th>105828</th>\n      <td>A7F61D67643CB526</td>\n      <td>classic_bike</td>\n      <td>2020-12-18 09:09:48</td>\n      <td>2020-12-18 09:23:54</td>\n      <td>New Hampshire Ave &amp; 24th St NW</td>\n      <td>31275.0</td>\n      <td>4th St &amp; Madison Dr NW</td>\n      <td>31288.0</td>\n      <td>38.901755</td>\n      <td>-77.051084</td>\n      <td>38.890496</td>\n      <td>-77.017246</td>\n      <td>member</td>\n    </tr>\n  </tbody>\n</table>\n<p>1679302 rows × 13 columns</p>\n</div>"
     },
     "metadata": {},
     "execution_count": 31
    }
   ],
   "source": [
    "month_edit"
   ]
  },
  {
   "cell_type": "code",
   "execution_count": 32,
   "metadata": {},
   "outputs": [],
   "source": [
    "month_edit['started_at'] = pd.to_datetime(month_edit['started_at'])\n",
    "month_edit['ended_at'] = pd.to_datetime(month_edit['ended_at'])"
   ]
  },
  {
   "cell_type": "code",
   "execution_count": 33,
   "metadata": {},
   "outputs": [],
   "source": [
    "month_edit['diff'] = month_edit['ended_at'] - month_edit['started_at']\n"
   ]
  },
  {
   "cell_type": "code",
   "execution_count": 34,
   "metadata": {},
   "outputs": [
    {
     "output_type": "execute_result",
     "data": {
      "text/plain": [
       "ride_id                        object\n",
       "rideable_type                  object\n",
       "started_at             datetime64[ns]\n",
       "ended_at               datetime64[ns]\n",
       "start_station_name             object\n",
       "start_station_id              float64\n",
       "end_station_name               object\n",
       "end_station_id                float64\n",
       "start_lat                     float64\n",
       "start_lng                     float64\n",
       "end_lat                       float64\n",
       "end_lng                       float64\n",
       "member_casual                  object\n",
       "diff                  timedelta64[ns]\n",
       "dtype: object"
      ]
     },
     "metadata": {},
     "execution_count": 34
    }
   ],
   "source": [
    "month_edit.dtypes"
   ]
  },
  {
   "cell_type": "code",
   "execution_count": 35,
   "metadata": {},
   "outputs": [
    {
     "output_type": "execute_result",
     "data": {
      "text/plain": [
       "                 ride_id rideable_type          started_at  \\\n",
       "0       574D7036265F871A   docked_bike 2020-04-06 16:14:44   \n",
       "1       599129C4D2E63705   docked_bike 2020-04-07 13:23:05   \n",
       "2       51968E3A179DF45D   docked_bike 2020-04-07 14:26:56   \n",
       "3       650C7B5CB2C47427   docked_bike 2020-04-12 10:31:41   \n",
       "4       87F521FD335DDE6F   docked_bike 2020-04-05 11:35:20   \n",
       "...                  ...           ...                 ...   \n",
       "105824  A10ED3D50E5AB612   docked_bike 2020-12-12 13:49:55   \n",
       "105825  F146CC9669ABF5EC   docked_bike 2020-12-03 13:43:26   \n",
       "105826  614005BC98FE93F7   docked_bike 2020-12-06 07:27:47   \n",
       "105827  86783BF38F4567FA   docked_bike 2020-12-21 13:46:01   \n",
       "105828  A7F61D67643CB526  classic_bike 2020-12-18 09:09:48   \n",
       "\n",
       "                  ended_at              start_station_name  start_station_id  \\\n",
       "0      2020-04-06 16:21:11   25th St & Pennsylvania Ave NW           31237.0   \n",
       "1      2020-04-07 13:28:05   25th St & Pennsylvania Ave NW           31237.0   \n",
       "2      2020-04-07 14:33:25   25th St & Pennsylvania Ave NW           31237.0   \n",
       "3      2020-04-12 10:37:57   25th St & Pennsylvania Ave NW           31237.0   \n",
       "4      2020-04-05 11:42:09   25th St & Pennsylvania Ave NW           31237.0   \n",
       "...                    ...                             ...               ...   \n",
       "105824 2020-12-12 14:17:02       Jefferson Dr & 14th St SW           31247.0   \n",
       "105825 2020-12-03 14:06:11       Jefferson Dr & 14th St SW           31247.0   \n",
       "105826 2020-12-06 08:03:46       Jefferson Dr & 14th St SW           31247.0   \n",
       "105827 2020-12-21 14:26:59       Jefferson Dr & 14th St SW           31247.0   \n",
       "105828 2020-12-18 09:23:54  New Hampshire Ave & 24th St NW           31275.0   \n",
       "\n",
       "                            end_station_name  end_station_id  start_lat  \\\n",
       "0                             20th & E St NW         31204.0  38.903827   \n",
       "1              22nd & I St NW / Foggy Bottom         31257.0  38.903827   \n",
       "2                         34th & Water St NW         31314.0  38.903827   \n",
       "3       Massachusetts Ave & Dupont Circle NW         31200.0  38.903827   \n",
       "4       Massachusetts Ave & Dupont Circle NW         31200.0  38.903827   \n",
       "...                                      ...             ...        ...   \n",
       "105824         19th St & Constitution Ave NW         31235.0  38.888553   \n",
       "105825                4th St & Madison Dr NW         31288.0  38.888553   \n",
       "105826         19th St & Constitution Ave NW         31235.0  38.888552   \n",
       "105827                        17th & G St NW         31277.0  38.888553   \n",
       "105828                4th St & Madison Dr NW         31288.0  38.901755   \n",
       "\n",
       "        start_lng    end_lat    end_lng member_casual            diff  \n",
       "0      -77.053485  38.896300 -77.045000        member 0 days 00:06:27  \n",
       "1      -77.053485  38.900880 -77.048911        member 0 days 00:05:00  \n",
       "2      -77.053485  38.903663 -77.067668        member 0 days 00:06:29  \n",
       "3      -77.053485  38.910100 -77.044400        member 0 days 00:06:16  \n",
       "4      -77.053485  38.910100 -77.044400        member 0 days 00:06:49  \n",
       "...           ...        ...        ...           ...             ...  \n",
       "105824 -77.032427  38.892300 -77.043600        casual 0 days 00:27:07  \n",
       "105825 -77.032427  38.890496 -77.017247        casual 0 days 00:22:45  \n",
       "105826 -77.032427  38.892300 -77.043600        casual 0 days 00:35:59  \n",
       "105827 -77.032427  38.898283 -77.039732        casual 0 days 00:40:58  \n",
       "105828 -77.051084  38.890496 -77.017246        member 0 days 00:14:06  \n",
       "\n",
       "[1679302 rows x 14 columns]"
      ],
      "text/html": "<div>\n<style scoped>\n    .dataframe tbody tr th:only-of-type {\n        vertical-align: middle;\n    }\n\n    .dataframe tbody tr th {\n        vertical-align: top;\n    }\n\n    .dataframe thead th {\n        text-align: right;\n    }\n</style>\n<table border=\"1\" class=\"dataframe\">\n  <thead>\n    <tr style=\"text-align: right;\">\n      <th></th>\n      <th>ride_id</th>\n      <th>rideable_type</th>\n      <th>started_at</th>\n      <th>ended_at</th>\n      <th>start_station_name</th>\n      <th>start_station_id</th>\n      <th>end_station_name</th>\n      <th>end_station_id</th>\n      <th>start_lat</th>\n      <th>start_lng</th>\n      <th>end_lat</th>\n      <th>end_lng</th>\n      <th>member_casual</th>\n      <th>diff</th>\n    </tr>\n  </thead>\n  <tbody>\n    <tr>\n      <th>0</th>\n      <td>574D7036265F871A</td>\n      <td>docked_bike</td>\n      <td>2020-04-06 16:14:44</td>\n      <td>2020-04-06 16:21:11</td>\n      <td>25th St &amp; Pennsylvania Ave NW</td>\n      <td>31237.0</td>\n      <td>20th &amp; E St NW</td>\n      <td>31204.0</td>\n      <td>38.903827</td>\n      <td>-77.053485</td>\n      <td>38.896300</td>\n      <td>-77.045000</td>\n      <td>member</td>\n      <td>0 days 00:06:27</td>\n    </tr>\n    <tr>\n      <th>1</th>\n      <td>599129C4D2E63705</td>\n      <td>docked_bike</td>\n      <td>2020-04-07 13:23:05</td>\n      <td>2020-04-07 13:28:05</td>\n      <td>25th St &amp; Pennsylvania Ave NW</td>\n      <td>31237.0</td>\n      <td>22nd &amp; I St NW / Foggy Bottom</td>\n      <td>31257.0</td>\n      <td>38.903827</td>\n      <td>-77.053485</td>\n      <td>38.900880</td>\n      <td>-77.048911</td>\n      <td>member</td>\n      <td>0 days 00:05:00</td>\n    </tr>\n    <tr>\n      <th>2</th>\n      <td>51968E3A179DF45D</td>\n      <td>docked_bike</td>\n      <td>2020-04-07 14:26:56</td>\n      <td>2020-04-07 14:33:25</td>\n      <td>25th St &amp; Pennsylvania Ave NW</td>\n      <td>31237.0</td>\n      <td>34th &amp; Water St NW</td>\n      <td>31314.0</td>\n      <td>38.903827</td>\n      <td>-77.053485</td>\n      <td>38.903663</td>\n      <td>-77.067668</td>\n      <td>member</td>\n      <td>0 days 00:06:29</td>\n    </tr>\n    <tr>\n      <th>3</th>\n      <td>650C7B5CB2C47427</td>\n      <td>docked_bike</td>\n      <td>2020-04-12 10:31:41</td>\n      <td>2020-04-12 10:37:57</td>\n      <td>25th St &amp; Pennsylvania Ave NW</td>\n      <td>31237.0</td>\n      <td>Massachusetts Ave &amp; Dupont Circle NW</td>\n      <td>31200.0</td>\n      <td>38.903827</td>\n      <td>-77.053485</td>\n      <td>38.910100</td>\n      <td>-77.044400</td>\n      <td>member</td>\n      <td>0 days 00:06:16</td>\n    </tr>\n    <tr>\n      <th>4</th>\n      <td>87F521FD335DDE6F</td>\n      <td>docked_bike</td>\n      <td>2020-04-05 11:35:20</td>\n      <td>2020-04-05 11:42:09</td>\n      <td>25th St &amp; Pennsylvania Ave NW</td>\n      <td>31237.0</td>\n      <td>Massachusetts Ave &amp; Dupont Circle NW</td>\n      <td>31200.0</td>\n      <td>38.903827</td>\n      <td>-77.053485</td>\n      <td>38.910100</td>\n      <td>-77.044400</td>\n      <td>member</td>\n      <td>0 days 00:06:49</td>\n    </tr>\n    <tr>\n      <th>...</th>\n      <td>...</td>\n      <td>...</td>\n      <td>...</td>\n      <td>...</td>\n      <td>...</td>\n      <td>...</td>\n      <td>...</td>\n      <td>...</td>\n      <td>...</td>\n      <td>...</td>\n      <td>...</td>\n      <td>...</td>\n      <td>...</td>\n      <td>...</td>\n    </tr>\n    <tr>\n      <th>105824</th>\n      <td>A10ED3D50E5AB612</td>\n      <td>docked_bike</td>\n      <td>2020-12-12 13:49:55</td>\n      <td>2020-12-12 14:17:02</td>\n      <td>Jefferson Dr &amp; 14th St SW</td>\n      <td>31247.0</td>\n      <td>19th St &amp; Constitution Ave NW</td>\n      <td>31235.0</td>\n      <td>38.888553</td>\n      <td>-77.032427</td>\n      <td>38.892300</td>\n      <td>-77.043600</td>\n      <td>casual</td>\n      <td>0 days 00:27:07</td>\n    </tr>\n    <tr>\n      <th>105825</th>\n      <td>F146CC9669ABF5EC</td>\n      <td>docked_bike</td>\n      <td>2020-12-03 13:43:26</td>\n      <td>2020-12-03 14:06:11</td>\n      <td>Jefferson Dr &amp; 14th St SW</td>\n      <td>31247.0</td>\n      <td>4th St &amp; Madison Dr NW</td>\n      <td>31288.0</td>\n      <td>38.888553</td>\n      <td>-77.032427</td>\n      <td>38.890496</td>\n      <td>-77.017247</td>\n      <td>casual</td>\n      <td>0 days 00:22:45</td>\n    </tr>\n    <tr>\n      <th>105826</th>\n      <td>614005BC98FE93F7</td>\n      <td>docked_bike</td>\n      <td>2020-12-06 07:27:47</td>\n      <td>2020-12-06 08:03:46</td>\n      <td>Jefferson Dr &amp; 14th St SW</td>\n      <td>31247.0</td>\n      <td>19th St &amp; Constitution Ave NW</td>\n      <td>31235.0</td>\n      <td>38.888552</td>\n      <td>-77.032427</td>\n      <td>38.892300</td>\n      <td>-77.043600</td>\n      <td>casual</td>\n      <td>0 days 00:35:59</td>\n    </tr>\n    <tr>\n      <th>105827</th>\n      <td>86783BF38F4567FA</td>\n      <td>docked_bike</td>\n      <td>2020-12-21 13:46:01</td>\n      <td>2020-12-21 14:26:59</td>\n      <td>Jefferson Dr &amp; 14th St SW</td>\n      <td>31247.0</td>\n      <td>17th &amp; G St NW</td>\n      <td>31277.0</td>\n      <td>38.888553</td>\n      <td>-77.032427</td>\n      <td>38.898283</td>\n      <td>-77.039732</td>\n      <td>casual</td>\n      <td>0 days 00:40:58</td>\n    </tr>\n    <tr>\n      <th>105828</th>\n      <td>A7F61D67643CB526</td>\n      <td>classic_bike</td>\n      <td>2020-12-18 09:09:48</td>\n      <td>2020-12-18 09:23:54</td>\n      <td>New Hampshire Ave &amp; 24th St NW</td>\n      <td>31275.0</td>\n      <td>4th St &amp; Madison Dr NW</td>\n      <td>31288.0</td>\n      <td>38.901755</td>\n      <td>-77.051084</td>\n      <td>38.890496</td>\n      <td>-77.017246</td>\n      <td>member</td>\n      <td>0 days 00:14:06</td>\n    </tr>\n  </tbody>\n</table>\n<p>1679302 rows × 14 columns</p>\n</div>"
     },
     "metadata": {},
     "execution_count": 35
    }
   ],
   "source": [
    "month_edit"
   ]
  },
  {
   "cell_type": "code",
   "execution_count": 36,
   "metadata": {},
   "outputs": [],
   "source": [
    "# month_edit.to_csv('apr_dec.csv')"
   ]
  },
  {
   "cell_type": "code",
   "execution_count": 37,
   "metadata": {},
   "outputs": [],
   "source": [
    "month_edit['diff'] = month_edit['diff'] / np.timedelta64(1, 's')"
   ]
  },
  {
   "cell_type": "code",
   "execution_count": 38,
   "metadata": {},
   "outputs": [
    {
     "output_type": "execute_result",
     "data": {
      "text/plain": [
       "                 ride_id rideable_type          started_at  \\\n",
       "0       574D7036265F871A   docked_bike 2020-04-06 16:14:44   \n",
       "1       599129C4D2E63705   docked_bike 2020-04-07 13:23:05   \n",
       "2       51968E3A179DF45D   docked_bike 2020-04-07 14:26:56   \n",
       "3       650C7B5CB2C47427   docked_bike 2020-04-12 10:31:41   \n",
       "4       87F521FD335DDE6F   docked_bike 2020-04-05 11:35:20   \n",
       "...                  ...           ...                 ...   \n",
       "105824  A10ED3D50E5AB612   docked_bike 2020-12-12 13:49:55   \n",
       "105825  F146CC9669ABF5EC   docked_bike 2020-12-03 13:43:26   \n",
       "105826  614005BC98FE93F7   docked_bike 2020-12-06 07:27:47   \n",
       "105827  86783BF38F4567FA   docked_bike 2020-12-21 13:46:01   \n",
       "105828  A7F61D67643CB526  classic_bike 2020-12-18 09:09:48   \n",
       "\n",
       "                  ended_at              start_station_name  start_station_id  \\\n",
       "0      2020-04-06 16:21:11   25th St & Pennsylvania Ave NW           31237.0   \n",
       "1      2020-04-07 13:28:05   25th St & Pennsylvania Ave NW           31237.0   \n",
       "2      2020-04-07 14:33:25   25th St & Pennsylvania Ave NW           31237.0   \n",
       "3      2020-04-12 10:37:57   25th St & Pennsylvania Ave NW           31237.0   \n",
       "4      2020-04-05 11:42:09   25th St & Pennsylvania Ave NW           31237.0   \n",
       "...                    ...                             ...               ...   \n",
       "105824 2020-12-12 14:17:02       Jefferson Dr & 14th St SW           31247.0   \n",
       "105825 2020-12-03 14:06:11       Jefferson Dr & 14th St SW           31247.0   \n",
       "105826 2020-12-06 08:03:46       Jefferson Dr & 14th St SW           31247.0   \n",
       "105827 2020-12-21 14:26:59       Jefferson Dr & 14th St SW           31247.0   \n",
       "105828 2020-12-18 09:23:54  New Hampshire Ave & 24th St NW           31275.0   \n",
       "\n",
       "                            end_station_name  end_station_id  start_lat  \\\n",
       "0                             20th & E St NW         31204.0  38.903827   \n",
       "1              22nd & I St NW / Foggy Bottom         31257.0  38.903827   \n",
       "2                         34th & Water St NW         31314.0  38.903827   \n",
       "3       Massachusetts Ave & Dupont Circle NW         31200.0  38.903827   \n",
       "4       Massachusetts Ave & Dupont Circle NW         31200.0  38.903827   \n",
       "...                                      ...             ...        ...   \n",
       "105824         19th St & Constitution Ave NW         31235.0  38.888553   \n",
       "105825                4th St & Madison Dr NW         31288.0  38.888553   \n",
       "105826         19th St & Constitution Ave NW         31235.0  38.888552   \n",
       "105827                        17th & G St NW         31277.0  38.888553   \n",
       "105828                4th St & Madison Dr NW         31288.0  38.901755   \n",
       "\n",
       "        start_lng    end_lat    end_lng member_casual    diff  \n",
       "0      -77.053485  38.896300 -77.045000        member   387.0  \n",
       "1      -77.053485  38.900880 -77.048911        member   300.0  \n",
       "2      -77.053485  38.903663 -77.067668        member   389.0  \n",
       "3      -77.053485  38.910100 -77.044400        member   376.0  \n",
       "4      -77.053485  38.910100 -77.044400        member   409.0  \n",
       "...           ...        ...        ...           ...     ...  \n",
       "105824 -77.032427  38.892300 -77.043600        casual  1627.0  \n",
       "105825 -77.032427  38.890496 -77.017247        casual  1365.0  \n",
       "105826 -77.032427  38.892300 -77.043600        casual  2159.0  \n",
       "105827 -77.032427  38.898283 -77.039732        casual  2458.0  \n",
       "105828 -77.051084  38.890496 -77.017246        member   846.0  \n",
       "\n",
       "[1679302 rows x 14 columns]"
      ],
      "text/html": "<div>\n<style scoped>\n    .dataframe tbody tr th:only-of-type {\n        vertical-align: middle;\n    }\n\n    .dataframe tbody tr th {\n        vertical-align: top;\n    }\n\n    .dataframe thead th {\n        text-align: right;\n    }\n</style>\n<table border=\"1\" class=\"dataframe\">\n  <thead>\n    <tr style=\"text-align: right;\">\n      <th></th>\n      <th>ride_id</th>\n      <th>rideable_type</th>\n      <th>started_at</th>\n      <th>ended_at</th>\n      <th>start_station_name</th>\n      <th>start_station_id</th>\n      <th>end_station_name</th>\n      <th>end_station_id</th>\n      <th>start_lat</th>\n      <th>start_lng</th>\n      <th>end_lat</th>\n      <th>end_lng</th>\n      <th>member_casual</th>\n      <th>diff</th>\n    </tr>\n  </thead>\n  <tbody>\n    <tr>\n      <th>0</th>\n      <td>574D7036265F871A</td>\n      <td>docked_bike</td>\n      <td>2020-04-06 16:14:44</td>\n      <td>2020-04-06 16:21:11</td>\n      <td>25th St &amp; Pennsylvania Ave NW</td>\n      <td>31237.0</td>\n      <td>20th &amp; E St NW</td>\n      <td>31204.0</td>\n      <td>38.903827</td>\n      <td>-77.053485</td>\n      <td>38.896300</td>\n      <td>-77.045000</td>\n      <td>member</td>\n      <td>387.0</td>\n    </tr>\n    <tr>\n      <th>1</th>\n      <td>599129C4D2E63705</td>\n      <td>docked_bike</td>\n      <td>2020-04-07 13:23:05</td>\n      <td>2020-04-07 13:28:05</td>\n      <td>25th St &amp; Pennsylvania Ave NW</td>\n      <td>31237.0</td>\n      <td>22nd &amp; I St NW / Foggy Bottom</td>\n      <td>31257.0</td>\n      <td>38.903827</td>\n      <td>-77.053485</td>\n      <td>38.900880</td>\n      <td>-77.048911</td>\n      <td>member</td>\n      <td>300.0</td>\n    </tr>\n    <tr>\n      <th>2</th>\n      <td>51968E3A179DF45D</td>\n      <td>docked_bike</td>\n      <td>2020-04-07 14:26:56</td>\n      <td>2020-04-07 14:33:25</td>\n      <td>25th St &amp; Pennsylvania Ave NW</td>\n      <td>31237.0</td>\n      <td>34th &amp; Water St NW</td>\n      <td>31314.0</td>\n      <td>38.903827</td>\n      <td>-77.053485</td>\n      <td>38.903663</td>\n      <td>-77.067668</td>\n      <td>member</td>\n      <td>389.0</td>\n    </tr>\n    <tr>\n      <th>3</th>\n      <td>650C7B5CB2C47427</td>\n      <td>docked_bike</td>\n      <td>2020-04-12 10:31:41</td>\n      <td>2020-04-12 10:37:57</td>\n      <td>25th St &amp; Pennsylvania Ave NW</td>\n      <td>31237.0</td>\n      <td>Massachusetts Ave &amp; Dupont Circle NW</td>\n      <td>31200.0</td>\n      <td>38.903827</td>\n      <td>-77.053485</td>\n      <td>38.910100</td>\n      <td>-77.044400</td>\n      <td>member</td>\n      <td>376.0</td>\n    </tr>\n    <tr>\n      <th>4</th>\n      <td>87F521FD335DDE6F</td>\n      <td>docked_bike</td>\n      <td>2020-04-05 11:35:20</td>\n      <td>2020-04-05 11:42:09</td>\n      <td>25th St &amp; Pennsylvania Ave NW</td>\n      <td>31237.0</td>\n      <td>Massachusetts Ave &amp; Dupont Circle NW</td>\n      <td>31200.0</td>\n      <td>38.903827</td>\n      <td>-77.053485</td>\n      <td>38.910100</td>\n      <td>-77.044400</td>\n      <td>member</td>\n      <td>409.0</td>\n    </tr>\n    <tr>\n      <th>...</th>\n      <td>...</td>\n      <td>...</td>\n      <td>...</td>\n      <td>...</td>\n      <td>...</td>\n      <td>...</td>\n      <td>...</td>\n      <td>...</td>\n      <td>...</td>\n      <td>...</td>\n      <td>...</td>\n      <td>...</td>\n      <td>...</td>\n      <td>...</td>\n    </tr>\n    <tr>\n      <th>105824</th>\n      <td>A10ED3D50E5AB612</td>\n      <td>docked_bike</td>\n      <td>2020-12-12 13:49:55</td>\n      <td>2020-12-12 14:17:02</td>\n      <td>Jefferson Dr &amp; 14th St SW</td>\n      <td>31247.0</td>\n      <td>19th St &amp; Constitution Ave NW</td>\n      <td>31235.0</td>\n      <td>38.888553</td>\n      <td>-77.032427</td>\n      <td>38.892300</td>\n      <td>-77.043600</td>\n      <td>casual</td>\n      <td>1627.0</td>\n    </tr>\n    <tr>\n      <th>105825</th>\n      <td>F146CC9669ABF5EC</td>\n      <td>docked_bike</td>\n      <td>2020-12-03 13:43:26</td>\n      <td>2020-12-03 14:06:11</td>\n      <td>Jefferson Dr &amp; 14th St SW</td>\n      <td>31247.0</td>\n      <td>4th St &amp; Madison Dr NW</td>\n      <td>31288.0</td>\n      <td>38.888553</td>\n      <td>-77.032427</td>\n      <td>38.890496</td>\n      <td>-77.017247</td>\n      <td>casual</td>\n      <td>1365.0</td>\n    </tr>\n    <tr>\n      <th>105826</th>\n      <td>614005BC98FE93F7</td>\n      <td>docked_bike</td>\n      <td>2020-12-06 07:27:47</td>\n      <td>2020-12-06 08:03:46</td>\n      <td>Jefferson Dr &amp; 14th St SW</td>\n      <td>31247.0</td>\n      <td>19th St &amp; Constitution Ave NW</td>\n      <td>31235.0</td>\n      <td>38.888552</td>\n      <td>-77.032427</td>\n      <td>38.892300</td>\n      <td>-77.043600</td>\n      <td>casual</td>\n      <td>2159.0</td>\n    </tr>\n    <tr>\n      <th>105827</th>\n      <td>86783BF38F4567FA</td>\n      <td>docked_bike</td>\n      <td>2020-12-21 13:46:01</td>\n      <td>2020-12-21 14:26:59</td>\n      <td>Jefferson Dr &amp; 14th St SW</td>\n      <td>31247.0</td>\n      <td>17th &amp; G St NW</td>\n      <td>31277.0</td>\n      <td>38.888553</td>\n      <td>-77.032427</td>\n      <td>38.898283</td>\n      <td>-77.039732</td>\n      <td>casual</td>\n      <td>2458.0</td>\n    </tr>\n    <tr>\n      <th>105828</th>\n      <td>A7F61D67643CB526</td>\n      <td>classic_bike</td>\n      <td>2020-12-18 09:09:48</td>\n      <td>2020-12-18 09:23:54</td>\n      <td>New Hampshire Ave &amp; 24th St NW</td>\n      <td>31275.0</td>\n      <td>4th St &amp; Madison Dr NW</td>\n      <td>31288.0</td>\n      <td>38.901755</td>\n      <td>-77.051084</td>\n      <td>38.890496</td>\n      <td>-77.017246</td>\n      <td>member</td>\n      <td>846.0</td>\n    </tr>\n  </tbody>\n</table>\n<p>1679302 rows × 14 columns</p>\n</div>"
     },
     "metadata": {},
     "execution_count": 38
    }
   ],
   "source": [
    "month_edit"
   ]
  },
  {
   "cell_type": "code",
   "execution_count": 39,
   "metadata": {},
   "outputs": [],
   "source": [
    "month_edit.rename(columns= {'started_at': 'Start date', 'ended_at': 'End date','start_station_name': 'Start station', 'end_station_name': 'End station', 'member_casual':'Member type', 'diff': 'Duration'},inplace=True)"
   ]
  },
  {
   "cell_type": "code",
   "execution_count": 40,
   "metadata": {},
   "outputs": [],
   "source": [
    "month_edit = month_edit[['Duration','Start date', 'End date','Start station', 'End station','Member type']]"
   ]
  },
  {
   "cell_type": "code",
   "execution_count": 41,
   "metadata": {},
   "outputs": [
    {
     "output_type": "execute_result",
     "data": {
      "text/plain": [
       "        Duration          Start date            End date  \\\n",
       "0          387.0 2020-04-06 16:14:44 2020-04-06 16:21:11   \n",
       "1          300.0 2020-04-07 13:23:05 2020-04-07 13:28:05   \n",
       "2          389.0 2020-04-07 14:26:56 2020-04-07 14:33:25   \n",
       "3          376.0 2020-04-12 10:31:41 2020-04-12 10:37:57   \n",
       "4          409.0 2020-04-05 11:35:20 2020-04-05 11:42:09   \n",
       "...          ...                 ...                 ...   \n",
       "105824    1627.0 2020-12-12 13:49:55 2020-12-12 14:17:02   \n",
       "105825    1365.0 2020-12-03 13:43:26 2020-12-03 14:06:11   \n",
       "105826    2159.0 2020-12-06 07:27:47 2020-12-06 08:03:46   \n",
       "105827    2458.0 2020-12-21 13:46:01 2020-12-21 14:26:59   \n",
       "105828     846.0 2020-12-18 09:09:48 2020-12-18 09:23:54   \n",
       "\n",
       "                         Start station                           End station  \\\n",
       "0        25th St & Pennsylvania Ave NW                        20th & E St NW   \n",
       "1        25th St & Pennsylvania Ave NW         22nd & I St NW / Foggy Bottom   \n",
       "2        25th St & Pennsylvania Ave NW                    34th & Water St NW   \n",
       "3        25th St & Pennsylvania Ave NW  Massachusetts Ave & Dupont Circle NW   \n",
       "4        25th St & Pennsylvania Ave NW  Massachusetts Ave & Dupont Circle NW   \n",
       "...                                ...                                   ...   \n",
       "105824       Jefferson Dr & 14th St SW         19th St & Constitution Ave NW   \n",
       "105825       Jefferson Dr & 14th St SW                4th St & Madison Dr NW   \n",
       "105826       Jefferson Dr & 14th St SW         19th St & Constitution Ave NW   \n",
       "105827       Jefferson Dr & 14th St SW                        17th & G St NW   \n",
       "105828  New Hampshire Ave & 24th St NW                4th St & Madison Dr NW   \n",
       "\n",
       "       Member type  \n",
       "0           member  \n",
       "1           member  \n",
       "2           member  \n",
       "3           member  \n",
       "4           member  \n",
       "...            ...  \n",
       "105824      casual  \n",
       "105825      casual  \n",
       "105826      casual  \n",
       "105827      casual  \n",
       "105828      member  \n",
       "\n",
       "[1679302 rows x 6 columns]"
      ],
      "text/html": "<div>\n<style scoped>\n    .dataframe tbody tr th:only-of-type {\n        vertical-align: middle;\n    }\n\n    .dataframe tbody tr th {\n        vertical-align: top;\n    }\n\n    .dataframe thead th {\n        text-align: right;\n    }\n</style>\n<table border=\"1\" class=\"dataframe\">\n  <thead>\n    <tr style=\"text-align: right;\">\n      <th></th>\n      <th>Duration</th>\n      <th>Start date</th>\n      <th>End date</th>\n      <th>Start station</th>\n      <th>End station</th>\n      <th>Member type</th>\n    </tr>\n  </thead>\n  <tbody>\n    <tr>\n      <th>0</th>\n      <td>387.0</td>\n      <td>2020-04-06 16:14:44</td>\n      <td>2020-04-06 16:21:11</td>\n      <td>25th St &amp; Pennsylvania Ave NW</td>\n      <td>20th &amp; E St NW</td>\n      <td>member</td>\n    </tr>\n    <tr>\n      <th>1</th>\n      <td>300.0</td>\n      <td>2020-04-07 13:23:05</td>\n      <td>2020-04-07 13:28:05</td>\n      <td>25th St &amp; Pennsylvania Ave NW</td>\n      <td>22nd &amp; I St NW / Foggy Bottom</td>\n      <td>member</td>\n    </tr>\n    <tr>\n      <th>2</th>\n      <td>389.0</td>\n      <td>2020-04-07 14:26:56</td>\n      <td>2020-04-07 14:33:25</td>\n      <td>25th St &amp; Pennsylvania Ave NW</td>\n      <td>34th &amp; Water St NW</td>\n      <td>member</td>\n    </tr>\n    <tr>\n      <th>3</th>\n      <td>376.0</td>\n      <td>2020-04-12 10:31:41</td>\n      <td>2020-04-12 10:37:57</td>\n      <td>25th St &amp; Pennsylvania Ave NW</td>\n      <td>Massachusetts Ave &amp; Dupont Circle NW</td>\n      <td>member</td>\n    </tr>\n    <tr>\n      <th>4</th>\n      <td>409.0</td>\n      <td>2020-04-05 11:35:20</td>\n      <td>2020-04-05 11:42:09</td>\n      <td>25th St &amp; Pennsylvania Ave NW</td>\n      <td>Massachusetts Ave &amp; Dupont Circle NW</td>\n      <td>member</td>\n    </tr>\n    <tr>\n      <th>...</th>\n      <td>...</td>\n      <td>...</td>\n      <td>...</td>\n      <td>...</td>\n      <td>...</td>\n      <td>...</td>\n    </tr>\n    <tr>\n      <th>105824</th>\n      <td>1627.0</td>\n      <td>2020-12-12 13:49:55</td>\n      <td>2020-12-12 14:17:02</td>\n      <td>Jefferson Dr &amp; 14th St SW</td>\n      <td>19th St &amp; Constitution Ave NW</td>\n      <td>casual</td>\n    </tr>\n    <tr>\n      <th>105825</th>\n      <td>1365.0</td>\n      <td>2020-12-03 13:43:26</td>\n      <td>2020-12-03 14:06:11</td>\n      <td>Jefferson Dr &amp; 14th St SW</td>\n      <td>4th St &amp; Madison Dr NW</td>\n      <td>casual</td>\n    </tr>\n    <tr>\n      <th>105826</th>\n      <td>2159.0</td>\n      <td>2020-12-06 07:27:47</td>\n      <td>2020-12-06 08:03:46</td>\n      <td>Jefferson Dr &amp; 14th St SW</td>\n      <td>19th St &amp; Constitution Ave NW</td>\n      <td>casual</td>\n    </tr>\n    <tr>\n      <th>105827</th>\n      <td>2458.0</td>\n      <td>2020-12-21 13:46:01</td>\n      <td>2020-12-21 14:26:59</td>\n      <td>Jefferson Dr &amp; 14th St SW</td>\n      <td>17th &amp; G St NW</td>\n      <td>casual</td>\n    </tr>\n    <tr>\n      <th>105828</th>\n      <td>846.0</td>\n      <td>2020-12-18 09:09:48</td>\n      <td>2020-12-18 09:23:54</td>\n      <td>New Hampshire Ave &amp; 24th St NW</td>\n      <td>4th St &amp; Madison Dr NW</td>\n      <td>member</td>\n    </tr>\n  </tbody>\n</table>\n<p>1679302 rows × 6 columns</p>\n</div>"
     },
     "metadata": {},
     "execution_count": 41
    }
   ],
   "source": [
    "month_edit"
   ]
  },
  {
   "cell_type": "code",
   "execution_count": 42,
   "metadata": {},
   "outputs": [
    {
     "output_type": "execute_result",
     "data": {
      "text/plain": [
       "Duration                float64\n",
       "Start date       datetime64[ns]\n",
       "End date         datetime64[ns]\n",
       "Start station            object\n",
       "End station              object\n",
       "Member type              object\n",
       "dtype: object"
      ]
     },
     "metadata": {},
     "execution_count": 42
    }
   ],
   "source": [
    "month_edit.dtypes"
   ]
  },
  {
   "cell_type": "code",
   "execution_count": 43,
   "metadata": {},
   "outputs": [
    {
     "output_type": "execute_result",
     "data": {
      "text/plain": [
       "        Duration          Start date            End date  \\\n",
       "0          387.0 2020-04-06 16:14:44 2020-04-06 16:21:11   \n",
       "1          300.0 2020-04-07 13:23:05 2020-04-07 13:28:05   \n",
       "2          389.0 2020-04-07 14:26:56 2020-04-07 14:33:25   \n",
       "3          376.0 2020-04-12 10:31:41 2020-04-12 10:37:57   \n",
       "4          409.0 2020-04-05 11:35:20 2020-04-05 11:42:09   \n",
       "...          ...                 ...                 ...   \n",
       "105824    1627.0 2020-12-12 13:49:55 2020-12-12 14:17:02   \n",
       "105825    1365.0 2020-12-03 13:43:26 2020-12-03 14:06:11   \n",
       "105826    2159.0 2020-12-06 07:27:47 2020-12-06 08:03:46   \n",
       "105827    2458.0 2020-12-21 13:46:01 2020-12-21 14:26:59   \n",
       "105828     846.0 2020-12-18 09:09:48 2020-12-18 09:23:54   \n",
       "\n",
       "                         Start station                           End station  \\\n",
       "0        25th St & Pennsylvania Ave NW                        20th & E St NW   \n",
       "1        25th St & Pennsylvania Ave NW         22nd & I St NW / Foggy Bottom   \n",
       "2        25th St & Pennsylvania Ave NW                    34th & Water St NW   \n",
       "3        25th St & Pennsylvania Ave NW  Massachusetts Ave & Dupont Circle NW   \n",
       "4        25th St & Pennsylvania Ave NW  Massachusetts Ave & Dupont Circle NW   \n",
       "...                                ...                                   ...   \n",
       "105824       Jefferson Dr & 14th St SW         19th St & Constitution Ave NW   \n",
       "105825       Jefferson Dr & 14th St SW                4th St & Madison Dr NW   \n",
       "105826       Jefferson Dr & 14th St SW         19th St & Constitution Ave NW   \n",
       "105827       Jefferson Dr & 14th St SW                        17th & G St NW   \n",
       "105828  New Hampshire Ave & 24th St NW                4th St & Madison Dr NW   \n",
       "\n",
       "       Member type  \n",
       "0           member  \n",
       "1           member  \n",
       "2           member  \n",
       "3           member  \n",
       "4           member  \n",
       "...            ...  \n",
       "105824      casual  \n",
       "105825      casual  \n",
       "105826      casual  \n",
       "105827      casual  \n",
       "105828      member  \n",
       "\n",
       "[1679302 rows x 6 columns]"
      ],
      "text/html": "<div>\n<style scoped>\n    .dataframe tbody tr th:only-of-type {\n        vertical-align: middle;\n    }\n\n    .dataframe tbody tr th {\n        vertical-align: top;\n    }\n\n    .dataframe thead th {\n        text-align: right;\n    }\n</style>\n<table border=\"1\" class=\"dataframe\">\n  <thead>\n    <tr style=\"text-align: right;\">\n      <th></th>\n      <th>Duration</th>\n      <th>Start date</th>\n      <th>End date</th>\n      <th>Start station</th>\n      <th>End station</th>\n      <th>Member type</th>\n    </tr>\n  </thead>\n  <tbody>\n    <tr>\n      <th>0</th>\n      <td>387.0</td>\n      <td>2020-04-06 16:14:44</td>\n      <td>2020-04-06 16:21:11</td>\n      <td>25th St &amp; Pennsylvania Ave NW</td>\n      <td>20th &amp; E St NW</td>\n      <td>member</td>\n    </tr>\n    <tr>\n      <th>1</th>\n      <td>300.0</td>\n      <td>2020-04-07 13:23:05</td>\n      <td>2020-04-07 13:28:05</td>\n      <td>25th St &amp; Pennsylvania Ave NW</td>\n      <td>22nd &amp; I St NW / Foggy Bottom</td>\n      <td>member</td>\n    </tr>\n    <tr>\n      <th>2</th>\n      <td>389.0</td>\n      <td>2020-04-07 14:26:56</td>\n      <td>2020-04-07 14:33:25</td>\n      <td>25th St &amp; Pennsylvania Ave NW</td>\n      <td>34th &amp; Water St NW</td>\n      <td>member</td>\n    </tr>\n    <tr>\n      <th>3</th>\n      <td>376.0</td>\n      <td>2020-04-12 10:31:41</td>\n      <td>2020-04-12 10:37:57</td>\n      <td>25th St &amp; Pennsylvania Ave NW</td>\n      <td>Massachusetts Ave &amp; Dupont Circle NW</td>\n      <td>member</td>\n    </tr>\n    <tr>\n      <th>4</th>\n      <td>409.0</td>\n      <td>2020-04-05 11:35:20</td>\n      <td>2020-04-05 11:42:09</td>\n      <td>25th St &amp; Pennsylvania Ave NW</td>\n      <td>Massachusetts Ave &amp; Dupont Circle NW</td>\n      <td>member</td>\n    </tr>\n    <tr>\n      <th>...</th>\n      <td>...</td>\n      <td>...</td>\n      <td>...</td>\n      <td>...</td>\n      <td>...</td>\n      <td>...</td>\n    </tr>\n    <tr>\n      <th>105824</th>\n      <td>1627.0</td>\n      <td>2020-12-12 13:49:55</td>\n      <td>2020-12-12 14:17:02</td>\n      <td>Jefferson Dr &amp; 14th St SW</td>\n      <td>19th St &amp; Constitution Ave NW</td>\n      <td>casual</td>\n    </tr>\n    <tr>\n      <th>105825</th>\n      <td>1365.0</td>\n      <td>2020-12-03 13:43:26</td>\n      <td>2020-12-03 14:06:11</td>\n      <td>Jefferson Dr &amp; 14th St SW</td>\n      <td>4th St &amp; Madison Dr NW</td>\n      <td>casual</td>\n    </tr>\n    <tr>\n      <th>105826</th>\n      <td>2159.0</td>\n      <td>2020-12-06 07:27:47</td>\n      <td>2020-12-06 08:03:46</td>\n      <td>Jefferson Dr &amp; 14th St SW</td>\n      <td>19th St &amp; Constitution Ave NW</td>\n      <td>casual</td>\n    </tr>\n    <tr>\n      <th>105827</th>\n      <td>2458.0</td>\n      <td>2020-12-21 13:46:01</td>\n      <td>2020-12-21 14:26:59</td>\n      <td>Jefferson Dr &amp; 14th St SW</td>\n      <td>17th &amp; G St NW</td>\n      <td>casual</td>\n    </tr>\n    <tr>\n      <th>105828</th>\n      <td>846.0</td>\n      <td>2020-12-18 09:09:48</td>\n      <td>2020-12-18 09:23:54</td>\n      <td>New Hampshire Ave &amp; 24th St NW</td>\n      <td>4th St &amp; Madison Dr NW</td>\n      <td>member</td>\n    </tr>\n  </tbody>\n</table>\n<p>1679302 rows × 6 columns</p>\n</div>"
     },
     "metadata": {},
     "execution_count": 43
    }
   ],
   "source": [
    "month_edit"
   ]
  },
  {
   "cell_type": "code",
   "execution_count": 44,
   "metadata": {},
   "outputs": [],
   "source": [
    "# m=(month_edit.dtypes=='float')\n",
    "# month_edit.loc[:,m]=month_edit.loc[:,m].astype(int)"
   ]
  },
  {
   "cell_type": "code",
   "execution_count": 45,
   "metadata": {},
   "outputs": [],
   "source": [
    "rest_all = pd.concat([jan2018,feb2018,mar2018,apr2018,may2018,jun2018,jul2018,aug2018,sep2018,oct2018,nov2018,dec2018,jan2019,feb2019,mar2019,apr2019,may2019,jun2019,jul2019,aug2019,sep2019,oct2019,nov2019,dec2019,jan2020,feb2020,mar2020], axis=0)"
   ]
  },
  {
   "cell_type": "code",
   "execution_count": 46,
   "metadata": {},
   "outputs": [
    {
     "output_type": "execute_result",
     "data": {
      "text/plain": [
       "        Duration           Start date             End date  \\\n",
       "0            552  2018-01-01 00:05:06  2018-01-01 00:14:18   \n",
       "1           1282  2018-01-01 00:14:30  2018-01-01 00:35:53   \n",
       "2           1265  2018-01-01 00:14:53  2018-01-01 00:35:58   \n",
       "3            578  2018-01-01 00:15:31  2018-01-01 00:25:09   \n",
       "4            372  2018-01-01 00:18:02  2018-01-01 00:24:15   \n",
       "...          ...                  ...                  ...   \n",
       "162525       673  2020-03-31 23:17:58  2020-03-31 23:29:12   \n",
       "162526       514  2020-03-31 23:18:13  2020-03-31 23:26:47   \n",
       "162527      1524  2020-03-31 23:29:00  2020-03-31 23:54:25   \n",
       "162528       565  2020-03-31 23:41:17  2020-03-31 23:50:43   \n",
       "162529      1054  2020-03-31 23:45:05  2020-04-01 00:02:40   \n",
       "\n",
       "        Start station number                  Start station  \\\n",
       "0                      31104    Adams Mill & Columbia Rd NW   \n",
       "1                      31321  15th St & Constitution Ave NW   \n",
       "2                      31321  15th St & Constitution Ave NW   \n",
       "3                      31406            14th & Upshur St NW   \n",
       "4                      31618       4th & East Capitol St NE   \n",
       "...                      ...                            ...   \n",
       "162525                 31235  19th St & Constitution Ave NW   \n",
       "162526                 31203     14th & Rhode Island Ave NW   \n",
       "162527                 31110       20th St & Florida Ave NW   \n",
       "162528                 31603                  1st & M St NE   \n",
       "162529                 31325      Reservoir Rd & 38th St NW   \n",
       "\n",
       "        End station number                                End station  \\\n",
       "0                    31400             Georgia & New Hampshire Ave NW   \n",
       "1                    31321              15th St & Constitution Ave NW   \n",
       "2                    31321              15th St & Constitution Ave NW   \n",
       "3                    31103                       16th & Harvard St NW   \n",
       "4                    31619  Lincoln Park / 13th & East Capitol St NE    \n",
       "...                    ...                                        ...   \n",
       "162525               31265              5th St & Massachusetts Ave NW   \n",
       "162526               31324                18th & New Hampshire Ave NW   \n",
       "162527               31403                        5th & Kennedy St NW   \n",
       "162528               31256                             10th & E St NW   \n",
       "162529               31214                      17th & Corcoran St NW   \n",
       "\n",
       "       Bike number Member type  \n",
       "0           W00886      Member  \n",
       "1           W01435      Casual  \n",
       "2           W21242      Casual  \n",
       "3           W21322      Casual  \n",
       "4           W00119      Member  \n",
       "...            ...         ...  \n",
       "162525      W22920      Member  \n",
       "162526       21054      Member  \n",
       "162527      W24341      Member  \n",
       "162528      W22691      Member  \n",
       "162529      W24051      Member  \n",
       "\n",
       "[7478501 rows x 9 columns]"
      ],
      "text/html": "<div>\n<style scoped>\n    .dataframe tbody tr th:only-of-type {\n        vertical-align: middle;\n    }\n\n    .dataframe tbody tr th {\n        vertical-align: top;\n    }\n\n    .dataframe thead th {\n        text-align: right;\n    }\n</style>\n<table border=\"1\" class=\"dataframe\">\n  <thead>\n    <tr style=\"text-align: right;\">\n      <th></th>\n      <th>Duration</th>\n      <th>Start date</th>\n      <th>End date</th>\n      <th>Start station number</th>\n      <th>Start station</th>\n      <th>End station number</th>\n      <th>End station</th>\n      <th>Bike number</th>\n      <th>Member type</th>\n    </tr>\n  </thead>\n  <tbody>\n    <tr>\n      <th>0</th>\n      <td>552</td>\n      <td>2018-01-01 00:05:06</td>\n      <td>2018-01-01 00:14:18</td>\n      <td>31104</td>\n      <td>Adams Mill &amp; Columbia Rd NW</td>\n      <td>31400</td>\n      <td>Georgia &amp; New Hampshire Ave NW</td>\n      <td>W00886</td>\n      <td>Member</td>\n    </tr>\n    <tr>\n      <th>1</th>\n      <td>1282</td>\n      <td>2018-01-01 00:14:30</td>\n      <td>2018-01-01 00:35:53</td>\n      <td>31321</td>\n      <td>15th St &amp; Constitution Ave NW</td>\n      <td>31321</td>\n      <td>15th St &amp; Constitution Ave NW</td>\n      <td>W01435</td>\n      <td>Casual</td>\n    </tr>\n    <tr>\n      <th>2</th>\n      <td>1265</td>\n      <td>2018-01-01 00:14:53</td>\n      <td>2018-01-01 00:35:58</td>\n      <td>31321</td>\n      <td>15th St &amp; Constitution Ave NW</td>\n      <td>31321</td>\n      <td>15th St &amp; Constitution Ave NW</td>\n      <td>W21242</td>\n      <td>Casual</td>\n    </tr>\n    <tr>\n      <th>3</th>\n      <td>578</td>\n      <td>2018-01-01 00:15:31</td>\n      <td>2018-01-01 00:25:09</td>\n      <td>31406</td>\n      <td>14th &amp; Upshur St NW</td>\n      <td>31103</td>\n      <td>16th &amp; Harvard St NW</td>\n      <td>W21322</td>\n      <td>Casual</td>\n    </tr>\n    <tr>\n      <th>4</th>\n      <td>372</td>\n      <td>2018-01-01 00:18:02</td>\n      <td>2018-01-01 00:24:15</td>\n      <td>31618</td>\n      <td>4th &amp; East Capitol St NE</td>\n      <td>31619</td>\n      <td>Lincoln Park / 13th &amp; East Capitol St NE</td>\n      <td>W00119</td>\n      <td>Member</td>\n    </tr>\n    <tr>\n      <th>...</th>\n      <td>...</td>\n      <td>...</td>\n      <td>...</td>\n      <td>...</td>\n      <td>...</td>\n      <td>...</td>\n      <td>...</td>\n      <td>...</td>\n      <td>...</td>\n    </tr>\n    <tr>\n      <th>162525</th>\n      <td>673</td>\n      <td>2020-03-31 23:17:58</td>\n      <td>2020-03-31 23:29:12</td>\n      <td>31235</td>\n      <td>19th St &amp; Constitution Ave NW</td>\n      <td>31265</td>\n      <td>5th St &amp; Massachusetts Ave NW</td>\n      <td>W22920</td>\n      <td>Member</td>\n    </tr>\n    <tr>\n      <th>162526</th>\n      <td>514</td>\n      <td>2020-03-31 23:18:13</td>\n      <td>2020-03-31 23:26:47</td>\n      <td>31203</td>\n      <td>14th &amp; Rhode Island Ave NW</td>\n      <td>31324</td>\n      <td>18th &amp; New Hampshire Ave NW</td>\n      <td>21054</td>\n      <td>Member</td>\n    </tr>\n    <tr>\n      <th>162527</th>\n      <td>1524</td>\n      <td>2020-03-31 23:29:00</td>\n      <td>2020-03-31 23:54:25</td>\n      <td>31110</td>\n      <td>20th St &amp; Florida Ave NW</td>\n      <td>31403</td>\n      <td>5th &amp; Kennedy St NW</td>\n      <td>W24341</td>\n      <td>Member</td>\n    </tr>\n    <tr>\n      <th>162528</th>\n      <td>565</td>\n      <td>2020-03-31 23:41:17</td>\n      <td>2020-03-31 23:50:43</td>\n      <td>31603</td>\n      <td>1st &amp; M St NE</td>\n      <td>31256</td>\n      <td>10th &amp; E St NW</td>\n      <td>W22691</td>\n      <td>Member</td>\n    </tr>\n    <tr>\n      <th>162529</th>\n      <td>1054</td>\n      <td>2020-03-31 23:45:05</td>\n      <td>2020-04-01 00:02:40</td>\n      <td>31325</td>\n      <td>Reservoir Rd &amp; 38th St NW</td>\n      <td>31214</td>\n      <td>17th &amp; Corcoran St NW</td>\n      <td>W24051</td>\n      <td>Member</td>\n    </tr>\n  </tbody>\n</table>\n<p>7478501 rows × 9 columns</p>\n</div>"
     },
     "metadata": {},
     "execution_count": 46
    }
   ],
   "source": [
    "rest_all"
   ]
  },
  {
   "cell_type": "code",
   "execution_count": 47,
   "metadata": {},
   "outputs": [
    {
     "output_type": "execute_result",
     "data": {
      "text/plain": [
       "        Duration           Start date             End date  \\\n",
       "0            552  2018-01-01 00:05:06  2018-01-01 00:14:18   \n",
       "1           1282  2018-01-01 00:14:30  2018-01-01 00:35:53   \n",
       "2           1265  2018-01-01 00:14:53  2018-01-01 00:35:58   \n",
       "3            578  2018-01-01 00:15:31  2018-01-01 00:25:09   \n",
       "4            372  2018-01-01 00:18:02  2018-01-01 00:24:15   \n",
       "...          ...                  ...                  ...   \n",
       "162525       673  2020-03-31 23:17:58  2020-03-31 23:29:12   \n",
       "162526       514  2020-03-31 23:18:13  2020-03-31 23:26:47   \n",
       "162527      1524  2020-03-31 23:29:00  2020-03-31 23:54:25   \n",
       "162528       565  2020-03-31 23:41:17  2020-03-31 23:50:43   \n",
       "162529      1054  2020-03-31 23:45:05  2020-04-01 00:02:40   \n",
       "\n",
       "                        Start station  \\\n",
       "0         Adams Mill & Columbia Rd NW   \n",
       "1       15th St & Constitution Ave NW   \n",
       "2       15th St & Constitution Ave NW   \n",
       "3                 14th & Upshur St NW   \n",
       "4            4th & East Capitol St NE   \n",
       "...                               ...   \n",
       "162525  19th St & Constitution Ave NW   \n",
       "162526     14th & Rhode Island Ave NW   \n",
       "162527       20th St & Florida Ave NW   \n",
       "162528                  1st & M St NE   \n",
       "162529      Reservoir Rd & 38th St NW   \n",
       "\n",
       "                                      End station Member type Bike number  \n",
       "0                  Georgia & New Hampshire Ave NW      Member      W00886  \n",
       "1                   15th St & Constitution Ave NW      Casual      W01435  \n",
       "2                   15th St & Constitution Ave NW      Casual      W21242  \n",
       "3                            16th & Harvard St NW      Casual      W21322  \n",
       "4       Lincoln Park / 13th & East Capitol St NE       Member      W00119  \n",
       "...                                           ...         ...         ...  \n",
       "162525              5th St & Massachusetts Ave NW      Member      W22920  \n",
       "162526                18th & New Hampshire Ave NW      Member       21054  \n",
       "162527                        5th & Kennedy St NW      Member      W24341  \n",
       "162528                             10th & E St NW      Member      W22691  \n",
       "162529                      17th & Corcoran St NW      Member      W24051  \n",
       "\n",
       "[7478501 rows x 7 columns]"
      ],
      "text/html": "<div>\n<style scoped>\n    .dataframe tbody tr th:only-of-type {\n        vertical-align: middle;\n    }\n\n    .dataframe tbody tr th {\n        vertical-align: top;\n    }\n\n    .dataframe thead th {\n        text-align: right;\n    }\n</style>\n<table border=\"1\" class=\"dataframe\">\n  <thead>\n    <tr style=\"text-align: right;\">\n      <th></th>\n      <th>Duration</th>\n      <th>Start date</th>\n      <th>End date</th>\n      <th>Start station</th>\n      <th>End station</th>\n      <th>Member type</th>\n      <th>Bike number</th>\n    </tr>\n  </thead>\n  <tbody>\n    <tr>\n      <th>0</th>\n      <td>552</td>\n      <td>2018-01-01 00:05:06</td>\n      <td>2018-01-01 00:14:18</td>\n      <td>Adams Mill &amp; Columbia Rd NW</td>\n      <td>Georgia &amp; New Hampshire Ave NW</td>\n      <td>Member</td>\n      <td>W00886</td>\n    </tr>\n    <tr>\n      <th>1</th>\n      <td>1282</td>\n      <td>2018-01-01 00:14:30</td>\n      <td>2018-01-01 00:35:53</td>\n      <td>15th St &amp; Constitution Ave NW</td>\n      <td>15th St &amp; Constitution Ave NW</td>\n      <td>Casual</td>\n      <td>W01435</td>\n    </tr>\n    <tr>\n      <th>2</th>\n      <td>1265</td>\n      <td>2018-01-01 00:14:53</td>\n      <td>2018-01-01 00:35:58</td>\n      <td>15th St &amp; Constitution Ave NW</td>\n      <td>15th St &amp; Constitution Ave NW</td>\n      <td>Casual</td>\n      <td>W21242</td>\n    </tr>\n    <tr>\n      <th>3</th>\n      <td>578</td>\n      <td>2018-01-01 00:15:31</td>\n      <td>2018-01-01 00:25:09</td>\n      <td>14th &amp; Upshur St NW</td>\n      <td>16th &amp; Harvard St NW</td>\n      <td>Casual</td>\n      <td>W21322</td>\n    </tr>\n    <tr>\n      <th>4</th>\n      <td>372</td>\n      <td>2018-01-01 00:18:02</td>\n      <td>2018-01-01 00:24:15</td>\n      <td>4th &amp; East Capitol St NE</td>\n      <td>Lincoln Park / 13th &amp; East Capitol St NE</td>\n      <td>Member</td>\n      <td>W00119</td>\n    </tr>\n    <tr>\n      <th>...</th>\n      <td>...</td>\n      <td>...</td>\n      <td>...</td>\n      <td>...</td>\n      <td>...</td>\n      <td>...</td>\n      <td>...</td>\n    </tr>\n    <tr>\n      <th>162525</th>\n      <td>673</td>\n      <td>2020-03-31 23:17:58</td>\n      <td>2020-03-31 23:29:12</td>\n      <td>19th St &amp; Constitution Ave NW</td>\n      <td>5th St &amp; Massachusetts Ave NW</td>\n      <td>Member</td>\n      <td>W22920</td>\n    </tr>\n    <tr>\n      <th>162526</th>\n      <td>514</td>\n      <td>2020-03-31 23:18:13</td>\n      <td>2020-03-31 23:26:47</td>\n      <td>14th &amp; Rhode Island Ave NW</td>\n      <td>18th &amp; New Hampshire Ave NW</td>\n      <td>Member</td>\n      <td>21054</td>\n    </tr>\n    <tr>\n      <th>162527</th>\n      <td>1524</td>\n      <td>2020-03-31 23:29:00</td>\n      <td>2020-03-31 23:54:25</td>\n      <td>20th St &amp; Florida Ave NW</td>\n      <td>5th &amp; Kennedy St NW</td>\n      <td>Member</td>\n      <td>W24341</td>\n    </tr>\n    <tr>\n      <th>162528</th>\n      <td>565</td>\n      <td>2020-03-31 23:41:17</td>\n      <td>2020-03-31 23:50:43</td>\n      <td>1st &amp; M St NE</td>\n      <td>10th &amp; E St NW</td>\n      <td>Member</td>\n      <td>W22691</td>\n    </tr>\n    <tr>\n      <th>162529</th>\n      <td>1054</td>\n      <td>2020-03-31 23:45:05</td>\n      <td>2020-04-01 00:02:40</td>\n      <td>Reservoir Rd &amp; 38th St NW</td>\n      <td>17th &amp; Corcoran St NW</td>\n      <td>Member</td>\n      <td>W24051</td>\n    </tr>\n  </tbody>\n</table>\n<p>7478501 rows × 7 columns</p>\n</div>"
     },
     "metadata": {},
     "execution_count": 47
    }
   ],
   "source": [
    "rest_all = rest_all[['Duration','Start date', 'End date','Start station', 'End station','Member type', 'Bike number']]\n",
    "rest_all"
   ]
  },
  {
   "cell_type": "code",
   "execution_count": 48,
   "metadata": {},
   "outputs": [
    {
     "output_type": "execute_result",
     "data": {
      "text/plain": [
       "        Duration           Start date             End date  \\\n",
       "0          552.0  2018-01-01 00:05:06  2018-01-01 00:14:18   \n",
       "1         1282.0  2018-01-01 00:14:30  2018-01-01 00:35:53   \n",
       "2         1265.0  2018-01-01 00:14:53  2018-01-01 00:35:58   \n",
       "3          578.0  2018-01-01 00:15:31  2018-01-01 00:25:09   \n",
       "4          372.0  2018-01-01 00:18:02  2018-01-01 00:24:15   \n",
       "...          ...                  ...                  ...   \n",
       "105824    1627.0  2020-12-12 13:49:55  2020-12-12 14:17:02   \n",
       "105825    1365.0  2020-12-03 13:43:26  2020-12-03 14:06:11   \n",
       "105826    2159.0  2020-12-06 07:27:47  2020-12-06 08:03:46   \n",
       "105827    2458.0  2020-12-21 13:46:01  2020-12-21 14:26:59   \n",
       "105828     846.0  2020-12-18 09:09:48  2020-12-18 09:23:54   \n",
       "\n",
       "                         Start station  \\\n",
       "0          Adams Mill & Columbia Rd NW   \n",
       "1        15th St & Constitution Ave NW   \n",
       "2        15th St & Constitution Ave NW   \n",
       "3                  14th & Upshur St NW   \n",
       "4             4th & East Capitol St NE   \n",
       "...                                ...   \n",
       "105824       Jefferson Dr & 14th St SW   \n",
       "105825       Jefferson Dr & 14th St SW   \n",
       "105826       Jefferson Dr & 14th St SW   \n",
       "105827       Jefferson Dr & 14th St SW   \n",
       "105828  New Hampshire Ave & 24th St NW   \n",
       "\n",
       "                                      End station Member type Bike number  \n",
       "0                  Georgia & New Hampshire Ave NW      Member      W00886  \n",
       "1                   15th St & Constitution Ave NW      Casual      W01435  \n",
       "2                   15th St & Constitution Ave NW      Casual      W21242  \n",
       "3                            16th & Harvard St NW      Casual      W21322  \n",
       "4       Lincoln Park / 13th & East Capitol St NE       Member      W00119  \n",
       "...                                           ...         ...         ...  \n",
       "105824              19th St & Constitution Ave NW      casual         NaN  \n",
       "105825                     4th St & Madison Dr NW      casual         NaN  \n",
       "105826              19th St & Constitution Ave NW      casual         NaN  \n",
       "105827                             17th & G St NW      casual         NaN  \n",
       "105828                     4th St & Madison Dr NW      member         NaN  \n",
       "\n",
       "[9157803 rows x 7 columns]"
      ],
      "text/html": "<div>\n<style scoped>\n    .dataframe tbody tr th:only-of-type {\n        vertical-align: middle;\n    }\n\n    .dataframe tbody tr th {\n        vertical-align: top;\n    }\n\n    .dataframe thead th {\n        text-align: right;\n    }\n</style>\n<table border=\"1\" class=\"dataframe\">\n  <thead>\n    <tr style=\"text-align: right;\">\n      <th></th>\n      <th>Duration</th>\n      <th>Start date</th>\n      <th>End date</th>\n      <th>Start station</th>\n      <th>End station</th>\n      <th>Member type</th>\n      <th>Bike number</th>\n    </tr>\n  </thead>\n  <tbody>\n    <tr>\n      <th>0</th>\n      <td>552.0</td>\n      <td>2018-01-01 00:05:06</td>\n      <td>2018-01-01 00:14:18</td>\n      <td>Adams Mill &amp; Columbia Rd NW</td>\n      <td>Georgia &amp; New Hampshire Ave NW</td>\n      <td>Member</td>\n      <td>W00886</td>\n    </tr>\n    <tr>\n      <th>1</th>\n      <td>1282.0</td>\n      <td>2018-01-01 00:14:30</td>\n      <td>2018-01-01 00:35:53</td>\n      <td>15th St &amp; Constitution Ave NW</td>\n      <td>15th St &amp; Constitution Ave NW</td>\n      <td>Casual</td>\n      <td>W01435</td>\n    </tr>\n    <tr>\n      <th>2</th>\n      <td>1265.0</td>\n      <td>2018-01-01 00:14:53</td>\n      <td>2018-01-01 00:35:58</td>\n      <td>15th St &amp; Constitution Ave NW</td>\n      <td>15th St &amp; Constitution Ave NW</td>\n      <td>Casual</td>\n      <td>W21242</td>\n    </tr>\n    <tr>\n      <th>3</th>\n      <td>578.0</td>\n      <td>2018-01-01 00:15:31</td>\n      <td>2018-01-01 00:25:09</td>\n      <td>14th &amp; Upshur St NW</td>\n      <td>16th &amp; Harvard St NW</td>\n      <td>Casual</td>\n      <td>W21322</td>\n    </tr>\n    <tr>\n      <th>4</th>\n      <td>372.0</td>\n      <td>2018-01-01 00:18:02</td>\n      <td>2018-01-01 00:24:15</td>\n      <td>4th &amp; East Capitol St NE</td>\n      <td>Lincoln Park / 13th &amp; East Capitol St NE</td>\n      <td>Member</td>\n      <td>W00119</td>\n    </tr>\n    <tr>\n      <th>...</th>\n      <td>...</td>\n      <td>...</td>\n      <td>...</td>\n      <td>...</td>\n      <td>...</td>\n      <td>...</td>\n      <td>...</td>\n    </tr>\n    <tr>\n      <th>105824</th>\n      <td>1627.0</td>\n      <td>2020-12-12 13:49:55</td>\n      <td>2020-12-12 14:17:02</td>\n      <td>Jefferson Dr &amp; 14th St SW</td>\n      <td>19th St &amp; Constitution Ave NW</td>\n      <td>casual</td>\n      <td>NaN</td>\n    </tr>\n    <tr>\n      <th>105825</th>\n      <td>1365.0</td>\n      <td>2020-12-03 13:43:26</td>\n      <td>2020-12-03 14:06:11</td>\n      <td>Jefferson Dr &amp; 14th St SW</td>\n      <td>4th St &amp; Madison Dr NW</td>\n      <td>casual</td>\n      <td>NaN</td>\n    </tr>\n    <tr>\n      <th>105826</th>\n      <td>2159.0</td>\n      <td>2020-12-06 07:27:47</td>\n      <td>2020-12-06 08:03:46</td>\n      <td>Jefferson Dr &amp; 14th St SW</td>\n      <td>19th St &amp; Constitution Ave NW</td>\n      <td>casual</td>\n      <td>NaN</td>\n    </tr>\n    <tr>\n      <th>105827</th>\n      <td>2458.0</td>\n      <td>2020-12-21 13:46:01</td>\n      <td>2020-12-21 14:26:59</td>\n      <td>Jefferson Dr &amp; 14th St SW</td>\n      <td>17th &amp; G St NW</td>\n      <td>casual</td>\n      <td>NaN</td>\n    </tr>\n    <tr>\n      <th>105828</th>\n      <td>846.0</td>\n      <td>2020-12-18 09:09:48</td>\n      <td>2020-12-18 09:23:54</td>\n      <td>New Hampshire Ave &amp; 24th St NW</td>\n      <td>4th St &amp; Madison Dr NW</td>\n      <td>member</td>\n      <td>NaN</td>\n    </tr>\n  </tbody>\n</table>\n<p>9157803 rows × 7 columns</p>\n</div>"
     },
     "metadata": {},
     "execution_count": 48
    }
   ],
   "source": [
    "final = pd.concat([rest_all,month_edit], axis=0)\n",
    "final"
   ]
  },
  {
   "cell_type": "code",
   "execution_count": 49,
   "metadata": {},
   "outputs": [
    {
     "output_type": "execute_result",
     "data": {
      "text/plain": [
       "        Duration          Start date             End date  \\\n",
       "0          552.0 2018-01-01 00:05:06  2018-01-01 00:14:18   \n",
       "1         1282.0 2018-01-01 00:14:30  2018-01-01 00:35:53   \n",
       "2         1265.0 2018-01-01 00:14:53  2018-01-01 00:35:58   \n",
       "3          578.0 2018-01-01 00:15:31  2018-01-01 00:25:09   \n",
       "4          372.0 2018-01-01 00:18:02  2018-01-01 00:24:15   \n",
       "...          ...                 ...                  ...   \n",
       "105824    1627.0 2020-12-12 13:49:55  2020-12-12 14:17:02   \n",
       "105825    1365.0 2020-12-03 13:43:26  2020-12-03 14:06:11   \n",
       "105826    2159.0 2020-12-06 07:27:47  2020-12-06 08:03:46   \n",
       "105827    2458.0 2020-12-21 13:46:01  2020-12-21 14:26:59   \n",
       "105828     846.0 2020-12-18 09:09:48  2020-12-18 09:23:54   \n",
       "\n",
       "                         Start station  \\\n",
       "0          Adams Mill & Columbia Rd NW   \n",
       "1        15th St & Constitution Ave NW   \n",
       "2        15th St & Constitution Ave NW   \n",
       "3                  14th & Upshur St NW   \n",
       "4             4th & East Capitol St NE   \n",
       "...                                ...   \n",
       "105824       Jefferson Dr & 14th St SW   \n",
       "105825       Jefferson Dr & 14th St SW   \n",
       "105826       Jefferson Dr & 14th St SW   \n",
       "105827       Jefferson Dr & 14th St SW   \n",
       "105828  New Hampshire Ave & 24th St NW   \n",
       "\n",
       "                                      End station Member type Bike number  \\\n",
       "0                  Georgia & New Hampshire Ave NW      Member      W00886   \n",
       "1                   15th St & Constitution Ave NW      Casual      W01435   \n",
       "2                   15th St & Constitution Ave NW      Casual      W21242   \n",
       "3                            16th & Harvard St NW      Casual      W21322   \n",
       "4       Lincoln Park / 13th & East Capitol St NE       Member      W00119   \n",
       "...                                           ...         ...         ...   \n",
       "105824              19th St & Constitution Ave NW      casual         NaN   \n",
       "105825                     4th St & Madison Dr NW      casual         NaN   \n",
       "105826              19th St & Constitution Ave NW      casual         NaN   \n",
       "105827                             17th & G St NW      casual         NaN   \n",
       "105828                     4th St & Madison Dr NW      member         NaN   \n",
       "\n",
       "              date      time  \n",
       "0       2018-01-01  00:05:06  \n",
       "1       2018-01-01  00:14:30  \n",
       "2       2018-01-01  00:14:53  \n",
       "3       2018-01-01  00:15:31  \n",
       "4       2018-01-01  00:18:02  \n",
       "...            ...       ...  \n",
       "105824  2020-12-12  13:49:55  \n",
       "105825  2020-12-03  13:43:26  \n",
       "105826  2020-12-06  07:27:47  \n",
       "105827  2020-12-21  13:46:01  \n",
       "105828  2020-12-18  09:09:48  \n",
       "\n",
       "[9157803 rows x 9 columns]"
      ],
      "text/html": "<div>\n<style scoped>\n    .dataframe tbody tr th:only-of-type {\n        vertical-align: middle;\n    }\n\n    .dataframe tbody tr th {\n        vertical-align: top;\n    }\n\n    .dataframe thead th {\n        text-align: right;\n    }\n</style>\n<table border=\"1\" class=\"dataframe\">\n  <thead>\n    <tr style=\"text-align: right;\">\n      <th></th>\n      <th>Duration</th>\n      <th>Start date</th>\n      <th>End date</th>\n      <th>Start station</th>\n      <th>End station</th>\n      <th>Member type</th>\n      <th>Bike number</th>\n      <th>date</th>\n      <th>time</th>\n    </tr>\n  </thead>\n  <tbody>\n    <tr>\n      <th>0</th>\n      <td>552.0</td>\n      <td>2018-01-01 00:05:06</td>\n      <td>2018-01-01 00:14:18</td>\n      <td>Adams Mill &amp; Columbia Rd NW</td>\n      <td>Georgia &amp; New Hampshire Ave NW</td>\n      <td>Member</td>\n      <td>W00886</td>\n      <td>2018-01-01</td>\n      <td>00:05:06</td>\n    </tr>\n    <tr>\n      <th>1</th>\n      <td>1282.0</td>\n      <td>2018-01-01 00:14:30</td>\n      <td>2018-01-01 00:35:53</td>\n      <td>15th St &amp; Constitution Ave NW</td>\n      <td>15th St &amp; Constitution Ave NW</td>\n      <td>Casual</td>\n      <td>W01435</td>\n      <td>2018-01-01</td>\n      <td>00:14:30</td>\n    </tr>\n    <tr>\n      <th>2</th>\n      <td>1265.0</td>\n      <td>2018-01-01 00:14:53</td>\n      <td>2018-01-01 00:35:58</td>\n      <td>15th St &amp; Constitution Ave NW</td>\n      <td>15th St &amp; Constitution Ave NW</td>\n      <td>Casual</td>\n      <td>W21242</td>\n      <td>2018-01-01</td>\n      <td>00:14:53</td>\n    </tr>\n    <tr>\n      <th>3</th>\n      <td>578.0</td>\n      <td>2018-01-01 00:15:31</td>\n      <td>2018-01-01 00:25:09</td>\n      <td>14th &amp; Upshur St NW</td>\n      <td>16th &amp; Harvard St NW</td>\n      <td>Casual</td>\n      <td>W21322</td>\n      <td>2018-01-01</td>\n      <td>00:15:31</td>\n    </tr>\n    <tr>\n      <th>4</th>\n      <td>372.0</td>\n      <td>2018-01-01 00:18:02</td>\n      <td>2018-01-01 00:24:15</td>\n      <td>4th &amp; East Capitol St NE</td>\n      <td>Lincoln Park / 13th &amp; East Capitol St NE</td>\n      <td>Member</td>\n      <td>W00119</td>\n      <td>2018-01-01</td>\n      <td>00:18:02</td>\n    </tr>\n    <tr>\n      <th>...</th>\n      <td>...</td>\n      <td>...</td>\n      <td>...</td>\n      <td>...</td>\n      <td>...</td>\n      <td>...</td>\n      <td>...</td>\n      <td>...</td>\n      <td>...</td>\n    </tr>\n    <tr>\n      <th>105824</th>\n      <td>1627.0</td>\n      <td>2020-12-12 13:49:55</td>\n      <td>2020-12-12 14:17:02</td>\n      <td>Jefferson Dr &amp; 14th St SW</td>\n      <td>19th St &amp; Constitution Ave NW</td>\n      <td>casual</td>\n      <td>NaN</td>\n      <td>2020-12-12</td>\n      <td>13:49:55</td>\n    </tr>\n    <tr>\n      <th>105825</th>\n      <td>1365.0</td>\n      <td>2020-12-03 13:43:26</td>\n      <td>2020-12-03 14:06:11</td>\n      <td>Jefferson Dr &amp; 14th St SW</td>\n      <td>4th St &amp; Madison Dr NW</td>\n      <td>casual</td>\n      <td>NaN</td>\n      <td>2020-12-03</td>\n      <td>13:43:26</td>\n    </tr>\n    <tr>\n      <th>105826</th>\n      <td>2159.0</td>\n      <td>2020-12-06 07:27:47</td>\n      <td>2020-12-06 08:03:46</td>\n      <td>Jefferson Dr &amp; 14th St SW</td>\n      <td>19th St &amp; Constitution Ave NW</td>\n      <td>casual</td>\n      <td>NaN</td>\n      <td>2020-12-06</td>\n      <td>07:27:47</td>\n    </tr>\n    <tr>\n      <th>105827</th>\n      <td>2458.0</td>\n      <td>2020-12-21 13:46:01</td>\n      <td>2020-12-21 14:26:59</td>\n      <td>Jefferson Dr &amp; 14th St SW</td>\n      <td>17th &amp; G St NW</td>\n      <td>casual</td>\n      <td>NaN</td>\n      <td>2020-12-21</td>\n      <td>13:46:01</td>\n    </tr>\n    <tr>\n      <th>105828</th>\n      <td>846.0</td>\n      <td>2020-12-18 09:09:48</td>\n      <td>2020-12-18 09:23:54</td>\n      <td>New Hampshire Ave &amp; 24th St NW</td>\n      <td>4th St &amp; Madison Dr NW</td>\n      <td>member</td>\n      <td>NaN</td>\n      <td>2020-12-18</td>\n      <td>09:09:48</td>\n    </tr>\n  </tbody>\n</table>\n<p>9157803 rows × 9 columns</p>\n</div>"
     },
     "metadata": {},
     "execution_count": 49
    }
   ],
   "source": [
    "final['Start date'] = pd.to_datetime(final['Start date'])\n",
    "\n",
    "final['date'] = final['Start date'].dt.date\n",
    "\n",
    "final['time'] = final['Start date'].dt.time\n",
    "final"
   ]
  },
  {
   "cell_type": "code",
   "execution_count": 50,
   "metadata": {},
   "outputs": [
    {
     "output_type": "execute_result",
     "data": {
      "text/plain": [
       "        Duration          Start date             End date  \\\n",
       "0          552.0 2018-01-01 00:05:06  2018-01-01 00:14:18   \n",
       "1         1282.0 2018-01-01 00:14:30  2018-01-01 00:35:53   \n",
       "2         1265.0 2018-01-01 00:14:53  2018-01-01 00:35:58   \n",
       "3          578.0 2018-01-01 00:15:31  2018-01-01 00:25:09   \n",
       "4          372.0 2018-01-01 00:18:02  2018-01-01 00:24:15   \n",
       "...          ...                 ...                  ...   \n",
       "105824    1627.0 2020-12-12 13:49:55  2020-12-12 14:17:02   \n",
       "105825    1365.0 2020-12-03 13:43:26  2020-12-03 14:06:11   \n",
       "105826    2159.0 2020-12-06 07:27:47  2020-12-06 08:03:46   \n",
       "105827    2458.0 2020-12-21 13:46:01  2020-12-21 14:26:59   \n",
       "105828     846.0 2020-12-18 09:09:48  2020-12-18 09:23:54   \n",
       "\n",
       "                         Start station  \\\n",
       "0          Adams Mill & Columbia Rd NW   \n",
       "1        15th St & Constitution Ave NW   \n",
       "2        15th St & Constitution Ave NW   \n",
       "3                  14th & Upshur St NW   \n",
       "4             4th & East Capitol St NE   \n",
       "...                                ...   \n",
       "105824       Jefferson Dr & 14th St SW   \n",
       "105825       Jefferson Dr & 14th St SW   \n",
       "105826       Jefferson Dr & 14th St SW   \n",
       "105827       Jefferson Dr & 14th St SW   \n",
       "105828  New Hampshire Ave & 24th St NW   \n",
       "\n",
       "                                      End station Member type Bike number  \\\n",
       "0                  Georgia & New Hampshire Ave NW      Member      W00886   \n",
       "1                   15th St & Constitution Ave NW      Casual      W01435   \n",
       "2                   15th St & Constitution Ave NW      Casual      W21242   \n",
       "3                            16th & Harvard St NW      Casual      W21322   \n",
       "4       Lincoln Park / 13th & East Capitol St NE       Member      W00119   \n",
       "...                                           ...         ...         ...   \n",
       "105824              19th St & Constitution Ave NW      casual         NaN   \n",
       "105825                     4th St & Madison Dr NW      casual         NaN   \n",
       "105826              19th St & Constitution Ave NW      casual         NaN   \n",
       "105827                             17th & G St NW      casual         NaN   \n",
       "105828                     4th St & Madison Dr NW      member         NaN   \n",
       "\n",
       "              date      time  month  \n",
       "0       2018-01-01  00:05:06      1  \n",
       "1       2018-01-01  00:14:30      1  \n",
       "2       2018-01-01  00:14:53      1  \n",
       "3       2018-01-01  00:15:31      1  \n",
       "4       2018-01-01  00:18:02      1  \n",
       "...            ...       ...    ...  \n",
       "105824  2020-12-12  13:49:55     12  \n",
       "105825  2020-12-03  13:43:26     12  \n",
       "105826  2020-12-06  07:27:47     12  \n",
       "105827  2020-12-21  13:46:01     12  \n",
       "105828  2020-12-18  09:09:48     12  \n",
       "\n",
       "[9157803 rows x 10 columns]"
      ],
      "text/html": "<div>\n<style scoped>\n    .dataframe tbody tr th:only-of-type {\n        vertical-align: middle;\n    }\n\n    .dataframe tbody tr th {\n        vertical-align: top;\n    }\n\n    .dataframe thead th {\n        text-align: right;\n    }\n</style>\n<table border=\"1\" class=\"dataframe\">\n  <thead>\n    <tr style=\"text-align: right;\">\n      <th></th>\n      <th>Duration</th>\n      <th>Start date</th>\n      <th>End date</th>\n      <th>Start station</th>\n      <th>End station</th>\n      <th>Member type</th>\n      <th>Bike number</th>\n      <th>date</th>\n      <th>time</th>\n      <th>month</th>\n    </tr>\n  </thead>\n  <tbody>\n    <tr>\n      <th>0</th>\n      <td>552.0</td>\n      <td>2018-01-01 00:05:06</td>\n      <td>2018-01-01 00:14:18</td>\n      <td>Adams Mill &amp; Columbia Rd NW</td>\n      <td>Georgia &amp; New Hampshire Ave NW</td>\n      <td>Member</td>\n      <td>W00886</td>\n      <td>2018-01-01</td>\n      <td>00:05:06</td>\n      <td>1</td>\n    </tr>\n    <tr>\n      <th>1</th>\n      <td>1282.0</td>\n      <td>2018-01-01 00:14:30</td>\n      <td>2018-01-01 00:35:53</td>\n      <td>15th St &amp; Constitution Ave NW</td>\n      <td>15th St &amp; Constitution Ave NW</td>\n      <td>Casual</td>\n      <td>W01435</td>\n      <td>2018-01-01</td>\n      <td>00:14:30</td>\n      <td>1</td>\n    </tr>\n    <tr>\n      <th>2</th>\n      <td>1265.0</td>\n      <td>2018-01-01 00:14:53</td>\n      <td>2018-01-01 00:35:58</td>\n      <td>15th St &amp; Constitution Ave NW</td>\n      <td>15th St &amp; Constitution Ave NW</td>\n      <td>Casual</td>\n      <td>W21242</td>\n      <td>2018-01-01</td>\n      <td>00:14:53</td>\n      <td>1</td>\n    </tr>\n    <tr>\n      <th>3</th>\n      <td>578.0</td>\n      <td>2018-01-01 00:15:31</td>\n      <td>2018-01-01 00:25:09</td>\n      <td>14th &amp; Upshur St NW</td>\n      <td>16th &amp; Harvard St NW</td>\n      <td>Casual</td>\n      <td>W21322</td>\n      <td>2018-01-01</td>\n      <td>00:15:31</td>\n      <td>1</td>\n    </tr>\n    <tr>\n      <th>4</th>\n      <td>372.0</td>\n      <td>2018-01-01 00:18:02</td>\n      <td>2018-01-01 00:24:15</td>\n      <td>4th &amp; East Capitol St NE</td>\n      <td>Lincoln Park / 13th &amp; East Capitol St NE</td>\n      <td>Member</td>\n      <td>W00119</td>\n      <td>2018-01-01</td>\n      <td>00:18:02</td>\n      <td>1</td>\n    </tr>\n    <tr>\n      <th>...</th>\n      <td>...</td>\n      <td>...</td>\n      <td>...</td>\n      <td>...</td>\n      <td>...</td>\n      <td>...</td>\n      <td>...</td>\n      <td>...</td>\n      <td>...</td>\n      <td>...</td>\n    </tr>\n    <tr>\n      <th>105824</th>\n      <td>1627.0</td>\n      <td>2020-12-12 13:49:55</td>\n      <td>2020-12-12 14:17:02</td>\n      <td>Jefferson Dr &amp; 14th St SW</td>\n      <td>19th St &amp; Constitution Ave NW</td>\n      <td>casual</td>\n      <td>NaN</td>\n      <td>2020-12-12</td>\n      <td>13:49:55</td>\n      <td>12</td>\n    </tr>\n    <tr>\n      <th>105825</th>\n      <td>1365.0</td>\n      <td>2020-12-03 13:43:26</td>\n      <td>2020-12-03 14:06:11</td>\n      <td>Jefferson Dr &amp; 14th St SW</td>\n      <td>4th St &amp; Madison Dr NW</td>\n      <td>casual</td>\n      <td>NaN</td>\n      <td>2020-12-03</td>\n      <td>13:43:26</td>\n      <td>12</td>\n    </tr>\n    <tr>\n      <th>105826</th>\n      <td>2159.0</td>\n      <td>2020-12-06 07:27:47</td>\n      <td>2020-12-06 08:03:46</td>\n      <td>Jefferson Dr &amp; 14th St SW</td>\n      <td>19th St &amp; Constitution Ave NW</td>\n      <td>casual</td>\n      <td>NaN</td>\n      <td>2020-12-06</td>\n      <td>07:27:47</td>\n      <td>12</td>\n    </tr>\n    <tr>\n      <th>105827</th>\n      <td>2458.0</td>\n      <td>2020-12-21 13:46:01</td>\n      <td>2020-12-21 14:26:59</td>\n      <td>Jefferson Dr &amp; 14th St SW</td>\n      <td>17th &amp; G St NW</td>\n      <td>casual</td>\n      <td>NaN</td>\n      <td>2020-12-21</td>\n      <td>13:46:01</td>\n      <td>12</td>\n    </tr>\n    <tr>\n      <th>105828</th>\n      <td>846.0</td>\n      <td>2020-12-18 09:09:48</td>\n      <td>2020-12-18 09:23:54</td>\n      <td>New Hampshire Ave &amp; 24th St NW</td>\n      <td>4th St &amp; Madison Dr NW</td>\n      <td>member</td>\n      <td>NaN</td>\n      <td>2020-12-18</td>\n      <td>09:09:48</td>\n      <td>12</td>\n    </tr>\n  </tbody>\n</table>\n<p>9157803 rows × 10 columns</p>\n</div>"
     },
     "metadata": {},
     "execution_count": 50
    }
   ],
   "source": [
    "final['month'] = final['Start date'].dt.month\n",
    "final"
   ]
  },
  {
   "cell_type": "code",
   "execution_count": 51,
   "metadata": {},
   "outputs": [],
   "source": [
    "final.loc[final['month'] == 1, 'month'] = 'January'\n",
    "final.loc[final['month'] == 2, 'month'] = 'February'\n",
    "final.loc[final['month'] == 3, 'month'] = 'March'\n",
    "final.loc[final['month'] == 4, 'month'] = 'April'\n",
    "final.loc[final['month'] == 5, 'month'] = 'May'\n",
    "final.loc[final['month'] == 6, 'month'] = 'June'\n",
    "final.loc[final['month'] == 7, 'month'] = 'July'\n",
    "final.loc[final['month'] == 8, 'month'] = 'August'\n",
    "final.loc[final['month'] == 9, 'month'] = 'September'\n",
    "final.loc[final['month'] == 10, 'month'] = 'October'\n",
    "final.loc[final['month'] == 11, 'month'] = 'November'\n",
    "final.loc[final['month'] == 12, 'month'] = 'December'\n"
   ]
  },
  {
   "cell_type": "code",
   "execution_count": 52,
   "metadata": {},
   "outputs": [
    {
     "output_type": "execute_result",
     "data": {
      "text/plain": [
       "        Duration          Start date             End date  \\\n",
       "0          552.0 2018-01-01 00:05:06  2018-01-01 00:14:18   \n",
       "1         1282.0 2018-01-01 00:14:30  2018-01-01 00:35:53   \n",
       "2         1265.0 2018-01-01 00:14:53  2018-01-01 00:35:58   \n",
       "3          578.0 2018-01-01 00:15:31  2018-01-01 00:25:09   \n",
       "4          372.0 2018-01-01 00:18:02  2018-01-01 00:24:15   \n",
       "...          ...                 ...                  ...   \n",
       "105824    1627.0 2020-12-12 13:49:55  2020-12-12 14:17:02   \n",
       "105825    1365.0 2020-12-03 13:43:26  2020-12-03 14:06:11   \n",
       "105826    2159.0 2020-12-06 07:27:47  2020-12-06 08:03:46   \n",
       "105827    2458.0 2020-12-21 13:46:01  2020-12-21 14:26:59   \n",
       "105828     846.0 2020-12-18 09:09:48  2020-12-18 09:23:54   \n",
       "\n",
       "                         Start station  \\\n",
       "0          Adams Mill & Columbia Rd NW   \n",
       "1        15th St & Constitution Ave NW   \n",
       "2        15th St & Constitution Ave NW   \n",
       "3                  14th & Upshur St NW   \n",
       "4             4th & East Capitol St NE   \n",
       "...                                ...   \n",
       "105824       Jefferson Dr & 14th St SW   \n",
       "105825       Jefferson Dr & 14th St SW   \n",
       "105826       Jefferson Dr & 14th St SW   \n",
       "105827       Jefferson Dr & 14th St SW   \n",
       "105828  New Hampshire Ave & 24th St NW   \n",
       "\n",
       "                                      End station Member type Bike number  \\\n",
       "0                  Georgia & New Hampshire Ave NW      Member      W00886   \n",
       "1                   15th St & Constitution Ave NW      Casual      W01435   \n",
       "2                   15th St & Constitution Ave NW      Casual      W21242   \n",
       "3                            16th & Harvard St NW      Casual      W21322   \n",
       "4       Lincoln Park / 13th & East Capitol St NE       Member      W00119   \n",
       "...                                           ...         ...         ...   \n",
       "105824              19th St & Constitution Ave NW      casual         NaN   \n",
       "105825                     4th St & Madison Dr NW      casual         NaN   \n",
       "105826              19th St & Constitution Ave NW      casual         NaN   \n",
       "105827                             17th & G St NW      casual         NaN   \n",
       "105828                     4th St & Madison Dr NW      member         NaN   \n",
       "\n",
       "              date      time     month   weekday  \n",
       "0       2018-01-01  00:05:06   January    Monday  \n",
       "1       2018-01-01  00:14:30   January    Monday  \n",
       "2       2018-01-01  00:14:53   January    Monday  \n",
       "3       2018-01-01  00:15:31   January    Monday  \n",
       "4       2018-01-01  00:18:02   January    Monday  \n",
       "...            ...       ...       ...       ...  \n",
       "105824  2020-12-12  13:49:55  December  Saturday  \n",
       "105825  2020-12-03  13:43:26  December  Thursday  \n",
       "105826  2020-12-06  07:27:47  December    Sunday  \n",
       "105827  2020-12-21  13:46:01  December    Monday  \n",
       "105828  2020-12-18  09:09:48  December    Friday  \n",
       "\n",
       "[9157803 rows x 11 columns]"
      ],
      "text/html": "<div>\n<style scoped>\n    .dataframe tbody tr th:only-of-type {\n        vertical-align: middle;\n    }\n\n    .dataframe tbody tr th {\n        vertical-align: top;\n    }\n\n    .dataframe thead th {\n        text-align: right;\n    }\n</style>\n<table border=\"1\" class=\"dataframe\">\n  <thead>\n    <tr style=\"text-align: right;\">\n      <th></th>\n      <th>Duration</th>\n      <th>Start date</th>\n      <th>End date</th>\n      <th>Start station</th>\n      <th>End station</th>\n      <th>Member type</th>\n      <th>Bike number</th>\n      <th>date</th>\n      <th>time</th>\n      <th>month</th>\n      <th>weekday</th>\n    </tr>\n  </thead>\n  <tbody>\n    <tr>\n      <th>0</th>\n      <td>552.0</td>\n      <td>2018-01-01 00:05:06</td>\n      <td>2018-01-01 00:14:18</td>\n      <td>Adams Mill &amp; Columbia Rd NW</td>\n      <td>Georgia &amp; New Hampshire Ave NW</td>\n      <td>Member</td>\n      <td>W00886</td>\n      <td>2018-01-01</td>\n      <td>00:05:06</td>\n      <td>January</td>\n      <td>Monday</td>\n    </tr>\n    <tr>\n      <th>1</th>\n      <td>1282.0</td>\n      <td>2018-01-01 00:14:30</td>\n      <td>2018-01-01 00:35:53</td>\n      <td>15th St &amp; Constitution Ave NW</td>\n      <td>15th St &amp; Constitution Ave NW</td>\n      <td>Casual</td>\n      <td>W01435</td>\n      <td>2018-01-01</td>\n      <td>00:14:30</td>\n      <td>January</td>\n      <td>Monday</td>\n    </tr>\n    <tr>\n      <th>2</th>\n      <td>1265.0</td>\n      <td>2018-01-01 00:14:53</td>\n      <td>2018-01-01 00:35:58</td>\n      <td>15th St &amp; Constitution Ave NW</td>\n      <td>15th St &amp; Constitution Ave NW</td>\n      <td>Casual</td>\n      <td>W21242</td>\n      <td>2018-01-01</td>\n      <td>00:14:53</td>\n      <td>January</td>\n      <td>Monday</td>\n    </tr>\n    <tr>\n      <th>3</th>\n      <td>578.0</td>\n      <td>2018-01-01 00:15:31</td>\n      <td>2018-01-01 00:25:09</td>\n      <td>14th &amp; Upshur St NW</td>\n      <td>16th &amp; Harvard St NW</td>\n      <td>Casual</td>\n      <td>W21322</td>\n      <td>2018-01-01</td>\n      <td>00:15:31</td>\n      <td>January</td>\n      <td>Monday</td>\n    </tr>\n    <tr>\n      <th>4</th>\n      <td>372.0</td>\n      <td>2018-01-01 00:18:02</td>\n      <td>2018-01-01 00:24:15</td>\n      <td>4th &amp; East Capitol St NE</td>\n      <td>Lincoln Park / 13th &amp; East Capitol St NE</td>\n      <td>Member</td>\n      <td>W00119</td>\n      <td>2018-01-01</td>\n      <td>00:18:02</td>\n      <td>January</td>\n      <td>Monday</td>\n    </tr>\n    <tr>\n      <th>...</th>\n      <td>...</td>\n      <td>...</td>\n      <td>...</td>\n      <td>...</td>\n      <td>...</td>\n      <td>...</td>\n      <td>...</td>\n      <td>...</td>\n      <td>...</td>\n      <td>...</td>\n      <td>...</td>\n    </tr>\n    <tr>\n      <th>105824</th>\n      <td>1627.0</td>\n      <td>2020-12-12 13:49:55</td>\n      <td>2020-12-12 14:17:02</td>\n      <td>Jefferson Dr &amp; 14th St SW</td>\n      <td>19th St &amp; Constitution Ave NW</td>\n      <td>casual</td>\n      <td>NaN</td>\n      <td>2020-12-12</td>\n      <td>13:49:55</td>\n      <td>December</td>\n      <td>Saturday</td>\n    </tr>\n    <tr>\n      <th>105825</th>\n      <td>1365.0</td>\n      <td>2020-12-03 13:43:26</td>\n      <td>2020-12-03 14:06:11</td>\n      <td>Jefferson Dr &amp; 14th St SW</td>\n      <td>4th St &amp; Madison Dr NW</td>\n      <td>casual</td>\n      <td>NaN</td>\n      <td>2020-12-03</td>\n      <td>13:43:26</td>\n      <td>December</td>\n      <td>Thursday</td>\n    </tr>\n    <tr>\n      <th>105826</th>\n      <td>2159.0</td>\n      <td>2020-12-06 07:27:47</td>\n      <td>2020-12-06 08:03:46</td>\n      <td>Jefferson Dr &amp; 14th St SW</td>\n      <td>19th St &amp; Constitution Ave NW</td>\n      <td>casual</td>\n      <td>NaN</td>\n      <td>2020-12-06</td>\n      <td>07:27:47</td>\n      <td>December</td>\n      <td>Sunday</td>\n    </tr>\n    <tr>\n      <th>105827</th>\n      <td>2458.0</td>\n      <td>2020-12-21 13:46:01</td>\n      <td>2020-12-21 14:26:59</td>\n      <td>Jefferson Dr &amp; 14th St SW</td>\n      <td>17th &amp; G St NW</td>\n      <td>casual</td>\n      <td>NaN</td>\n      <td>2020-12-21</td>\n      <td>13:46:01</td>\n      <td>December</td>\n      <td>Monday</td>\n    </tr>\n    <tr>\n      <th>105828</th>\n      <td>846.0</td>\n      <td>2020-12-18 09:09:48</td>\n      <td>2020-12-18 09:23:54</td>\n      <td>New Hampshire Ave &amp; 24th St NW</td>\n      <td>4th St &amp; Madison Dr NW</td>\n      <td>member</td>\n      <td>NaN</td>\n      <td>2020-12-18</td>\n      <td>09:09:48</td>\n      <td>December</td>\n      <td>Friday</td>\n    </tr>\n  </tbody>\n</table>\n<p>9157803 rows × 11 columns</p>\n</div>"
     },
     "metadata": {},
     "execution_count": 52
    }
   ],
   "source": [
    "final['weekday'] = final['Start date'].dt.day_name()\n",
    "final"
   ]
  },
  {
   "cell_type": "code",
   "execution_count": 53,
   "metadata": {},
   "outputs": [
    {
     "output_type": "execute_result",
     "data": {
      "text/plain": [
       "        Duration          Start date             End date  \\\n",
       "0          552.0 2018-01-01 00:05:06  2018-01-01 00:14:18   \n",
       "1         1282.0 2018-01-01 00:14:30  2018-01-01 00:35:53   \n",
       "2         1265.0 2018-01-01 00:14:53  2018-01-01 00:35:58   \n",
       "3          578.0 2018-01-01 00:15:31  2018-01-01 00:25:09   \n",
       "4          372.0 2018-01-01 00:18:02  2018-01-01 00:24:15   \n",
       "...          ...                 ...                  ...   \n",
       "105824    1627.0 2020-12-12 13:49:55  2020-12-12 14:17:02   \n",
       "105825    1365.0 2020-12-03 13:43:26  2020-12-03 14:06:11   \n",
       "105826    2159.0 2020-12-06 07:27:47  2020-12-06 08:03:46   \n",
       "105827    2458.0 2020-12-21 13:46:01  2020-12-21 14:26:59   \n",
       "105828     846.0 2020-12-18 09:09:48  2020-12-18 09:23:54   \n",
       "\n",
       "                         Start station  \\\n",
       "0          Adams Mill & Columbia Rd NW   \n",
       "1        15th St & Constitution Ave NW   \n",
       "2        15th St & Constitution Ave NW   \n",
       "3                  14th & Upshur St NW   \n",
       "4             4th & East Capitol St NE   \n",
       "...                                ...   \n",
       "105824       Jefferson Dr & 14th St SW   \n",
       "105825       Jefferson Dr & 14th St SW   \n",
       "105826       Jefferson Dr & 14th St SW   \n",
       "105827       Jefferson Dr & 14th St SW   \n",
       "105828  New Hampshire Ave & 24th St NW   \n",
       "\n",
       "                                      End station Member type Bike number  \\\n",
       "0                  Georgia & New Hampshire Ave NW      Member      W00886   \n",
       "1                   15th St & Constitution Ave NW      Casual      W01435   \n",
       "2                   15th St & Constitution Ave NW      Casual      W21242   \n",
       "3                            16th & Harvard St NW      Casual      W21322   \n",
       "4       Lincoln Park / 13th & East Capitol St NE       Member      W00119   \n",
       "...                                           ...         ...         ...   \n",
       "105824              19th St & Constitution Ave NW      casual         NaN   \n",
       "105825                     4th St & Madison Dr NW      casual         NaN   \n",
       "105826              19th St & Constitution Ave NW      casual         NaN   \n",
       "105827                             17th & G St NW      casual         NaN   \n",
       "105828                     4th St & Madison Dr NW      member         NaN   \n",
       "\n",
       "              date      time     month   weekday  hour  minutes  second  \n",
       "0       2018-01-01  00:05:06   January    Monday     0        5       6  \n",
       "1       2018-01-01  00:14:30   January    Monday     0       14      30  \n",
       "2       2018-01-01  00:14:53   January    Monday     0       14      53  \n",
       "3       2018-01-01  00:15:31   January    Monday     0       15      31  \n",
       "4       2018-01-01  00:18:02   January    Monday     0       18       2  \n",
       "...            ...       ...       ...       ...   ...      ...     ...  \n",
       "105824  2020-12-12  13:49:55  December  Saturday    13       49      55  \n",
       "105825  2020-12-03  13:43:26  December  Thursday    13       43      26  \n",
       "105826  2020-12-06  07:27:47  December    Sunday     7       27      47  \n",
       "105827  2020-12-21  13:46:01  December    Monday    13       46       1  \n",
       "105828  2020-12-18  09:09:48  December    Friday     9        9      48  \n",
       "\n",
       "[9157803 rows x 14 columns]"
      ],
      "text/html": "<div>\n<style scoped>\n    .dataframe tbody tr th:only-of-type {\n        vertical-align: middle;\n    }\n\n    .dataframe tbody tr th {\n        vertical-align: top;\n    }\n\n    .dataframe thead th {\n        text-align: right;\n    }\n</style>\n<table border=\"1\" class=\"dataframe\">\n  <thead>\n    <tr style=\"text-align: right;\">\n      <th></th>\n      <th>Duration</th>\n      <th>Start date</th>\n      <th>End date</th>\n      <th>Start station</th>\n      <th>End station</th>\n      <th>Member type</th>\n      <th>Bike number</th>\n      <th>date</th>\n      <th>time</th>\n      <th>month</th>\n      <th>weekday</th>\n      <th>hour</th>\n      <th>minutes</th>\n      <th>second</th>\n    </tr>\n  </thead>\n  <tbody>\n    <tr>\n      <th>0</th>\n      <td>552.0</td>\n      <td>2018-01-01 00:05:06</td>\n      <td>2018-01-01 00:14:18</td>\n      <td>Adams Mill &amp; Columbia Rd NW</td>\n      <td>Georgia &amp; New Hampshire Ave NW</td>\n      <td>Member</td>\n      <td>W00886</td>\n      <td>2018-01-01</td>\n      <td>00:05:06</td>\n      <td>January</td>\n      <td>Monday</td>\n      <td>0</td>\n      <td>5</td>\n      <td>6</td>\n    </tr>\n    <tr>\n      <th>1</th>\n      <td>1282.0</td>\n      <td>2018-01-01 00:14:30</td>\n      <td>2018-01-01 00:35:53</td>\n      <td>15th St &amp; Constitution Ave NW</td>\n      <td>15th St &amp; Constitution Ave NW</td>\n      <td>Casual</td>\n      <td>W01435</td>\n      <td>2018-01-01</td>\n      <td>00:14:30</td>\n      <td>January</td>\n      <td>Monday</td>\n      <td>0</td>\n      <td>14</td>\n      <td>30</td>\n    </tr>\n    <tr>\n      <th>2</th>\n      <td>1265.0</td>\n      <td>2018-01-01 00:14:53</td>\n      <td>2018-01-01 00:35:58</td>\n      <td>15th St &amp; Constitution Ave NW</td>\n      <td>15th St &amp; Constitution Ave NW</td>\n      <td>Casual</td>\n      <td>W21242</td>\n      <td>2018-01-01</td>\n      <td>00:14:53</td>\n      <td>January</td>\n      <td>Monday</td>\n      <td>0</td>\n      <td>14</td>\n      <td>53</td>\n    </tr>\n    <tr>\n      <th>3</th>\n      <td>578.0</td>\n      <td>2018-01-01 00:15:31</td>\n      <td>2018-01-01 00:25:09</td>\n      <td>14th &amp; Upshur St NW</td>\n      <td>16th &amp; Harvard St NW</td>\n      <td>Casual</td>\n      <td>W21322</td>\n      <td>2018-01-01</td>\n      <td>00:15:31</td>\n      <td>January</td>\n      <td>Monday</td>\n      <td>0</td>\n      <td>15</td>\n      <td>31</td>\n    </tr>\n    <tr>\n      <th>4</th>\n      <td>372.0</td>\n      <td>2018-01-01 00:18:02</td>\n      <td>2018-01-01 00:24:15</td>\n      <td>4th &amp; East Capitol St NE</td>\n      <td>Lincoln Park / 13th &amp; East Capitol St NE</td>\n      <td>Member</td>\n      <td>W00119</td>\n      <td>2018-01-01</td>\n      <td>00:18:02</td>\n      <td>January</td>\n      <td>Monday</td>\n      <td>0</td>\n      <td>18</td>\n      <td>2</td>\n    </tr>\n    <tr>\n      <th>...</th>\n      <td>...</td>\n      <td>...</td>\n      <td>...</td>\n      <td>...</td>\n      <td>...</td>\n      <td>...</td>\n      <td>...</td>\n      <td>...</td>\n      <td>...</td>\n      <td>...</td>\n      <td>...</td>\n      <td>...</td>\n      <td>...</td>\n      <td>...</td>\n    </tr>\n    <tr>\n      <th>105824</th>\n      <td>1627.0</td>\n      <td>2020-12-12 13:49:55</td>\n      <td>2020-12-12 14:17:02</td>\n      <td>Jefferson Dr &amp; 14th St SW</td>\n      <td>19th St &amp; Constitution Ave NW</td>\n      <td>casual</td>\n      <td>NaN</td>\n      <td>2020-12-12</td>\n      <td>13:49:55</td>\n      <td>December</td>\n      <td>Saturday</td>\n      <td>13</td>\n      <td>49</td>\n      <td>55</td>\n    </tr>\n    <tr>\n      <th>105825</th>\n      <td>1365.0</td>\n      <td>2020-12-03 13:43:26</td>\n      <td>2020-12-03 14:06:11</td>\n      <td>Jefferson Dr &amp; 14th St SW</td>\n      <td>4th St &amp; Madison Dr NW</td>\n      <td>casual</td>\n      <td>NaN</td>\n      <td>2020-12-03</td>\n      <td>13:43:26</td>\n      <td>December</td>\n      <td>Thursday</td>\n      <td>13</td>\n      <td>43</td>\n      <td>26</td>\n    </tr>\n    <tr>\n      <th>105826</th>\n      <td>2159.0</td>\n      <td>2020-12-06 07:27:47</td>\n      <td>2020-12-06 08:03:46</td>\n      <td>Jefferson Dr &amp; 14th St SW</td>\n      <td>19th St &amp; Constitution Ave NW</td>\n      <td>casual</td>\n      <td>NaN</td>\n      <td>2020-12-06</td>\n      <td>07:27:47</td>\n      <td>December</td>\n      <td>Sunday</td>\n      <td>7</td>\n      <td>27</td>\n      <td>47</td>\n    </tr>\n    <tr>\n      <th>105827</th>\n      <td>2458.0</td>\n      <td>2020-12-21 13:46:01</td>\n      <td>2020-12-21 14:26:59</td>\n      <td>Jefferson Dr &amp; 14th St SW</td>\n      <td>17th &amp; G St NW</td>\n      <td>casual</td>\n      <td>NaN</td>\n      <td>2020-12-21</td>\n      <td>13:46:01</td>\n      <td>December</td>\n      <td>Monday</td>\n      <td>13</td>\n      <td>46</td>\n      <td>1</td>\n    </tr>\n    <tr>\n      <th>105828</th>\n      <td>846.0</td>\n      <td>2020-12-18 09:09:48</td>\n      <td>2020-12-18 09:23:54</td>\n      <td>New Hampshire Ave &amp; 24th St NW</td>\n      <td>4th St &amp; Madison Dr NW</td>\n      <td>member</td>\n      <td>NaN</td>\n      <td>2020-12-18</td>\n      <td>09:09:48</td>\n      <td>December</td>\n      <td>Friday</td>\n      <td>9</td>\n      <td>9</td>\n      <td>48</td>\n    </tr>\n  </tbody>\n</table>\n<p>9157803 rows × 14 columns</p>\n</div>"
     },
     "metadata": {},
     "execution_count": 53
    }
   ],
   "source": [
    "final[['hour','minutes','second']] = final['time'].astype(str).str.split(':', expand=True).astype(int)\n",
    "final"
   ]
  },
  {
   "cell_type": "code",
   "execution_count": 54,
   "metadata": {},
   "outputs": [],
   "source": [
    "dr = pd.date_range(start='2018-01-01', end='2020-12-31')\n",
    "# final = pd.DataFrame()\n",
    "# final['date'] = dr\n",
    "\n",
    "cal = calendar()\n",
    "holidays = cal.holidays(start=dr.min(), end=dr.max())\n",
    "\n",
    "final['Holiday'] = final['date'].isin(holidays)\n"
   ]
  },
  {
   "cell_type": "code",
   "execution_count": 56,
   "metadata": {},
   "outputs": [
    {
     "output_type": "execute_result",
     "data": {
      "text/plain": [
       "        Duration          Start date             End date  \\\n",
       "0          552.0 2018-01-01 00:05:06  2018-01-01 00:14:18   \n",
       "1         1282.0 2018-01-01 00:14:30  2018-01-01 00:35:53   \n",
       "2         1265.0 2018-01-01 00:14:53  2018-01-01 00:35:58   \n",
       "3          578.0 2018-01-01 00:15:31  2018-01-01 00:25:09   \n",
       "4          372.0 2018-01-01 00:18:02  2018-01-01 00:24:15   \n",
       "...          ...                 ...                  ...   \n",
       "105824    1627.0 2020-12-12 13:49:55  2020-12-12 14:17:02   \n",
       "105825    1365.0 2020-12-03 13:43:26  2020-12-03 14:06:11   \n",
       "105826    2159.0 2020-12-06 07:27:47  2020-12-06 08:03:46   \n",
       "105827    2458.0 2020-12-21 13:46:01  2020-12-21 14:26:59   \n",
       "105828     846.0 2020-12-18 09:09:48  2020-12-18 09:23:54   \n",
       "\n",
       "                         Start station  \\\n",
       "0          Adams Mill & Columbia Rd NW   \n",
       "1        15th St & Constitution Ave NW   \n",
       "2        15th St & Constitution Ave NW   \n",
       "3                  14th & Upshur St NW   \n",
       "4             4th & East Capitol St NE   \n",
       "...                                ...   \n",
       "105824       Jefferson Dr & 14th St SW   \n",
       "105825       Jefferson Dr & 14th St SW   \n",
       "105826       Jefferson Dr & 14th St SW   \n",
       "105827       Jefferson Dr & 14th St SW   \n",
       "105828  New Hampshire Ave & 24th St NW   \n",
       "\n",
       "                                      End station Member type Bike number  \\\n",
       "0                  Georgia & New Hampshire Ave NW      Member      W00886   \n",
       "1                   15th St & Constitution Ave NW      Casual      W01435   \n",
       "2                   15th St & Constitution Ave NW      Casual      W21242   \n",
       "3                            16th & Harvard St NW      Casual      W21322   \n",
       "4       Lincoln Park / 13th & East Capitol St NE       Member      W00119   \n",
       "...                                           ...         ...         ...   \n",
       "105824              19th St & Constitution Ave NW      casual         NaN   \n",
       "105825                     4th St & Madison Dr NW      casual         NaN   \n",
       "105826              19th St & Constitution Ave NW      casual         NaN   \n",
       "105827                             17th & G St NW      casual         NaN   \n",
       "105828                     4th St & Madison Dr NW      member         NaN   \n",
       "\n",
       "              date      time     month   weekday  hour  minutes  second  \\\n",
       "0       2018-01-01  00:05:06   January    Monday     0        5       6   \n",
       "1       2018-01-01  00:14:30   January    Monday     0       14      30   \n",
       "2       2018-01-01  00:14:53   January    Monday     0       14      53   \n",
       "3       2018-01-01  00:15:31   January    Monday     0       15      31   \n",
       "4       2018-01-01  00:18:02   January    Monday     0       18       2   \n",
       "...            ...       ...       ...       ...   ...      ...     ...   \n",
       "105824  2020-12-12  13:49:55  December  Saturday    13       49      55   \n",
       "105825  2020-12-03  13:43:26  December  Thursday    13       43      26   \n",
       "105826  2020-12-06  07:27:47  December    Sunday     7       27      47   \n",
       "105827  2020-12-21  13:46:01  December    Monday    13       46       1   \n",
       "105828  2020-12-18  09:09:48  December    Friday     9        9      48   \n",
       "\n",
       "        Holiday holiday  \n",
       "0         False      No  \n",
       "1         False      No  \n",
       "2         False      No  \n",
       "3         False      No  \n",
       "4         False      No  \n",
       "...         ...     ...  \n",
       "105824    False      No  \n",
       "105825    False      No  \n",
       "105826    False      No  \n",
       "105827    False      No  \n",
       "105828    False      No  \n",
       "\n",
       "[9157803 rows x 16 columns]"
      ],
      "text/html": "<div>\n<style scoped>\n    .dataframe tbody tr th:only-of-type {\n        vertical-align: middle;\n    }\n\n    .dataframe tbody tr th {\n        vertical-align: top;\n    }\n\n    .dataframe thead th {\n        text-align: right;\n    }\n</style>\n<table border=\"1\" class=\"dataframe\">\n  <thead>\n    <tr style=\"text-align: right;\">\n      <th></th>\n      <th>Duration</th>\n      <th>Start date</th>\n      <th>End date</th>\n      <th>Start station</th>\n      <th>End station</th>\n      <th>Member type</th>\n      <th>Bike number</th>\n      <th>date</th>\n      <th>time</th>\n      <th>month</th>\n      <th>weekday</th>\n      <th>hour</th>\n      <th>minutes</th>\n      <th>second</th>\n      <th>Holiday</th>\n      <th>holiday</th>\n    </tr>\n  </thead>\n  <tbody>\n    <tr>\n      <th>0</th>\n      <td>552.0</td>\n      <td>2018-01-01 00:05:06</td>\n      <td>2018-01-01 00:14:18</td>\n      <td>Adams Mill &amp; Columbia Rd NW</td>\n      <td>Georgia &amp; New Hampshire Ave NW</td>\n      <td>Member</td>\n      <td>W00886</td>\n      <td>2018-01-01</td>\n      <td>00:05:06</td>\n      <td>January</td>\n      <td>Monday</td>\n      <td>0</td>\n      <td>5</td>\n      <td>6</td>\n      <td>False</td>\n      <td>No</td>\n    </tr>\n    <tr>\n      <th>1</th>\n      <td>1282.0</td>\n      <td>2018-01-01 00:14:30</td>\n      <td>2018-01-01 00:35:53</td>\n      <td>15th St &amp; Constitution Ave NW</td>\n      <td>15th St &amp; Constitution Ave NW</td>\n      <td>Casual</td>\n      <td>W01435</td>\n      <td>2018-01-01</td>\n      <td>00:14:30</td>\n      <td>January</td>\n      <td>Monday</td>\n      <td>0</td>\n      <td>14</td>\n      <td>30</td>\n      <td>False</td>\n      <td>No</td>\n    </tr>\n    <tr>\n      <th>2</th>\n      <td>1265.0</td>\n      <td>2018-01-01 00:14:53</td>\n      <td>2018-01-01 00:35:58</td>\n      <td>15th St &amp; Constitution Ave NW</td>\n      <td>15th St &amp; Constitution Ave NW</td>\n      <td>Casual</td>\n      <td>W21242</td>\n      <td>2018-01-01</td>\n      <td>00:14:53</td>\n      <td>January</td>\n      <td>Monday</td>\n      <td>0</td>\n      <td>14</td>\n      <td>53</td>\n      <td>False</td>\n      <td>No</td>\n    </tr>\n    <tr>\n      <th>3</th>\n      <td>578.0</td>\n      <td>2018-01-01 00:15:31</td>\n      <td>2018-01-01 00:25:09</td>\n      <td>14th &amp; Upshur St NW</td>\n      <td>16th &amp; Harvard St NW</td>\n      <td>Casual</td>\n      <td>W21322</td>\n      <td>2018-01-01</td>\n      <td>00:15:31</td>\n      <td>January</td>\n      <td>Monday</td>\n      <td>0</td>\n      <td>15</td>\n      <td>31</td>\n      <td>False</td>\n      <td>No</td>\n    </tr>\n    <tr>\n      <th>4</th>\n      <td>372.0</td>\n      <td>2018-01-01 00:18:02</td>\n      <td>2018-01-01 00:24:15</td>\n      <td>4th &amp; East Capitol St NE</td>\n      <td>Lincoln Park / 13th &amp; East Capitol St NE</td>\n      <td>Member</td>\n      <td>W00119</td>\n      <td>2018-01-01</td>\n      <td>00:18:02</td>\n      <td>January</td>\n      <td>Monday</td>\n      <td>0</td>\n      <td>18</td>\n      <td>2</td>\n      <td>False</td>\n      <td>No</td>\n    </tr>\n    <tr>\n      <th>...</th>\n      <td>...</td>\n      <td>...</td>\n      <td>...</td>\n      <td>...</td>\n      <td>...</td>\n      <td>...</td>\n      <td>...</td>\n      <td>...</td>\n      <td>...</td>\n      <td>...</td>\n      <td>...</td>\n      <td>...</td>\n      <td>...</td>\n      <td>...</td>\n      <td>...</td>\n      <td>...</td>\n    </tr>\n    <tr>\n      <th>105824</th>\n      <td>1627.0</td>\n      <td>2020-12-12 13:49:55</td>\n      <td>2020-12-12 14:17:02</td>\n      <td>Jefferson Dr &amp; 14th St SW</td>\n      <td>19th St &amp; Constitution Ave NW</td>\n      <td>casual</td>\n      <td>NaN</td>\n      <td>2020-12-12</td>\n      <td>13:49:55</td>\n      <td>December</td>\n      <td>Saturday</td>\n      <td>13</td>\n      <td>49</td>\n      <td>55</td>\n      <td>False</td>\n      <td>No</td>\n    </tr>\n    <tr>\n      <th>105825</th>\n      <td>1365.0</td>\n      <td>2020-12-03 13:43:26</td>\n      <td>2020-12-03 14:06:11</td>\n      <td>Jefferson Dr &amp; 14th St SW</td>\n      <td>4th St &amp; Madison Dr NW</td>\n      <td>casual</td>\n      <td>NaN</td>\n      <td>2020-12-03</td>\n      <td>13:43:26</td>\n      <td>December</td>\n      <td>Thursday</td>\n      <td>13</td>\n      <td>43</td>\n      <td>26</td>\n      <td>False</td>\n      <td>No</td>\n    </tr>\n    <tr>\n      <th>105826</th>\n      <td>2159.0</td>\n      <td>2020-12-06 07:27:47</td>\n      <td>2020-12-06 08:03:46</td>\n      <td>Jefferson Dr &amp; 14th St SW</td>\n      <td>19th St &amp; Constitution Ave NW</td>\n      <td>casual</td>\n      <td>NaN</td>\n      <td>2020-12-06</td>\n      <td>07:27:47</td>\n      <td>December</td>\n      <td>Sunday</td>\n      <td>7</td>\n      <td>27</td>\n      <td>47</td>\n      <td>False</td>\n      <td>No</td>\n    </tr>\n    <tr>\n      <th>105827</th>\n      <td>2458.0</td>\n      <td>2020-12-21 13:46:01</td>\n      <td>2020-12-21 14:26:59</td>\n      <td>Jefferson Dr &amp; 14th St SW</td>\n      <td>17th &amp; G St NW</td>\n      <td>casual</td>\n      <td>NaN</td>\n      <td>2020-12-21</td>\n      <td>13:46:01</td>\n      <td>December</td>\n      <td>Monday</td>\n      <td>13</td>\n      <td>46</td>\n      <td>1</td>\n      <td>False</td>\n      <td>No</td>\n    </tr>\n    <tr>\n      <th>105828</th>\n      <td>846.0</td>\n      <td>2020-12-18 09:09:48</td>\n      <td>2020-12-18 09:23:54</td>\n      <td>New Hampshire Ave &amp; 24th St NW</td>\n      <td>4th St &amp; Madison Dr NW</td>\n      <td>member</td>\n      <td>NaN</td>\n      <td>2020-12-18</td>\n      <td>09:09:48</td>\n      <td>December</td>\n      <td>Friday</td>\n      <td>9</td>\n      <td>9</td>\n      <td>48</td>\n      <td>False</td>\n      <td>No</td>\n    </tr>\n  </tbody>\n</table>\n<p>9157803 rows × 16 columns</p>\n</div>"
     },
     "metadata": {},
     "execution_count": 56
    }
   ],
   "source": [
    "final.loc[final['Holiday'] == False, 'holiday'] = 'No'\n",
    "\n",
    "final.loc[final['Holiday'] == True, 'holiday'] = 'Yes'\n",
    "final"
   ]
  },
  {
   "cell_type": "code",
   "execution_count": 57,
   "metadata": {},
   "outputs": [],
   "source": [
    "final.drop(columns=['minutes', 'second','Holiday' ], inplace= True)"
   ]
  },
  {
   "cell_type": "code",
   "execution_count": 58,
   "metadata": {},
   "outputs": [
    {
     "output_type": "execute_result",
     "data": {
      "text/plain": [
       "        Duration          Start date             End date  \\\n",
       "0          552.0 2018-01-01 00:05:06  2018-01-01 00:14:18   \n",
       "1         1282.0 2018-01-01 00:14:30  2018-01-01 00:35:53   \n",
       "2         1265.0 2018-01-01 00:14:53  2018-01-01 00:35:58   \n",
       "3          578.0 2018-01-01 00:15:31  2018-01-01 00:25:09   \n",
       "4          372.0 2018-01-01 00:18:02  2018-01-01 00:24:15   \n",
       "...          ...                 ...                  ...   \n",
       "105824    1627.0 2020-12-12 13:49:55  2020-12-12 14:17:02   \n",
       "105825    1365.0 2020-12-03 13:43:26  2020-12-03 14:06:11   \n",
       "105826    2159.0 2020-12-06 07:27:47  2020-12-06 08:03:46   \n",
       "105827    2458.0 2020-12-21 13:46:01  2020-12-21 14:26:59   \n",
       "105828     846.0 2020-12-18 09:09:48  2020-12-18 09:23:54   \n",
       "\n",
       "                         Start station  \\\n",
       "0          Adams Mill & Columbia Rd NW   \n",
       "1        15th St & Constitution Ave NW   \n",
       "2        15th St & Constitution Ave NW   \n",
       "3                  14th & Upshur St NW   \n",
       "4             4th & East Capitol St NE   \n",
       "...                                ...   \n",
       "105824       Jefferson Dr & 14th St SW   \n",
       "105825       Jefferson Dr & 14th St SW   \n",
       "105826       Jefferson Dr & 14th St SW   \n",
       "105827       Jefferson Dr & 14th St SW   \n",
       "105828  New Hampshire Ave & 24th St NW   \n",
       "\n",
       "                                      End station Member type Bike number  \\\n",
       "0                  Georgia & New Hampshire Ave NW      Member      W00886   \n",
       "1                   15th St & Constitution Ave NW      Casual      W01435   \n",
       "2                   15th St & Constitution Ave NW      Casual      W21242   \n",
       "3                            16th & Harvard St NW      Casual      W21322   \n",
       "4       Lincoln Park / 13th & East Capitol St NE       Member      W00119   \n",
       "...                                           ...         ...         ...   \n",
       "105824              19th St & Constitution Ave NW      casual         NaN   \n",
       "105825                     4th St & Madison Dr NW      casual         NaN   \n",
       "105826              19th St & Constitution Ave NW      casual         NaN   \n",
       "105827                             17th & G St NW      casual         NaN   \n",
       "105828                     4th St & Madison Dr NW      member         NaN   \n",
       "\n",
       "              date      time     month   weekday  hour holiday  \n",
       "0       2018-01-01  00:05:06   January    Monday     0      No  \n",
       "1       2018-01-01  00:14:30   January    Monday     0      No  \n",
       "2       2018-01-01  00:14:53   January    Monday     0      No  \n",
       "3       2018-01-01  00:15:31   January    Monday     0      No  \n",
       "4       2018-01-01  00:18:02   January    Monday     0      No  \n",
       "...            ...       ...       ...       ...   ...     ...  \n",
       "105824  2020-12-12  13:49:55  December  Saturday    13      No  \n",
       "105825  2020-12-03  13:43:26  December  Thursday    13      No  \n",
       "105826  2020-12-06  07:27:47  December    Sunday     7      No  \n",
       "105827  2020-12-21  13:46:01  December    Monday    13      No  \n",
       "105828  2020-12-18  09:09:48  December    Friday     9      No  \n",
       "\n",
       "[9157803 rows x 13 columns]"
      ],
      "text/html": "<div>\n<style scoped>\n    .dataframe tbody tr th:only-of-type {\n        vertical-align: middle;\n    }\n\n    .dataframe tbody tr th {\n        vertical-align: top;\n    }\n\n    .dataframe thead th {\n        text-align: right;\n    }\n</style>\n<table border=\"1\" class=\"dataframe\">\n  <thead>\n    <tr style=\"text-align: right;\">\n      <th></th>\n      <th>Duration</th>\n      <th>Start date</th>\n      <th>End date</th>\n      <th>Start station</th>\n      <th>End station</th>\n      <th>Member type</th>\n      <th>Bike number</th>\n      <th>date</th>\n      <th>time</th>\n      <th>month</th>\n      <th>weekday</th>\n      <th>hour</th>\n      <th>holiday</th>\n    </tr>\n  </thead>\n  <tbody>\n    <tr>\n      <th>0</th>\n      <td>552.0</td>\n      <td>2018-01-01 00:05:06</td>\n      <td>2018-01-01 00:14:18</td>\n      <td>Adams Mill &amp; Columbia Rd NW</td>\n      <td>Georgia &amp; New Hampshire Ave NW</td>\n      <td>Member</td>\n      <td>W00886</td>\n      <td>2018-01-01</td>\n      <td>00:05:06</td>\n      <td>January</td>\n      <td>Monday</td>\n      <td>0</td>\n      <td>No</td>\n    </tr>\n    <tr>\n      <th>1</th>\n      <td>1282.0</td>\n      <td>2018-01-01 00:14:30</td>\n      <td>2018-01-01 00:35:53</td>\n      <td>15th St &amp; Constitution Ave NW</td>\n      <td>15th St &amp; Constitution Ave NW</td>\n      <td>Casual</td>\n      <td>W01435</td>\n      <td>2018-01-01</td>\n      <td>00:14:30</td>\n      <td>January</td>\n      <td>Monday</td>\n      <td>0</td>\n      <td>No</td>\n    </tr>\n    <tr>\n      <th>2</th>\n      <td>1265.0</td>\n      <td>2018-01-01 00:14:53</td>\n      <td>2018-01-01 00:35:58</td>\n      <td>15th St &amp; Constitution Ave NW</td>\n      <td>15th St &amp; Constitution Ave NW</td>\n      <td>Casual</td>\n      <td>W21242</td>\n      <td>2018-01-01</td>\n      <td>00:14:53</td>\n      <td>January</td>\n      <td>Monday</td>\n      <td>0</td>\n      <td>No</td>\n    </tr>\n    <tr>\n      <th>3</th>\n      <td>578.0</td>\n      <td>2018-01-01 00:15:31</td>\n      <td>2018-01-01 00:25:09</td>\n      <td>14th &amp; Upshur St NW</td>\n      <td>16th &amp; Harvard St NW</td>\n      <td>Casual</td>\n      <td>W21322</td>\n      <td>2018-01-01</td>\n      <td>00:15:31</td>\n      <td>January</td>\n      <td>Monday</td>\n      <td>0</td>\n      <td>No</td>\n    </tr>\n    <tr>\n      <th>4</th>\n      <td>372.0</td>\n      <td>2018-01-01 00:18:02</td>\n      <td>2018-01-01 00:24:15</td>\n      <td>4th &amp; East Capitol St NE</td>\n      <td>Lincoln Park / 13th &amp; East Capitol St NE</td>\n      <td>Member</td>\n      <td>W00119</td>\n      <td>2018-01-01</td>\n      <td>00:18:02</td>\n      <td>January</td>\n      <td>Monday</td>\n      <td>0</td>\n      <td>No</td>\n    </tr>\n    <tr>\n      <th>...</th>\n      <td>...</td>\n      <td>...</td>\n      <td>...</td>\n      <td>...</td>\n      <td>...</td>\n      <td>...</td>\n      <td>...</td>\n      <td>...</td>\n      <td>...</td>\n      <td>...</td>\n      <td>...</td>\n      <td>...</td>\n      <td>...</td>\n    </tr>\n    <tr>\n      <th>105824</th>\n      <td>1627.0</td>\n      <td>2020-12-12 13:49:55</td>\n      <td>2020-12-12 14:17:02</td>\n      <td>Jefferson Dr &amp; 14th St SW</td>\n      <td>19th St &amp; Constitution Ave NW</td>\n      <td>casual</td>\n      <td>NaN</td>\n      <td>2020-12-12</td>\n      <td>13:49:55</td>\n      <td>December</td>\n      <td>Saturday</td>\n      <td>13</td>\n      <td>No</td>\n    </tr>\n    <tr>\n      <th>105825</th>\n      <td>1365.0</td>\n      <td>2020-12-03 13:43:26</td>\n      <td>2020-12-03 14:06:11</td>\n      <td>Jefferson Dr &amp; 14th St SW</td>\n      <td>4th St &amp; Madison Dr NW</td>\n      <td>casual</td>\n      <td>NaN</td>\n      <td>2020-12-03</td>\n      <td>13:43:26</td>\n      <td>December</td>\n      <td>Thursday</td>\n      <td>13</td>\n      <td>No</td>\n    </tr>\n    <tr>\n      <th>105826</th>\n      <td>2159.0</td>\n      <td>2020-12-06 07:27:47</td>\n      <td>2020-12-06 08:03:46</td>\n      <td>Jefferson Dr &amp; 14th St SW</td>\n      <td>19th St &amp; Constitution Ave NW</td>\n      <td>casual</td>\n      <td>NaN</td>\n      <td>2020-12-06</td>\n      <td>07:27:47</td>\n      <td>December</td>\n      <td>Sunday</td>\n      <td>7</td>\n      <td>No</td>\n    </tr>\n    <tr>\n      <th>105827</th>\n      <td>2458.0</td>\n      <td>2020-12-21 13:46:01</td>\n      <td>2020-12-21 14:26:59</td>\n      <td>Jefferson Dr &amp; 14th St SW</td>\n      <td>17th &amp; G St NW</td>\n      <td>casual</td>\n      <td>NaN</td>\n      <td>2020-12-21</td>\n      <td>13:46:01</td>\n      <td>December</td>\n      <td>Monday</td>\n      <td>13</td>\n      <td>No</td>\n    </tr>\n    <tr>\n      <th>105828</th>\n      <td>846.0</td>\n      <td>2020-12-18 09:09:48</td>\n      <td>2020-12-18 09:23:54</td>\n      <td>New Hampshire Ave &amp; 24th St NW</td>\n      <td>4th St &amp; Madison Dr NW</td>\n      <td>member</td>\n      <td>NaN</td>\n      <td>2020-12-18</td>\n      <td>09:09:48</td>\n      <td>December</td>\n      <td>Friday</td>\n      <td>9</td>\n      <td>No</td>\n    </tr>\n  </tbody>\n</table>\n<p>9157803 rows × 13 columns</p>\n</div>"
     },
     "metadata": {},
     "execution_count": 58
    }
   ],
   "source": [
    "final"
   ]
  },
  {
   "cell_type": "code",
   "execution_count": 59,
   "metadata": {},
   "outputs": [],
   "source": [
    "final.rename(columns= {'Member type': 'Member Type', 'date': 'Date','time': 'Time', 'month': 'Month', 'weekday':'Weekday', 'hour': 'Hour', 'holiday': 'Holiday'},inplace=True)"
   ]
  },
  {
   "cell_type": "code",
   "execution_count": 61,
   "metadata": {},
   "outputs": [
    {
     "output_type": "execute_result",
     "data": {
      "text/plain": [
       "        Duration          Start date             End date  \\\n",
       "0          552.0 2018-01-01 00:05:06  2018-01-01 00:14:18   \n",
       "1         1282.0 2018-01-01 00:14:30  2018-01-01 00:35:53   \n",
       "2         1265.0 2018-01-01 00:14:53  2018-01-01 00:35:58   \n",
       "3          578.0 2018-01-01 00:15:31  2018-01-01 00:25:09   \n",
       "4          372.0 2018-01-01 00:18:02  2018-01-01 00:24:15   \n",
       "...          ...                 ...                  ...   \n",
       "105824    1627.0 2020-12-12 13:49:55  2020-12-12 14:17:02   \n",
       "105825    1365.0 2020-12-03 13:43:26  2020-12-03 14:06:11   \n",
       "105826    2159.0 2020-12-06 07:27:47  2020-12-06 08:03:46   \n",
       "105827    2458.0 2020-12-21 13:46:01  2020-12-21 14:26:59   \n",
       "105828     846.0 2020-12-18 09:09:48  2020-12-18 09:23:54   \n",
       "\n",
       "                         Start station  \\\n",
       "0          Adams Mill & Columbia Rd NW   \n",
       "1        15th St & Constitution Ave NW   \n",
       "2        15th St & Constitution Ave NW   \n",
       "3                  14th & Upshur St NW   \n",
       "4             4th & East Capitol St NE   \n",
       "...                                ...   \n",
       "105824       Jefferson Dr & 14th St SW   \n",
       "105825       Jefferson Dr & 14th St SW   \n",
       "105826       Jefferson Dr & 14th St SW   \n",
       "105827       Jefferson Dr & 14th St SW   \n",
       "105828  New Hampshire Ave & 24th St NW   \n",
       "\n",
       "                                      End station Member Type Bike number  \\\n",
       "0                  Georgia & New Hampshire Ave NW      Member      W00886   \n",
       "1                   15th St & Constitution Ave NW      Casual      W01435   \n",
       "2                   15th St & Constitution Ave NW      Casual      W21242   \n",
       "3                            16th & Harvard St NW      Casual      W21322   \n",
       "4       Lincoln Park / 13th & East Capitol St NE       Member      W00119   \n",
       "...                                           ...         ...         ...   \n",
       "105824              19th St & Constitution Ave NW      casual         NaN   \n",
       "105825                     4th St & Madison Dr NW      casual         NaN   \n",
       "105826              19th St & Constitution Ave NW      casual         NaN   \n",
       "105827                             17th & G St NW      casual         NaN   \n",
       "105828                     4th St & Madison Dr NW      member         NaN   \n",
       "\n",
       "              Date      Time     Month   Weekday  Hour Holiday  \n",
       "0       2018-01-01  00:05:06   January    Monday     0      No  \n",
       "1       2018-01-01  00:14:30   January    Monday     0      No  \n",
       "2       2018-01-01  00:14:53   January    Monday     0      No  \n",
       "3       2018-01-01  00:15:31   January    Monday     0      No  \n",
       "4       2018-01-01  00:18:02   January    Monday     0      No  \n",
       "...            ...       ...       ...       ...   ...     ...  \n",
       "105824  2020-12-12  13:49:55  December  Saturday    13      No  \n",
       "105825  2020-12-03  13:43:26  December  Thursday    13      No  \n",
       "105826  2020-12-06  07:27:47  December    Sunday     7      No  \n",
       "105827  2020-12-21  13:46:01  December    Monday    13      No  \n",
       "105828  2020-12-18  09:09:48  December    Friday     9      No  \n",
       "\n",
       "[9157803 rows x 13 columns]"
      ],
      "text/html": "<div>\n<style scoped>\n    .dataframe tbody tr th:only-of-type {\n        vertical-align: middle;\n    }\n\n    .dataframe tbody tr th {\n        vertical-align: top;\n    }\n\n    .dataframe thead th {\n        text-align: right;\n    }\n</style>\n<table border=\"1\" class=\"dataframe\">\n  <thead>\n    <tr style=\"text-align: right;\">\n      <th></th>\n      <th>Duration</th>\n      <th>Start date</th>\n      <th>End date</th>\n      <th>Start station</th>\n      <th>End station</th>\n      <th>Member Type</th>\n      <th>Bike number</th>\n      <th>Date</th>\n      <th>Time</th>\n      <th>Month</th>\n      <th>Weekday</th>\n      <th>Hour</th>\n      <th>Holiday</th>\n    </tr>\n  </thead>\n  <tbody>\n    <tr>\n      <th>0</th>\n      <td>552.0</td>\n      <td>2018-01-01 00:05:06</td>\n      <td>2018-01-01 00:14:18</td>\n      <td>Adams Mill &amp; Columbia Rd NW</td>\n      <td>Georgia &amp; New Hampshire Ave NW</td>\n      <td>Member</td>\n      <td>W00886</td>\n      <td>2018-01-01</td>\n      <td>00:05:06</td>\n      <td>January</td>\n      <td>Monday</td>\n      <td>0</td>\n      <td>No</td>\n    </tr>\n    <tr>\n      <th>1</th>\n      <td>1282.0</td>\n      <td>2018-01-01 00:14:30</td>\n      <td>2018-01-01 00:35:53</td>\n      <td>15th St &amp; Constitution Ave NW</td>\n      <td>15th St &amp; Constitution Ave NW</td>\n      <td>Casual</td>\n      <td>W01435</td>\n      <td>2018-01-01</td>\n      <td>00:14:30</td>\n      <td>January</td>\n      <td>Monday</td>\n      <td>0</td>\n      <td>No</td>\n    </tr>\n    <tr>\n      <th>2</th>\n      <td>1265.0</td>\n      <td>2018-01-01 00:14:53</td>\n      <td>2018-01-01 00:35:58</td>\n      <td>15th St &amp; Constitution Ave NW</td>\n      <td>15th St &amp; Constitution Ave NW</td>\n      <td>Casual</td>\n      <td>W21242</td>\n      <td>2018-01-01</td>\n      <td>00:14:53</td>\n      <td>January</td>\n      <td>Monday</td>\n      <td>0</td>\n      <td>No</td>\n    </tr>\n    <tr>\n      <th>3</th>\n      <td>578.0</td>\n      <td>2018-01-01 00:15:31</td>\n      <td>2018-01-01 00:25:09</td>\n      <td>14th &amp; Upshur St NW</td>\n      <td>16th &amp; Harvard St NW</td>\n      <td>Casual</td>\n      <td>W21322</td>\n      <td>2018-01-01</td>\n      <td>00:15:31</td>\n      <td>January</td>\n      <td>Monday</td>\n      <td>0</td>\n      <td>No</td>\n    </tr>\n    <tr>\n      <th>4</th>\n      <td>372.0</td>\n      <td>2018-01-01 00:18:02</td>\n      <td>2018-01-01 00:24:15</td>\n      <td>4th &amp; East Capitol St NE</td>\n      <td>Lincoln Park / 13th &amp; East Capitol St NE</td>\n      <td>Member</td>\n      <td>W00119</td>\n      <td>2018-01-01</td>\n      <td>00:18:02</td>\n      <td>January</td>\n      <td>Monday</td>\n      <td>0</td>\n      <td>No</td>\n    </tr>\n    <tr>\n      <th>...</th>\n      <td>...</td>\n      <td>...</td>\n      <td>...</td>\n      <td>...</td>\n      <td>...</td>\n      <td>...</td>\n      <td>...</td>\n      <td>...</td>\n      <td>...</td>\n      <td>...</td>\n      <td>...</td>\n      <td>...</td>\n      <td>...</td>\n    </tr>\n    <tr>\n      <th>105824</th>\n      <td>1627.0</td>\n      <td>2020-12-12 13:49:55</td>\n      <td>2020-12-12 14:17:02</td>\n      <td>Jefferson Dr &amp; 14th St SW</td>\n      <td>19th St &amp; Constitution Ave NW</td>\n      <td>casual</td>\n      <td>NaN</td>\n      <td>2020-12-12</td>\n      <td>13:49:55</td>\n      <td>December</td>\n      <td>Saturday</td>\n      <td>13</td>\n      <td>No</td>\n    </tr>\n    <tr>\n      <th>105825</th>\n      <td>1365.0</td>\n      <td>2020-12-03 13:43:26</td>\n      <td>2020-12-03 14:06:11</td>\n      <td>Jefferson Dr &amp; 14th St SW</td>\n      <td>4th St &amp; Madison Dr NW</td>\n      <td>casual</td>\n      <td>NaN</td>\n      <td>2020-12-03</td>\n      <td>13:43:26</td>\n      <td>December</td>\n      <td>Thursday</td>\n      <td>13</td>\n      <td>No</td>\n    </tr>\n    <tr>\n      <th>105826</th>\n      <td>2159.0</td>\n      <td>2020-12-06 07:27:47</td>\n      <td>2020-12-06 08:03:46</td>\n      <td>Jefferson Dr &amp; 14th St SW</td>\n      <td>19th St &amp; Constitution Ave NW</td>\n      <td>casual</td>\n      <td>NaN</td>\n      <td>2020-12-06</td>\n      <td>07:27:47</td>\n      <td>December</td>\n      <td>Sunday</td>\n      <td>7</td>\n      <td>No</td>\n    </tr>\n    <tr>\n      <th>105827</th>\n      <td>2458.0</td>\n      <td>2020-12-21 13:46:01</td>\n      <td>2020-12-21 14:26:59</td>\n      <td>Jefferson Dr &amp; 14th St SW</td>\n      <td>17th &amp; G St NW</td>\n      <td>casual</td>\n      <td>NaN</td>\n      <td>2020-12-21</td>\n      <td>13:46:01</td>\n      <td>December</td>\n      <td>Monday</td>\n      <td>13</td>\n      <td>No</td>\n    </tr>\n    <tr>\n      <th>105828</th>\n      <td>846.0</td>\n      <td>2020-12-18 09:09:48</td>\n      <td>2020-12-18 09:23:54</td>\n      <td>New Hampshire Ave &amp; 24th St NW</td>\n      <td>4th St &amp; Madison Dr NW</td>\n      <td>member</td>\n      <td>NaN</td>\n      <td>2020-12-18</td>\n      <td>09:09:48</td>\n      <td>December</td>\n      <td>Friday</td>\n      <td>9</td>\n      <td>No</td>\n    </tr>\n  </tbody>\n</table>\n<p>9157803 rows × 13 columns</p>\n</div>"
     },
     "metadata": {},
     "execution_count": 61
    }
   ],
   "source": [
    "final"
   ]
  },
  {
   "cell_type": "code",
   "execution_count": 62,
   "metadata": {},
   "outputs": [],
   "source": [
    "final =final.reset_index(drop= True)"
   ]
  },
  {
   "cell_type": "code",
   "execution_count": 63,
   "metadata": {},
   "outputs": [
    {
     "output_type": "execute_result",
     "data": {
      "text/plain": [
       "         Duration          Start date             End date  \\\n",
       "0           552.0 2018-01-01 00:05:06  2018-01-01 00:14:18   \n",
       "1          1282.0 2018-01-01 00:14:30  2018-01-01 00:35:53   \n",
       "2          1265.0 2018-01-01 00:14:53  2018-01-01 00:35:58   \n",
       "3           578.0 2018-01-01 00:15:31  2018-01-01 00:25:09   \n",
       "4           372.0 2018-01-01 00:18:02  2018-01-01 00:24:15   \n",
       "...           ...                 ...                  ...   \n",
       "9157798    1627.0 2020-12-12 13:49:55  2020-12-12 14:17:02   \n",
       "9157799    1365.0 2020-12-03 13:43:26  2020-12-03 14:06:11   \n",
       "9157800    2159.0 2020-12-06 07:27:47  2020-12-06 08:03:46   \n",
       "9157801    2458.0 2020-12-21 13:46:01  2020-12-21 14:26:59   \n",
       "9157802     846.0 2020-12-18 09:09:48  2020-12-18 09:23:54   \n",
       "\n",
       "                          Start station  \\\n",
       "0           Adams Mill & Columbia Rd NW   \n",
       "1         15th St & Constitution Ave NW   \n",
       "2         15th St & Constitution Ave NW   \n",
       "3                   14th & Upshur St NW   \n",
       "4              4th & East Capitol St NE   \n",
       "...                                 ...   \n",
       "9157798       Jefferson Dr & 14th St SW   \n",
       "9157799       Jefferson Dr & 14th St SW   \n",
       "9157800       Jefferson Dr & 14th St SW   \n",
       "9157801       Jefferson Dr & 14th St SW   \n",
       "9157802  New Hampshire Ave & 24th St NW   \n",
       "\n",
       "                                       End station Member Type Bike number  \\\n",
       "0                   Georgia & New Hampshire Ave NW      Member      W00886   \n",
       "1                    15th St & Constitution Ave NW      Casual      W01435   \n",
       "2                    15th St & Constitution Ave NW      Casual      W21242   \n",
       "3                             16th & Harvard St NW      Casual      W21322   \n",
       "4        Lincoln Park / 13th & East Capitol St NE       Member      W00119   \n",
       "...                                            ...         ...         ...   \n",
       "9157798              19th St & Constitution Ave NW      casual         NaN   \n",
       "9157799                     4th St & Madison Dr NW      casual         NaN   \n",
       "9157800              19th St & Constitution Ave NW      casual         NaN   \n",
       "9157801                             17th & G St NW      casual         NaN   \n",
       "9157802                     4th St & Madison Dr NW      member         NaN   \n",
       "\n",
       "               Date      Time     Month   Weekday  Hour Holiday  \n",
       "0        2018-01-01  00:05:06   January    Monday     0      No  \n",
       "1        2018-01-01  00:14:30   January    Monday     0      No  \n",
       "2        2018-01-01  00:14:53   January    Monday     0      No  \n",
       "3        2018-01-01  00:15:31   January    Monday     0      No  \n",
       "4        2018-01-01  00:18:02   January    Monday     0      No  \n",
       "...             ...       ...       ...       ...   ...     ...  \n",
       "9157798  2020-12-12  13:49:55  December  Saturday    13      No  \n",
       "9157799  2020-12-03  13:43:26  December  Thursday    13      No  \n",
       "9157800  2020-12-06  07:27:47  December    Sunday     7      No  \n",
       "9157801  2020-12-21  13:46:01  December    Monday    13      No  \n",
       "9157802  2020-12-18  09:09:48  December    Friday     9      No  \n",
       "\n",
       "[9157803 rows x 13 columns]"
      ],
      "text/html": "<div>\n<style scoped>\n    .dataframe tbody tr th:only-of-type {\n        vertical-align: middle;\n    }\n\n    .dataframe tbody tr th {\n        vertical-align: top;\n    }\n\n    .dataframe thead th {\n        text-align: right;\n    }\n</style>\n<table border=\"1\" class=\"dataframe\">\n  <thead>\n    <tr style=\"text-align: right;\">\n      <th></th>\n      <th>Duration</th>\n      <th>Start date</th>\n      <th>End date</th>\n      <th>Start station</th>\n      <th>End station</th>\n      <th>Member Type</th>\n      <th>Bike number</th>\n      <th>Date</th>\n      <th>Time</th>\n      <th>Month</th>\n      <th>Weekday</th>\n      <th>Hour</th>\n      <th>Holiday</th>\n    </tr>\n  </thead>\n  <tbody>\n    <tr>\n      <th>0</th>\n      <td>552.0</td>\n      <td>2018-01-01 00:05:06</td>\n      <td>2018-01-01 00:14:18</td>\n      <td>Adams Mill &amp; Columbia Rd NW</td>\n      <td>Georgia &amp; New Hampshire Ave NW</td>\n      <td>Member</td>\n      <td>W00886</td>\n      <td>2018-01-01</td>\n      <td>00:05:06</td>\n      <td>January</td>\n      <td>Monday</td>\n      <td>0</td>\n      <td>No</td>\n    </tr>\n    <tr>\n      <th>1</th>\n      <td>1282.0</td>\n      <td>2018-01-01 00:14:30</td>\n      <td>2018-01-01 00:35:53</td>\n      <td>15th St &amp; Constitution Ave NW</td>\n      <td>15th St &amp; Constitution Ave NW</td>\n      <td>Casual</td>\n      <td>W01435</td>\n      <td>2018-01-01</td>\n      <td>00:14:30</td>\n      <td>January</td>\n      <td>Monday</td>\n      <td>0</td>\n      <td>No</td>\n    </tr>\n    <tr>\n      <th>2</th>\n      <td>1265.0</td>\n      <td>2018-01-01 00:14:53</td>\n      <td>2018-01-01 00:35:58</td>\n      <td>15th St &amp; Constitution Ave NW</td>\n      <td>15th St &amp; Constitution Ave NW</td>\n      <td>Casual</td>\n      <td>W21242</td>\n      <td>2018-01-01</td>\n      <td>00:14:53</td>\n      <td>January</td>\n      <td>Monday</td>\n      <td>0</td>\n      <td>No</td>\n    </tr>\n    <tr>\n      <th>3</th>\n      <td>578.0</td>\n      <td>2018-01-01 00:15:31</td>\n      <td>2018-01-01 00:25:09</td>\n      <td>14th &amp; Upshur St NW</td>\n      <td>16th &amp; Harvard St NW</td>\n      <td>Casual</td>\n      <td>W21322</td>\n      <td>2018-01-01</td>\n      <td>00:15:31</td>\n      <td>January</td>\n      <td>Monday</td>\n      <td>0</td>\n      <td>No</td>\n    </tr>\n    <tr>\n      <th>4</th>\n      <td>372.0</td>\n      <td>2018-01-01 00:18:02</td>\n      <td>2018-01-01 00:24:15</td>\n      <td>4th &amp; East Capitol St NE</td>\n      <td>Lincoln Park / 13th &amp; East Capitol St NE</td>\n      <td>Member</td>\n      <td>W00119</td>\n      <td>2018-01-01</td>\n      <td>00:18:02</td>\n      <td>January</td>\n      <td>Monday</td>\n      <td>0</td>\n      <td>No</td>\n    </tr>\n    <tr>\n      <th>...</th>\n      <td>...</td>\n      <td>...</td>\n      <td>...</td>\n      <td>...</td>\n      <td>...</td>\n      <td>...</td>\n      <td>...</td>\n      <td>...</td>\n      <td>...</td>\n      <td>...</td>\n      <td>...</td>\n      <td>...</td>\n      <td>...</td>\n    </tr>\n    <tr>\n      <th>9157798</th>\n      <td>1627.0</td>\n      <td>2020-12-12 13:49:55</td>\n      <td>2020-12-12 14:17:02</td>\n      <td>Jefferson Dr &amp; 14th St SW</td>\n      <td>19th St &amp; Constitution Ave NW</td>\n      <td>casual</td>\n      <td>NaN</td>\n      <td>2020-12-12</td>\n      <td>13:49:55</td>\n      <td>December</td>\n      <td>Saturday</td>\n      <td>13</td>\n      <td>No</td>\n    </tr>\n    <tr>\n      <th>9157799</th>\n      <td>1365.0</td>\n      <td>2020-12-03 13:43:26</td>\n      <td>2020-12-03 14:06:11</td>\n      <td>Jefferson Dr &amp; 14th St SW</td>\n      <td>4th St &amp; Madison Dr NW</td>\n      <td>casual</td>\n      <td>NaN</td>\n      <td>2020-12-03</td>\n      <td>13:43:26</td>\n      <td>December</td>\n      <td>Thursday</td>\n      <td>13</td>\n      <td>No</td>\n    </tr>\n    <tr>\n      <th>9157800</th>\n      <td>2159.0</td>\n      <td>2020-12-06 07:27:47</td>\n      <td>2020-12-06 08:03:46</td>\n      <td>Jefferson Dr &amp; 14th St SW</td>\n      <td>19th St &amp; Constitution Ave NW</td>\n      <td>casual</td>\n      <td>NaN</td>\n      <td>2020-12-06</td>\n      <td>07:27:47</td>\n      <td>December</td>\n      <td>Sunday</td>\n      <td>7</td>\n      <td>No</td>\n    </tr>\n    <tr>\n      <th>9157801</th>\n      <td>2458.0</td>\n      <td>2020-12-21 13:46:01</td>\n      <td>2020-12-21 14:26:59</td>\n      <td>Jefferson Dr &amp; 14th St SW</td>\n      <td>17th &amp; G St NW</td>\n      <td>casual</td>\n      <td>NaN</td>\n      <td>2020-12-21</td>\n      <td>13:46:01</td>\n      <td>December</td>\n      <td>Monday</td>\n      <td>13</td>\n      <td>No</td>\n    </tr>\n    <tr>\n      <th>9157802</th>\n      <td>846.0</td>\n      <td>2020-12-18 09:09:48</td>\n      <td>2020-12-18 09:23:54</td>\n      <td>New Hampshire Ave &amp; 24th St NW</td>\n      <td>4th St &amp; Madison Dr NW</td>\n      <td>member</td>\n      <td>NaN</td>\n      <td>2020-12-18</td>\n      <td>09:09:48</td>\n      <td>December</td>\n      <td>Friday</td>\n      <td>9</td>\n      <td>No</td>\n    </tr>\n  </tbody>\n</table>\n<p>9157803 rows × 13 columns</p>\n</div>"
     },
     "metadata": {},
     "execution_count": 63
    }
   ],
   "source": [
    "final"
   ]
  },
  {
   "cell_type": "code",
   "execution_count": 64,
   "metadata": {},
   "outputs": [],
   "source": [
    "final['Year'] = final['Start date'].dt.year"
   ]
  },
  {
   "cell_type": "code",
   "execution_count": 65,
   "metadata": {},
   "outputs": [
    {
     "output_type": "execute_result",
     "data": {
      "text/plain": [
       "         Duration          Start date             End date  \\\n",
       "0           552.0 2018-01-01 00:05:06  2018-01-01 00:14:18   \n",
       "1          1282.0 2018-01-01 00:14:30  2018-01-01 00:35:53   \n",
       "2          1265.0 2018-01-01 00:14:53  2018-01-01 00:35:58   \n",
       "3           578.0 2018-01-01 00:15:31  2018-01-01 00:25:09   \n",
       "4           372.0 2018-01-01 00:18:02  2018-01-01 00:24:15   \n",
       "...           ...                 ...                  ...   \n",
       "9157798    1627.0 2020-12-12 13:49:55  2020-12-12 14:17:02   \n",
       "9157799    1365.0 2020-12-03 13:43:26  2020-12-03 14:06:11   \n",
       "9157800    2159.0 2020-12-06 07:27:47  2020-12-06 08:03:46   \n",
       "9157801    2458.0 2020-12-21 13:46:01  2020-12-21 14:26:59   \n",
       "9157802     846.0 2020-12-18 09:09:48  2020-12-18 09:23:54   \n",
       "\n",
       "                          Start station  \\\n",
       "0           Adams Mill & Columbia Rd NW   \n",
       "1         15th St & Constitution Ave NW   \n",
       "2         15th St & Constitution Ave NW   \n",
       "3                   14th & Upshur St NW   \n",
       "4              4th & East Capitol St NE   \n",
       "...                                 ...   \n",
       "9157798       Jefferson Dr & 14th St SW   \n",
       "9157799       Jefferson Dr & 14th St SW   \n",
       "9157800       Jefferson Dr & 14th St SW   \n",
       "9157801       Jefferson Dr & 14th St SW   \n",
       "9157802  New Hampshire Ave & 24th St NW   \n",
       "\n",
       "                                       End station Member Type Bike number  \\\n",
       "0                   Georgia & New Hampshire Ave NW      Member      W00886   \n",
       "1                    15th St & Constitution Ave NW      Casual      W01435   \n",
       "2                    15th St & Constitution Ave NW      Casual      W21242   \n",
       "3                             16th & Harvard St NW      Casual      W21322   \n",
       "4        Lincoln Park / 13th & East Capitol St NE       Member      W00119   \n",
       "...                                            ...         ...         ...   \n",
       "9157798              19th St & Constitution Ave NW      casual         NaN   \n",
       "9157799                     4th St & Madison Dr NW      casual         NaN   \n",
       "9157800              19th St & Constitution Ave NW      casual         NaN   \n",
       "9157801                             17th & G St NW      casual         NaN   \n",
       "9157802                     4th St & Madison Dr NW      member         NaN   \n",
       "\n",
       "               Date      Time     Month   Weekday  Hour Holiday  Year  \n",
       "0        2018-01-01  00:05:06   January    Monday     0      No  2018  \n",
       "1        2018-01-01  00:14:30   January    Monday     0      No  2018  \n",
       "2        2018-01-01  00:14:53   January    Monday     0      No  2018  \n",
       "3        2018-01-01  00:15:31   January    Monday     0      No  2018  \n",
       "4        2018-01-01  00:18:02   January    Monday     0      No  2018  \n",
       "...             ...       ...       ...       ...   ...     ...   ...  \n",
       "9157798  2020-12-12  13:49:55  December  Saturday    13      No  2020  \n",
       "9157799  2020-12-03  13:43:26  December  Thursday    13      No  2020  \n",
       "9157800  2020-12-06  07:27:47  December    Sunday     7      No  2020  \n",
       "9157801  2020-12-21  13:46:01  December    Monday    13      No  2020  \n",
       "9157802  2020-12-18  09:09:48  December    Friday     9      No  2020  \n",
       "\n",
       "[9157803 rows x 14 columns]"
      ],
      "text/html": "<div>\n<style scoped>\n    .dataframe tbody tr th:only-of-type {\n        vertical-align: middle;\n    }\n\n    .dataframe tbody tr th {\n        vertical-align: top;\n    }\n\n    .dataframe thead th {\n        text-align: right;\n    }\n</style>\n<table border=\"1\" class=\"dataframe\">\n  <thead>\n    <tr style=\"text-align: right;\">\n      <th></th>\n      <th>Duration</th>\n      <th>Start date</th>\n      <th>End date</th>\n      <th>Start station</th>\n      <th>End station</th>\n      <th>Member Type</th>\n      <th>Bike number</th>\n      <th>Date</th>\n      <th>Time</th>\n      <th>Month</th>\n      <th>Weekday</th>\n      <th>Hour</th>\n      <th>Holiday</th>\n      <th>Year</th>\n    </tr>\n  </thead>\n  <tbody>\n    <tr>\n      <th>0</th>\n      <td>552.0</td>\n      <td>2018-01-01 00:05:06</td>\n      <td>2018-01-01 00:14:18</td>\n      <td>Adams Mill &amp; Columbia Rd NW</td>\n      <td>Georgia &amp; New Hampshire Ave NW</td>\n      <td>Member</td>\n      <td>W00886</td>\n      <td>2018-01-01</td>\n      <td>00:05:06</td>\n      <td>January</td>\n      <td>Monday</td>\n      <td>0</td>\n      <td>No</td>\n      <td>2018</td>\n    </tr>\n    <tr>\n      <th>1</th>\n      <td>1282.0</td>\n      <td>2018-01-01 00:14:30</td>\n      <td>2018-01-01 00:35:53</td>\n      <td>15th St &amp; Constitution Ave NW</td>\n      <td>15th St &amp; Constitution Ave NW</td>\n      <td>Casual</td>\n      <td>W01435</td>\n      <td>2018-01-01</td>\n      <td>00:14:30</td>\n      <td>January</td>\n      <td>Monday</td>\n      <td>0</td>\n      <td>No</td>\n      <td>2018</td>\n    </tr>\n    <tr>\n      <th>2</th>\n      <td>1265.0</td>\n      <td>2018-01-01 00:14:53</td>\n      <td>2018-01-01 00:35:58</td>\n      <td>15th St &amp; Constitution Ave NW</td>\n      <td>15th St &amp; Constitution Ave NW</td>\n      <td>Casual</td>\n      <td>W21242</td>\n      <td>2018-01-01</td>\n      <td>00:14:53</td>\n      <td>January</td>\n      <td>Monday</td>\n      <td>0</td>\n      <td>No</td>\n      <td>2018</td>\n    </tr>\n    <tr>\n      <th>3</th>\n      <td>578.0</td>\n      <td>2018-01-01 00:15:31</td>\n      <td>2018-01-01 00:25:09</td>\n      <td>14th &amp; Upshur St NW</td>\n      <td>16th &amp; Harvard St NW</td>\n      <td>Casual</td>\n      <td>W21322</td>\n      <td>2018-01-01</td>\n      <td>00:15:31</td>\n      <td>January</td>\n      <td>Monday</td>\n      <td>0</td>\n      <td>No</td>\n      <td>2018</td>\n    </tr>\n    <tr>\n      <th>4</th>\n      <td>372.0</td>\n      <td>2018-01-01 00:18:02</td>\n      <td>2018-01-01 00:24:15</td>\n      <td>4th &amp; East Capitol St NE</td>\n      <td>Lincoln Park / 13th &amp; East Capitol St NE</td>\n      <td>Member</td>\n      <td>W00119</td>\n      <td>2018-01-01</td>\n      <td>00:18:02</td>\n      <td>January</td>\n      <td>Monday</td>\n      <td>0</td>\n      <td>No</td>\n      <td>2018</td>\n    </tr>\n    <tr>\n      <th>...</th>\n      <td>...</td>\n      <td>...</td>\n      <td>...</td>\n      <td>...</td>\n      <td>...</td>\n      <td>...</td>\n      <td>...</td>\n      <td>...</td>\n      <td>...</td>\n      <td>...</td>\n      <td>...</td>\n      <td>...</td>\n      <td>...</td>\n      <td>...</td>\n    </tr>\n    <tr>\n      <th>9157798</th>\n      <td>1627.0</td>\n      <td>2020-12-12 13:49:55</td>\n      <td>2020-12-12 14:17:02</td>\n      <td>Jefferson Dr &amp; 14th St SW</td>\n      <td>19th St &amp; Constitution Ave NW</td>\n      <td>casual</td>\n      <td>NaN</td>\n      <td>2020-12-12</td>\n      <td>13:49:55</td>\n      <td>December</td>\n      <td>Saturday</td>\n      <td>13</td>\n      <td>No</td>\n      <td>2020</td>\n    </tr>\n    <tr>\n      <th>9157799</th>\n      <td>1365.0</td>\n      <td>2020-12-03 13:43:26</td>\n      <td>2020-12-03 14:06:11</td>\n      <td>Jefferson Dr &amp; 14th St SW</td>\n      <td>4th St &amp; Madison Dr NW</td>\n      <td>casual</td>\n      <td>NaN</td>\n      <td>2020-12-03</td>\n      <td>13:43:26</td>\n      <td>December</td>\n      <td>Thursday</td>\n      <td>13</td>\n      <td>No</td>\n      <td>2020</td>\n    </tr>\n    <tr>\n      <th>9157800</th>\n      <td>2159.0</td>\n      <td>2020-12-06 07:27:47</td>\n      <td>2020-12-06 08:03:46</td>\n      <td>Jefferson Dr &amp; 14th St SW</td>\n      <td>19th St &amp; Constitution Ave NW</td>\n      <td>casual</td>\n      <td>NaN</td>\n      <td>2020-12-06</td>\n      <td>07:27:47</td>\n      <td>December</td>\n      <td>Sunday</td>\n      <td>7</td>\n      <td>No</td>\n      <td>2020</td>\n    </tr>\n    <tr>\n      <th>9157801</th>\n      <td>2458.0</td>\n      <td>2020-12-21 13:46:01</td>\n      <td>2020-12-21 14:26:59</td>\n      <td>Jefferson Dr &amp; 14th St SW</td>\n      <td>17th &amp; G St NW</td>\n      <td>casual</td>\n      <td>NaN</td>\n      <td>2020-12-21</td>\n      <td>13:46:01</td>\n      <td>December</td>\n      <td>Monday</td>\n      <td>13</td>\n      <td>No</td>\n      <td>2020</td>\n    </tr>\n    <tr>\n      <th>9157802</th>\n      <td>846.0</td>\n      <td>2020-12-18 09:09:48</td>\n      <td>2020-12-18 09:23:54</td>\n      <td>New Hampshire Ave &amp; 24th St NW</td>\n      <td>4th St &amp; Madison Dr NW</td>\n      <td>member</td>\n      <td>NaN</td>\n      <td>2020-12-18</td>\n      <td>09:09:48</td>\n      <td>December</td>\n      <td>Friday</td>\n      <td>9</td>\n      <td>No</td>\n      <td>2020</td>\n    </tr>\n  </tbody>\n</table>\n<p>9157803 rows × 14 columns</p>\n</div>"
     },
     "metadata": {},
     "execution_count": 65
    }
   ],
   "source": [
    "final"
   ]
  },
  {
   "cell_type": "code",
   "execution_count": 66,
   "metadata": {},
   "outputs": [
    {
     "output_type": "execute_result",
     "data": {
      "text/plain": [
       "Date        Month     Hour  Holiday  Weekday   Member Type\n",
       "2018-01-01  January   0     No       Monday    Casual          6\n",
       "                                               Member         28\n",
       "                      1     No       Monday    Casual         11\n",
       "                                               Member         38\n",
       "                      2     No       Monday    Casual          7\n",
       "                                                              ..\n",
       "2020-12-31  December  21    No       Thursday  member         29\n",
       "                      22    No       Thursday  casual         25\n",
       "                                               member         31\n",
       "                      23    No       Thursday  casual         32\n",
       "                                               member         21\n",
       "Length: 50894, dtype: int64"
      ]
     },
     "metadata": {},
     "execution_count": 66
    }
   ],
   "source": [
    "g1 = final.groupby(['Date','Month','Hour','Holiday', 'Weekday', 'Member Type']).size()\n",
    "g1"
   ]
  },
  {
   "cell_type": "code",
   "execution_count": 68,
   "metadata": {},
   "outputs": [
    {
     "output_type": "execute_result",
     "data": {
      "text/plain": [
       "             Date     Month  Hour Holiday   Weekday Member Type   0\n",
       "0      2018-01-01   January     0      No    Monday      Casual   6\n",
       "1      2018-01-01   January     0      No    Monday      Member  28\n",
       "2      2018-01-01   January     1      No    Monday      Casual  11\n",
       "3      2018-01-01   January     1      No    Monday      Member  38\n",
       "4      2018-01-01   January     2      No    Monday      Casual   7\n",
       "...           ...       ...   ...     ...       ...         ...  ..\n",
       "50889  2020-12-31  December    21      No  Thursday      member  29\n",
       "50890  2020-12-31  December    22      No  Thursday      casual  25\n",
       "50891  2020-12-31  December    22      No  Thursday      member  31\n",
       "50892  2020-12-31  December    23      No  Thursday      casual  32\n",
       "50893  2020-12-31  December    23      No  Thursday      member  21\n",
       "\n",
       "[50894 rows x 7 columns]"
      ],
      "text/html": "<div>\n<style scoped>\n    .dataframe tbody tr th:only-of-type {\n        vertical-align: middle;\n    }\n\n    .dataframe tbody tr th {\n        vertical-align: top;\n    }\n\n    .dataframe thead th {\n        text-align: right;\n    }\n</style>\n<table border=\"1\" class=\"dataframe\">\n  <thead>\n    <tr style=\"text-align: right;\">\n      <th></th>\n      <th>Date</th>\n      <th>Month</th>\n      <th>Hour</th>\n      <th>Holiday</th>\n      <th>Weekday</th>\n      <th>Member Type</th>\n      <th>0</th>\n    </tr>\n  </thead>\n  <tbody>\n    <tr>\n      <th>0</th>\n      <td>2018-01-01</td>\n      <td>January</td>\n      <td>0</td>\n      <td>No</td>\n      <td>Monday</td>\n      <td>Casual</td>\n      <td>6</td>\n    </tr>\n    <tr>\n      <th>1</th>\n      <td>2018-01-01</td>\n      <td>January</td>\n      <td>0</td>\n      <td>No</td>\n      <td>Monday</td>\n      <td>Member</td>\n      <td>28</td>\n    </tr>\n    <tr>\n      <th>2</th>\n      <td>2018-01-01</td>\n      <td>January</td>\n      <td>1</td>\n      <td>No</td>\n      <td>Monday</td>\n      <td>Casual</td>\n      <td>11</td>\n    </tr>\n    <tr>\n      <th>3</th>\n      <td>2018-01-01</td>\n      <td>January</td>\n      <td>1</td>\n      <td>No</td>\n      <td>Monday</td>\n      <td>Member</td>\n      <td>38</td>\n    </tr>\n    <tr>\n      <th>4</th>\n      <td>2018-01-01</td>\n      <td>January</td>\n      <td>2</td>\n      <td>No</td>\n      <td>Monday</td>\n      <td>Casual</td>\n      <td>7</td>\n    </tr>\n    <tr>\n      <th>...</th>\n      <td>...</td>\n      <td>...</td>\n      <td>...</td>\n      <td>...</td>\n      <td>...</td>\n      <td>...</td>\n      <td>...</td>\n    </tr>\n    <tr>\n      <th>50889</th>\n      <td>2020-12-31</td>\n      <td>December</td>\n      <td>21</td>\n      <td>No</td>\n      <td>Thursday</td>\n      <td>member</td>\n      <td>29</td>\n    </tr>\n    <tr>\n      <th>50890</th>\n      <td>2020-12-31</td>\n      <td>December</td>\n      <td>22</td>\n      <td>No</td>\n      <td>Thursday</td>\n      <td>casual</td>\n      <td>25</td>\n    </tr>\n    <tr>\n      <th>50891</th>\n      <td>2020-12-31</td>\n      <td>December</td>\n      <td>22</td>\n      <td>No</td>\n      <td>Thursday</td>\n      <td>member</td>\n      <td>31</td>\n    </tr>\n    <tr>\n      <th>50892</th>\n      <td>2020-12-31</td>\n      <td>December</td>\n      <td>23</td>\n      <td>No</td>\n      <td>Thursday</td>\n      <td>casual</td>\n      <td>32</td>\n    </tr>\n    <tr>\n      <th>50893</th>\n      <td>2020-12-31</td>\n      <td>December</td>\n      <td>23</td>\n      <td>No</td>\n      <td>Thursday</td>\n      <td>member</td>\n      <td>21</td>\n    </tr>\n  </tbody>\n</table>\n<p>50894 rows × 7 columns</p>\n</div>"
     },
     "metadata": {},
     "execution_count": 68
    }
   ],
   "source": [
    "g2 = g1.reset_index()\n",
    "g2"
   ]
  },
  {
   "cell_type": "code",
   "execution_count": 69,
   "metadata": {},
   "outputs": [
    {
     "output_type": "execute_result",
     "data": {
      "text/plain": [
       "             date     month  hour holiday   weekday Member type  count\n",
       "0      2018-01-01   January     0      No    Monday      Casual      6\n",
       "1      2018-01-01   January     0      No    Monday      Member     28\n",
       "2      2018-01-01   January     1      No    Monday      Casual     11\n",
       "3      2018-01-01   January     1      No    Monday      Member     38\n",
       "4      2018-01-01   January     2      No    Monday      Casual      7\n",
       "...           ...       ...   ...     ...       ...         ...    ...\n",
       "50889  2020-12-31  December    21      No  Thursday      member     29\n",
       "50890  2020-12-31  December    22      No  Thursday      casual     25\n",
       "50891  2020-12-31  December    22      No  Thursday      member     31\n",
       "50892  2020-12-31  December    23      No  Thursday      casual     32\n",
       "50893  2020-12-31  December    23      No  Thursday      member     21\n",
       "\n",
       "[50894 rows x 7 columns]"
      ],
      "text/html": "<div>\n<style scoped>\n    .dataframe tbody tr th:only-of-type {\n        vertical-align: middle;\n    }\n\n    .dataframe tbody tr th {\n        vertical-align: top;\n    }\n\n    .dataframe thead th {\n        text-align: right;\n    }\n</style>\n<table border=\"1\" class=\"dataframe\">\n  <thead>\n    <tr style=\"text-align: right;\">\n      <th></th>\n      <th>date</th>\n      <th>month</th>\n      <th>hour</th>\n      <th>holiday</th>\n      <th>weekday</th>\n      <th>Member type</th>\n      <th>count</th>\n    </tr>\n  </thead>\n  <tbody>\n    <tr>\n      <th>0</th>\n      <td>2018-01-01</td>\n      <td>January</td>\n      <td>0</td>\n      <td>No</td>\n      <td>Monday</td>\n      <td>Casual</td>\n      <td>6</td>\n    </tr>\n    <tr>\n      <th>1</th>\n      <td>2018-01-01</td>\n      <td>January</td>\n      <td>0</td>\n      <td>No</td>\n      <td>Monday</td>\n      <td>Member</td>\n      <td>28</td>\n    </tr>\n    <tr>\n      <th>2</th>\n      <td>2018-01-01</td>\n      <td>January</td>\n      <td>1</td>\n      <td>No</td>\n      <td>Monday</td>\n      <td>Casual</td>\n      <td>11</td>\n    </tr>\n    <tr>\n      <th>3</th>\n      <td>2018-01-01</td>\n      <td>January</td>\n      <td>1</td>\n      <td>No</td>\n      <td>Monday</td>\n      <td>Member</td>\n      <td>38</td>\n    </tr>\n    <tr>\n      <th>4</th>\n      <td>2018-01-01</td>\n      <td>January</td>\n      <td>2</td>\n      <td>No</td>\n      <td>Monday</td>\n      <td>Casual</td>\n      <td>7</td>\n    </tr>\n    <tr>\n      <th>...</th>\n      <td>...</td>\n      <td>...</td>\n      <td>...</td>\n      <td>...</td>\n      <td>...</td>\n      <td>...</td>\n      <td>...</td>\n    </tr>\n    <tr>\n      <th>50889</th>\n      <td>2020-12-31</td>\n      <td>December</td>\n      <td>21</td>\n      <td>No</td>\n      <td>Thursday</td>\n      <td>member</td>\n      <td>29</td>\n    </tr>\n    <tr>\n      <th>50890</th>\n      <td>2020-12-31</td>\n      <td>December</td>\n      <td>22</td>\n      <td>No</td>\n      <td>Thursday</td>\n      <td>casual</td>\n      <td>25</td>\n    </tr>\n    <tr>\n      <th>50891</th>\n      <td>2020-12-31</td>\n      <td>December</td>\n      <td>22</td>\n      <td>No</td>\n      <td>Thursday</td>\n      <td>member</td>\n      <td>31</td>\n    </tr>\n    <tr>\n      <th>50892</th>\n      <td>2020-12-31</td>\n      <td>December</td>\n      <td>23</td>\n      <td>No</td>\n      <td>Thursday</td>\n      <td>casual</td>\n      <td>32</td>\n    </tr>\n    <tr>\n      <th>50893</th>\n      <td>2020-12-31</td>\n      <td>December</td>\n      <td>23</td>\n      <td>No</td>\n      <td>Thursday</td>\n      <td>member</td>\n      <td>21</td>\n    </tr>\n  </tbody>\n</table>\n<p>50894 rows × 7 columns</p>\n</div>"
     },
     "metadata": {},
     "execution_count": 69
    }
   ],
   "source": [
    "g2.columns = [ 'date','month','hour','holiday','weekday','Member type','count']\n",
    "g2"
   ]
  },
  {
   "cell_type": "code",
   "execution_count": 70,
   "metadata": {},
   "outputs": [],
   "source": [
    "# g2.to_csv(r'C:\\Users\\anupd\\OneDrive\\Desktop\\capital-bike-share\\final_18_19_20.csv')"
   ]
  },
  {
   "cell_type": "code",
   "execution_count": null,
   "metadata": {},
   "outputs": [],
   "source": []
  }
 ]
}