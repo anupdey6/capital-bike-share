{
 "metadata": {
  "language_info": {
   "codemirror_mode": {
    "name": "ipython",
    "version": 3
   },
   "file_extension": ".py",
   "mimetype": "text/x-python",
   "name": "python",
   "nbconvert_exporter": "python",
   "pygments_lexer": "ipython3",
   "version": "3.8.5-final"
  },
  "orig_nbformat": 2,
  "kernelspec": {
   "name": "python3",
   "display_name": "Python 3",
   "language": "python"
  }
 },
 "nbformat": 4,
 "nbformat_minor": 2,
 "cells": [
  {
   "cell_type": "code",
   "execution_count": 1,
   "metadata": {},
   "outputs": [],
   "source": [
    "from sklearn.model_selection import train_test_split\n",
    "from sklearn.ensemble import AdaBoostRegressor\n",
    "\n",
    "import pandas as pd\n",
    "import numpy as np\n",
    "\n",
    "import pickle"
   ]
  },
  {
   "cell_type": "code",
   "execution_count": 4,
   "metadata": {},
   "outputs": [
    {
     "output_type": "execute_result",
     "data": {
      "text/plain": [
       "       Unnamed: 0        date  hour holiday  weekday  count\n",
       "0               0  2018-01-01     0      No   Monday     34\n",
       "1               1  2018-01-01     1      No   Monday     49\n",
       "2               2  2018-01-01     2      No   Monday     37\n",
       "3               3  2018-01-01     3      No   Monday      9\n",
       "4               4  2018-01-01     4      No   Monday     12\n",
       "...           ...         ...   ...     ...      ...    ...\n",
       "17492       17492  2019-12-31    19      No  Tuesday    180\n",
       "17493       17493  2019-12-31    20      No  Tuesday    135\n",
       "17494       17494  2019-12-31    21      No  Tuesday    111\n",
       "17495       17495  2019-12-31    22      No  Tuesday     80\n",
       "17496       17496  2019-12-31    23      No  Tuesday    107\n",
       "\n",
       "[17497 rows x 6 columns]"
      ],
      "text/html": "<div>\n<style scoped>\n    .dataframe tbody tr th:only-of-type {\n        vertical-align: middle;\n    }\n\n    .dataframe tbody tr th {\n        vertical-align: top;\n    }\n\n    .dataframe thead th {\n        text-align: right;\n    }\n</style>\n<table border=\"1\" class=\"dataframe\">\n  <thead>\n    <tr style=\"text-align: right;\">\n      <th></th>\n      <th>Unnamed: 0</th>\n      <th>date</th>\n      <th>hour</th>\n      <th>holiday</th>\n      <th>weekday</th>\n      <th>count</th>\n    </tr>\n  </thead>\n  <tbody>\n    <tr>\n      <th>0</th>\n      <td>0</td>\n      <td>2018-01-01</td>\n      <td>0</td>\n      <td>No</td>\n      <td>Monday</td>\n      <td>34</td>\n    </tr>\n    <tr>\n      <th>1</th>\n      <td>1</td>\n      <td>2018-01-01</td>\n      <td>1</td>\n      <td>No</td>\n      <td>Monday</td>\n      <td>49</td>\n    </tr>\n    <tr>\n      <th>2</th>\n      <td>2</td>\n      <td>2018-01-01</td>\n      <td>2</td>\n      <td>No</td>\n      <td>Monday</td>\n      <td>37</td>\n    </tr>\n    <tr>\n      <th>3</th>\n      <td>3</td>\n      <td>2018-01-01</td>\n      <td>3</td>\n      <td>No</td>\n      <td>Monday</td>\n      <td>9</td>\n    </tr>\n    <tr>\n      <th>4</th>\n      <td>4</td>\n      <td>2018-01-01</td>\n      <td>4</td>\n      <td>No</td>\n      <td>Monday</td>\n      <td>12</td>\n    </tr>\n    <tr>\n      <th>...</th>\n      <td>...</td>\n      <td>...</td>\n      <td>...</td>\n      <td>...</td>\n      <td>...</td>\n      <td>...</td>\n    </tr>\n    <tr>\n      <th>17492</th>\n      <td>17492</td>\n      <td>2019-12-31</td>\n      <td>19</td>\n      <td>No</td>\n      <td>Tuesday</td>\n      <td>180</td>\n    </tr>\n    <tr>\n      <th>17493</th>\n      <td>17493</td>\n      <td>2019-12-31</td>\n      <td>20</td>\n      <td>No</td>\n      <td>Tuesday</td>\n      <td>135</td>\n    </tr>\n    <tr>\n      <th>17494</th>\n      <td>17494</td>\n      <td>2019-12-31</td>\n      <td>21</td>\n      <td>No</td>\n      <td>Tuesday</td>\n      <td>111</td>\n    </tr>\n    <tr>\n      <th>17495</th>\n      <td>17495</td>\n      <td>2019-12-31</td>\n      <td>22</td>\n      <td>No</td>\n      <td>Tuesday</td>\n      <td>80</td>\n    </tr>\n    <tr>\n      <th>17496</th>\n      <td>17496</td>\n      <td>2019-12-31</td>\n      <td>23</td>\n      <td>No</td>\n      <td>Tuesday</td>\n      <td>107</td>\n    </tr>\n  </tbody>\n</table>\n<p>17497 rows × 6 columns</p>\n</div>"
     },
     "metadata": {},
     "execution_count": 4
    }
   ],
   "source": [
    "## read the file\n",
    "\n",
    "df=pd.read_csv('newdata.csv')\n",
    "df"
   ]
  },
  {
   "cell_type": "code",
   "execution_count": 7,
   "metadata": {},
   "outputs": [],
   "source": [
    "df = df[['hour','holiday', 'weekday','count']]"
   ]
  },
  {
   "cell_type": "code",
   "execution_count": 9,
   "metadata": {},
   "outputs": [],
   "source": [
    "df.holiday = df.holiday.astype('category')\n",
    "df.weekday = df.weekday.astype('category')\n"
   ]
  },
  {
   "cell_type": "code",
   "execution_count": 16,
   "metadata": {},
   "outputs": [],
   "source": [
    "df = pd.get_dummies(df)"
   ]
  },
  {
   "cell_type": "code",
   "execution_count": 11,
   "metadata": {},
   "outputs": [],
   "source": [
    "## modelling\n",
    "\n",
    "x = df.drop(columns = ['count'])\n",
    "y = df['count']"
   ]
  },
  {
   "cell_type": "code",
   "execution_count": 12,
   "metadata": {},
   "outputs": [],
   "source": [
    "ada = AdaBoostRegressor()"
   ]
  },
  {
   "cell_type": "code",
   "execution_count": 13,
   "metadata": {},
   "outputs": [
    {
     "output_type": "execute_result",
     "data": {
      "text/plain": [
       "AdaBoostRegressor()"
      ]
     },
     "metadata": {},
     "execution_count": 13
    }
   ],
   "source": [
    "ada.fit(x,y)"
   ]
  },
  {
   "cell_type": "code",
   "execution_count": 14,
   "metadata": {},
   "outputs": [],
   "source": [
    "pickle.dump(ada, open('model.pkl','wb'))"
   ]
  },
  {
   "cell_type": "code",
   "execution_count": null,
   "metadata": {},
   "outputs": [],
   "source": []
  }
 ]
}